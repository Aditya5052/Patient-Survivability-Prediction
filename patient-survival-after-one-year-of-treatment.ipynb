{
 "cells": [
  {
   "cell_type": "markdown",
   "metadata": {
    "id": "kxFmAGxFedvQ",
    "papermill": {
     "duration": 0.099538,
     "end_time": "2020-10-03T08:42:55.914576",
     "exception": false,
     "start_time": "2020-10-03T08:42:55.815038",
     "status": "completed"
    },
    "tags": []
   },
   "source": [
    "# Agenda\n",
    "*  Problem Statement\n",
    "  *  Objective\n",
    "  *  Dataset & Data Description\n",
    "*  Solution Steps:\n",
    "  *  Load data\n",
    "  *  Understand your data: Data Analysis and Visualizations (EDA)\n",
    "  *  Pre-process the data\n",
    "  *  Prepare train and test datasets\n",
    "  *  Choose a model\n",
    "  *  Train your model\n",
    "  *  Evaluate the model (F1-score calculation)\n",
    "  *  Optimize: repeat steps 5 - 7\n",
    "*  Conclusion\n",
    "*  Prediction on New Test data\n",
    "  *  Load the new test data\n",
    "  *  Fill missing values if any\n",
    "  *  Preprocessing and cleaning the data\n",
    "  *  Predict the target values"
   ]
  },
  {
   "cell_type": "markdown",
   "metadata": {
    "id": "nfP6hNjz_GEs",
    "papermill": {
     "duration": 0.096556,
     "end_time": "2020-10-03T08:42:56.107899",
     "exception": false,
     "start_time": "2020-10-03T08:42:56.011343",
     "status": "completed"
    },
    "tags": []
   },
   "source": [
    "## Problem Statement\n",
    "### Objective\n",
    "A hospital in the province of Greenland has been trying to improve its care conditions by looking at historic survival of the patients. They tried looking at their data but could not identify the main factors leading to high survivals.\n",
    "\n",
    "You are the best data scientist in Greenland and they've hired you to solve this problem. Now you are responsible for developing a model that will predict the chances of survival of a patient after 1 year of treatment (Survived_1_year).\n",
    "\n",
    "### Dataset & Data Description\n",
    "The dataset contains the patient records collected from a hospital in Greenland. The \"Survived_1_year\" column is a target variable which has binary entries (0 or 1).\n",
    "\n",
    "*  Survived_1_year == 0, implies that the patient did not survive after 1 year of treatment\n",
    "*  Survived_1_year == 1, implies that the patient survived after 1 year of treatment\n",
    "\n",
    "To load the dataset in your jupyter notebook, use the below command:\n",
    "\n",
    "\n",
    "```\n",
    "import pandas as pd\n",
    "pharma_data = pd.read_csv('https://raw.githubusercontent.com/dphi-official/Datasets/master/pharma_data/Training_set_advc.csv')\n",
    "```\n",
    "\n",
    "\n",
    "#### Data Description:\n",
    "\n",
    "*  ID_Patient_Care_Situation: Care situation of a patient during treatment\n",
    "*  Diagnosed_Condition: The diagnosed condition of the patient\n",
    "*  ID_Patient: Patient identifier number\n",
    "*  Treatment_with_drugs: Class of drugs used during treatment\n",
    "*  Survived_1_year: If the patient survived after one year (0 means did not survive; 1 means survived)\n",
    "*  Patient_Age: Age of the patient\n",
    "*  Patient_Body_Mass_Index: A calculated value based on the patient’s weight, height, etc.\n",
    "*  Patient_Smoker: If the patient was a smoker or not\n",
    "*  Patient_Rural_Urban: If the patient stayed in Rural or Urban part of the country\n",
    "*  Previous_Condition: Condition of the patient before the start of the treatment ( This variable is splitted into 8 columns - A, B, C, D, E, F, Z and Number_of_prev_cond. A, B, C, D, E, F and Z are the previous conditions of the patient. Suppose for one patient, if the entry in column A is 1, it means that the previous condition of the patient was A. If the patient didn't have that condition, it is 0 and same for other conditions. If a patient has previous condition as A and C , columns A and C will have entries as 1 and 1 respectively while the other column B, D, E, F, Z will have entries 0, 0, 0, 0, 0 respectively. The column Number_of_prev_cond will have entry as 2 i.e. 1 + 0 + 1 + 0 + 0 + 0 + 0 + 0 = 2 in this case. )"
   ]
  },
  {
   "cell_type": "markdown",
   "metadata": {
    "id": "_sI7avYCFmXM",
    "papermill": {
     "duration": 0.096164,
     "end_time": "2020-10-03T08:42:56.301441",
     "exception": false,
     "start_time": "2020-10-03T08:42:56.205277",
     "status": "completed"
    },
    "tags": []
   },
   "source": [
    "## Solution steps:\n",
    "1. Load data\n",
    "2. Data Preparation\n",
    "3. Understand your data: EDA\n",
    "4. Pre-process the data \n",
    "5. Prepare train and test datasets\n",
    "6. Choose a model\n",
    "7. Train your model\n",
    "8. Evaluate the model (F1-score calculation)\n",
    "9. Optimize: repeat steps 5 - 7\n"
   ]
  },
  {
   "cell_type": "markdown",
   "metadata": {
    "id": "-A5dcWWJkT91",
    "papermill": {
     "duration": 0.102462,
     "end_time": "2020-10-03T08:42:56.501134",
     "exception": false,
     "start_time": "2020-10-03T08:42:56.398672",
     "status": "completed"
    },
    "tags": []
   },
   "source": [
    "### **Load Libraries**"
   ]
  },
  {
   "cell_type": "code",
   "execution_count": 1,
   "metadata": {
    "execution": {
     "iopub.execute_input": "2020-10-03T08:42:56.706494Z",
     "iopub.status.busy": "2020-10-03T08:42:56.705652Z",
     "iopub.status.idle": "2020-10-03T08:42:57.991989Z",
     "shell.execute_reply": "2020-10-03T08:42:57.991274Z"
    },
    "id": "6ZaU0CzM-EU_",
    "outputId": "ad0a9744-21c6-4678-a07d-2083b6b4eb2e",
    "papermill": {
     "duration": 1.391871,
     "end_time": "2020-10-03T08:42:57.992119",
     "exception": false,
     "start_time": "2020-10-03T08:42:56.600248",
     "status": "completed"
    },
    "tags": []
   },
   "outputs": [],
   "source": [
    "import pandas as pd   # package for data analysis\n",
    "import numpy as np    # package for numerical computations\n",
    "\n",
    "# libraries for visualization\n",
    "import matplotlib.pyplot as plt\n",
    "import seaborn as sns\n",
    "\n",
    "# to ignore warnings\n",
    "import warnings\n",
    "warnings.filterwarnings('ignore')\n",
    "\n",
    "# For Preprocessing, ML models and Evaluation\n",
    "from sklearn.model_selection import train_test_split   # To split the dataset into train and test set\n",
    "\n",
    "from sklearn.linear_model import LogisticRegression     # Logistic regression model\n",
    "\n",
    "from sklearn import preprocessing\n",
    "from sklearn.preprocessing import LabelEncoder    # for converting categorical to numerical\n",
    "\n",
    "from sklearn.metrics import f1_score    # for model evaluation"
   ]
  },
  {
   "cell_type": "markdown",
   "metadata": {
    "id": "1ZHArBgzkXdz",
    "papermill": {
     "duration": 0.096835,
     "end_time": "2020-10-03T08:42:58.186437",
     "exception": false,
     "start_time": "2020-10-03T08:42:58.089602",
     "status": "completed"
    },
    "tags": []
   },
   "source": [
    "### **Load Data**"
   ]
  },
  {
   "cell_type": "code",
   "execution_count": 2,
   "metadata": {
    "execution": {
     "iopub.execute_input": "2020-10-03T08:42:58.400991Z",
     "iopub.status.busy": "2020-10-03T08:42:58.400141Z",
     "iopub.status.idle": "2020-10-03T08:43:00.031446Z",
     "shell.execute_reply": "2020-10-03T08:43:00.030620Z"
    },
    "id": "PSsjGwsd9m-T",
    "papermill": {
     "duration": 1.748323,
     "end_time": "2020-10-03T08:43:00.031588",
     "exception": false,
     "start_time": "2020-10-03T08:42:58.283265",
     "status": "completed"
    },
    "tags": []
   },
   "outputs": [],
   "source": [
    "data = pd.read_csv('https://raw.githubusercontent.com/dphi-official/Datasets/master/pharma_data/Training_set_advc.csv')"
   ]
  },
  {
   "cell_type": "code",
   "execution_count": 3,
   "metadata": {
    "execution": {
     "iopub.execute_input": "2020-10-03T08:43:00.248747Z",
     "iopub.status.busy": "2020-10-03T08:43:00.247426Z",
     "iopub.status.idle": "2020-10-03T08:43:00.266545Z",
     "shell.execute_reply": "2020-10-03T08:43:00.265726Z"
    },
    "id": "K0U1o3CW-Fst",
    "outputId": "b3d41f0d-0676-4be3-bccd-628e824050ae",
    "papermill": {
     "duration": 0.136923,
     "end_time": "2020-10-03T08:43:00.266677",
     "exception": false,
     "start_time": "2020-10-03T08:43:00.129754",
     "status": "completed"
    },
    "tags": []
   },
   "outputs": [
    {
     "data": {
      "text/html": [
       "<div>\n",
       "<style scoped>\n",
       "    .dataframe tbody tr th:only-of-type {\n",
       "        vertical-align: middle;\n",
       "    }\n",
       "\n",
       "    .dataframe tbody tr th {\n",
       "        vertical-align: top;\n",
       "    }\n",
       "\n",
       "    .dataframe thead th {\n",
       "        text-align: right;\n",
       "    }\n",
       "</style>\n",
       "<table border=\"1\" class=\"dataframe\">\n",
       "  <thead>\n",
       "    <tr style=\"text-align: right;\">\n",
       "      <th></th>\n",
       "      <th>ID_Patient_Care_Situation</th>\n",
       "      <th>Diagnosed_Condition</th>\n",
       "      <th>Patient_ID</th>\n",
       "      <th>Treated_with_drugs</th>\n",
       "      <th>Patient_Age</th>\n",
       "      <th>Patient_Body_Mass_Index</th>\n",
       "      <th>Patient_Smoker</th>\n",
       "      <th>Patient_Rural_Urban</th>\n",
       "      <th>Patient_mental_condition</th>\n",
       "      <th>A</th>\n",
       "      <th>B</th>\n",
       "      <th>C</th>\n",
       "      <th>D</th>\n",
       "      <th>E</th>\n",
       "      <th>F</th>\n",
       "      <th>Z</th>\n",
       "      <th>Number_of_prev_cond</th>\n",
       "      <th>Survived_1_year</th>\n",
       "    </tr>\n",
       "  </thead>\n",
       "  <tbody>\n",
       "    <tr>\n",
       "      <th>0</th>\n",
       "      <td>16201</td>\n",
       "      <td>47</td>\n",
       "      <td>8433</td>\n",
       "      <td>DX2</td>\n",
       "      <td>60</td>\n",
       "      <td>21.655523</td>\n",
       "      <td>NO</td>\n",
       "      <td>URBAN</td>\n",
       "      <td>Stable</td>\n",
       "      <td>1.0</td>\n",
       "      <td>0.0</td>\n",
       "      <td>0.0</td>\n",
       "      <td>0.0</td>\n",
       "      <td>1.0</td>\n",
       "      <td>0.0</td>\n",
       "      <td>0.0</td>\n",
       "      <td>2.0</td>\n",
       "      <td>1</td>\n",
       "    </tr>\n",
       "    <tr>\n",
       "      <th>1</th>\n",
       "      <td>9421</td>\n",
       "      <td>3</td>\n",
       "      <td>2972</td>\n",
       "      <td>DX6</td>\n",
       "      <td>2</td>\n",
       "      <td>28.852743</td>\n",
       "      <td>NO</td>\n",
       "      <td>RURAL</td>\n",
       "      <td>Stable</td>\n",
       "      <td>1.0</td>\n",
       "      <td>0.0</td>\n",
       "      <td>1.0</td>\n",
       "      <td>0.0</td>\n",
       "      <td>1.0</td>\n",
       "      <td>0.0</td>\n",
       "      <td>0.0</td>\n",
       "      <td>3.0</td>\n",
       "      <td>0</td>\n",
       "    </tr>\n",
       "    <tr>\n",
       "      <th>2</th>\n",
       "      <td>16205</td>\n",
       "      <td>7</td>\n",
       "      <td>8608</td>\n",
       "      <td>Dx6</td>\n",
       "      <td>20</td>\n",
       "      <td>26.179725</td>\n",
       "      <td>NO</td>\n",
       "      <td>RURAL</td>\n",
       "      <td>Stable</td>\n",
       "      <td>1.0</td>\n",
       "      <td>0.0</td>\n",
       "      <td>0.0</td>\n",
       "      <td>0.0</td>\n",
       "      <td>1.0</td>\n",
       "      <td>0.0</td>\n",
       "      <td>0.0</td>\n",
       "      <td>2.0</td>\n",
       "      <td>1</td>\n",
       "    </tr>\n",
       "    <tr>\n",
       "      <th>3</th>\n",
       "      <td>5582</td>\n",
       "      <td>31</td>\n",
       "      <td>10074</td>\n",
       "      <td>dx6</td>\n",
       "      <td>8</td>\n",
       "      <td>22.638945</td>\n",
       "      <td>NO</td>\n",
       "      <td>RURAL</td>\n",
       "      <td>Stable</td>\n",
       "      <td>1.0</td>\n",
       "      <td>0.0</td>\n",
       "      <td>0.0</td>\n",
       "      <td>0.0</td>\n",
       "      <td>1.0</td>\n",
       "      <td>0.0</td>\n",
       "      <td>0.0</td>\n",
       "      <td>2.0</td>\n",
       "      <td>0</td>\n",
       "    </tr>\n",
       "    <tr>\n",
       "      <th>4</th>\n",
       "      <td>20880</td>\n",
       "      <td>43</td>\n",
       "      <td>7462</td>\n",
       "      <td>dx1</td>\n",
       "      <td>53</td>\n",
       "      <td>21.326131</td>\n",
       "      <td>NO</td>\n",
       "      <td>RURAL</td>\n",
       "      <td>Stable</td>\n",
       "      <td>1.0</td>\n",
       "      <td>0.0</td>\n",
       "      <td>0.0</td>\n",
       "      <td>0.0</td>\n",
       "      <td>0.0</td>\n",
       "      <td>0.0</td>\n",
       "      <td>0.0</td>\n",
       "      <td>1.0</td>\n",
       "      <td>1</td>\n",
       "    </tr>\n",
       "  </tbody>\n",
       "</table>\n",
       "</div>"
      ],
      "text/plain": [
       "   ID_Patient_Care_Situation  Diagnosed_Condition  Patient_ID  \\\n",
       "0                      16201                   47        8433   \n",
       "1                       9421                    3        2972   \n",
       "2                      16205                    7        8608   \n",
       "3                       5582                   31       10074   \n",
       "4                      20880                   43        7462   \n",
       "\n",
       "  Treated_with_drugs  Patient_Age  Patient_Body_Mass_Index Patient_Smoker  \\\n",
       "0                DX2           60                21.655523             NO   \n",
       "1                DX6            2                28.852743             NO   \n",
       "2                Dx6           20                26.179725             NO   \n",
       "3               dx6             8                22.638945             NO   \n",
       "4                dx1           53                21.326131             NO   \n",
       "\n",
       "  Patient_Rural_Urban Patient_mental_condition    A    B    C    D    E    F  \\\n",
       "0               URBAN                   Stable  1.0  0.0  0.0  0.0  1.0  0.0   \n",
       "1               RURAL                   Stable  1.0  0.0  1.0  0.0  1.0  0.0   \n",
       "2               RURAL                   Stable  1.0  0.0  0.0  0.0  1.0  0.0   \n",
       "3               RURAL                   Stable  1.0  0.0  0.0  0.0  1.0  0.0   \n",
       "4               RURAL                   Stable  1.0  0.0  0.0  0.0  0.0  0.0   \n",
       "\n",
       "     Z  Number_of_prev_cond  Survived_1_year  \n",
       "0  0.0                  2.0                1  \n",
       "1  0.0                  3.0                0  \n",
       "2  0.0                  2.0                1  \n",
       "3  0.0                  2.0                0  \n",
       "4  0.0                  1.0                1  "
      ]
     },
     "execution_count": 3,
     "metadata": {},
     "output_type": "execute_result"
    }
   ],
   "source": [
    "# Take a look at the first five observations\n",
    "data.head()"
   ]
  },
  {
   "cell_type": "markdown",
   "metadata": {
    "id": "-B0wPdG_4VLn",
    "papermill": {
     "duration": 0.098969,
     "end_time": "2020-10-03T08:43:00.464901",
     "exception": false,
     "start_time": "2020-10-03T08:43:00.365932",
     "status": "completed"
    },
    "tags": []
   },
   "source": [
    "We can see above the column - 'Treated_with_drugs' has two different value representing the same drug i.e. DX6 & dx6 are same drugs. This indicates that data preparation is required here. Let's see other categorical columns."
   ]
  },
  {
   "cell_type": "markdown",
   "metadata": {
    "id": "_PR3urOXE8-L",
    "papermill": {
     "duration": 0.100929,
     "end_time": "2020-10-03T08:43:00.665686",
     "exception": false,
     "start_time": "2020-10-03T08:43:00.564757",
     "status": "completed"
    },
    "tags": []
   },
   "source": [
    "### Data Preparation"
   ]
  },
  {
   "cell_type": "code",
   "execution_count": 4,
   "metadata": {
    "execution": {
     "iopub.execute_input": "2020-10-03T08:43:00.884793Z",
     "iopub.status.busy": "2020-10-03T08:43:00.883787Z",
     "iopub.status.idle": "2020-10-03T08:43:00.888925Z",
     "shell.execute_reply": "2020-10-03T08:43:00.888149Z"
    },
    "id": "gTs3zT3JA1gf",
    "outputId": "5fc16534-441f-4760-fbf5-ce5e0088987d",
    "papermill": {
     "duration": 0.121238,
     "end_time": "2020-10-03T08:43:00.889062",
     "exception": false,
     "start_time": "2020-10-03T08:43:00.767824",
     "status": "completed"
    },
    "tags": []
   },
   "outputs": [
    {
     "data": {
      "text/plain": [
       "DX6                     4812\n",
       "DX6                     2383\n",
       "DX5                     1153\n",
       "DX2                     1094\n",
       "DX4                     1045\n",
       "                        ... \n",
       "Dx1 dx2 dx3 dx4            1\n",
       "Dx1 dx3 dx4                1\n",
       "DX1 DX2 DX3 DX4 DX5        1\n",
       "Dx3 dx4 dx5                1\n",
       "Dx1 dx2 dx4 dx5            1\n",
       "Name: Treated_with_drugs, Length: 182, dtype: int64"
      ]
     },
     "execution_count": 4,
     "metadata": {},
     "output_type": "execute_result"
    }
   ],
   "source": [
    "data.Treated_with_drugs.value_counts()"
   ]
  },
  {
   "cell_type": "markdown",
   "metadata": {
    "id": "OcceMDGrBkW_",
    "papermill": {
     "duration": 0.100714,
     "end_time": "2020-10-03T08:43:01.090841",
     "exception": false,
     "start_time": "2020-10-03T08:43:00.990127",
     "status": "completed"
    },
    "tags": []
   },
   "source": [
    "Let's convert all the values in the column - 'Treated_with_drugs' to upper case"
   ]
  },
  {
   "cell_type": "code",
   "execution_count": 5,
   "metadata": {
    "execution": {
     "iopub.execute_input": "2020-10-03T08:43:01.308992Z",
     "iopub.status.busy": "2020-10-03T08:43:01.303951Z",
     "iopub.status.idle": "2020-10-03T08:43:01.319514Z",
     "shell.execute_reply": "2020-10-03T08:43:01.318834Z"
    },
    "id": "inN_CkbHB17c",
    "papermill": {
     "duration": 0.128301,
     "end_time": "2020-10-03T08:43:01.319664",
     "exception": false,
     "start_time": "2020-10-03T08:43:01.191363",
     "status": "completed"
    },
    "tags": []
   },
   "outputs": [],
   "source": [
    "data['Treated_with_drugs'] = data['Treated_with_drugs'].str.upper()"
   ]
  },
  {
   "cell_type": "code",
   "execution_count": 6,
   "metadata": {
    "execution": {
     "iopub.execute_input": "2020-10-03T08:43:01.534030Z",
     "iopub.status.busy": "2020-10-03T08:43:01.532913Z",
     "iopub.status.idle": "2020-10-03T08:43:01.538196Z",
     "shell.execute_reply": "2020-10-03T08:43:01.537528Z"
    },
    "id": "C-UgeG5UB-4X",
    "outputId": "8d5b73f8-d51e-459d-b4cf-656b69f09973",
    "papermill": {
     "duration": 0.119028,
     "end_time": "2020-10-03T08:43:01.538384",
     "exception": false,
     "start_time": "2020-10-03T08:43:01.419356",
     "status": "completed"
    },
    "tags": []
   },
   "outputs": [
    {
     "data": {
      "text/plain": [
       "NO             10511\n",
       "YES             7833\n",
       "NO              3891\n",
       "YES             2710\n",
       "YESS             100\n",
       "YESS              26\n",
       "Cannot say         4\n",
       "Cannot say         2\n",
       "CANNOT SAY         1\n",
       "CANNOT SAY         1\n",
       "Name: Patient_Smoker, dtype: int64"
      ]
     },
     "execution_count": 6,
     "metadata": {},
     "output_type": "execute_result"
    }
   ],
   "source": [
    "data.Patient_Smoker.value_counts()"
   ]
  },
  {
   "cell_type": "markdown",
   "metadata": {
    "id": "3pFRe99VCJsf",
    "papermill": {
     "duration": 0.100428,
     "end_time": "2020-10-03T08:43:01.739585",
     "exception": false,
     "start_time": "2020-10-03T08:43:01.639157",
     "status": "completed"
    },
    "tags": []
   },
   "source": [
    "There should be three category here - NO, YES, and Cannot say"
   ]
  },
  {
   "cell_type": "code",
   "execution_count": 7,
   "metadata": {
    "execution": {
     "iopub.execute_input": "2020-10-03T08:43:01.961204Z",
     "iopub.status.busy": "2020-10-03T08:43:01.960132Z",
     "iopub.status.idle": "2020-10-03T08:43:01.963922Z",
     "shell.execute_reply": "2020-10-03T08:43:01.963317Z"
    },
    "id": "oPvlDOFsCdrw",
    "papermill": {
     "duration": 0.123266,
     "end_time": "2020-10-03T08:43:01.964062",
     "exception": false,
     "start_time": "2020-10-03T08:43:01.840796",
     "status": "completed"
    },
    "tags": []
   },
   "outputs": [],
   "source": [
    "def smoker(r):\n",
    "  if (r == \"NO\") or (r == \"NO \"):\n",
    "    return 'NO'\n",
    "  elif (r == \"YES\") or (r == \"YES \") or (r == \"YESS\") or (r == \"YESS \"):\n",
    "    return 'YES'\n",
    "  else:\n",
    "    return 'Cannot say'\n",
    "\n",
    "data.Patient_Smoker = data.Patient_Smoker.apply(smoker)  # Applying the function to all the entries of Patient_Smoker column"
   ]
  },
  {
   "cell_type": "code",
   "execution_count": 8,
   "metadata": {
    "execution": {
     "iopub.execute_input": "2020-10-03T08:43:02.181707Z",
     "iopub.status.busy": "2020-10-03T08:43:02.178577Z",
     "iopub.status.idle": "2020-10-03T08:43:02.186272Z",
     "shell.execute_reply": "2020-10-03T08:43:02.186839Z"
    },
    "id": "0q0rufVrEUZk",
    "outputId": "65dd016d-0343-4819-84a1-54c6e44b9867",
    "papermill": {
     "duration": 0.122131,
     "end_time": "2020-10-03T08:43:02.187019",
     "exception": false,
     "start_time": "2020-10-03T08:43:02.064888",
     "status": "completed"
    },
    "tags": []
   },
   "outputs": [
    {
     "data": {
      "text/plain": [
       "RURAL    17482\n",
       "URBAN     7597\n",
       "Name: Patient_Rural_Urban, dtype: int64"
      ]
     },
     "execution_count": 8,
     "metadata": {},
     "output_type": "execute_result"
    }
   ],
   "source": [
    "data.Patient_Rural_Urban.value_counts()"
   ]
  },
  {
   "cell_type": "code",
   "execution_count": 9,
   "metadata": {
    "execution": {
     "iopub.execute_input": "2020-10-03T08:43:02.455024Z",
     "iopub.status.busy": "2020-10-03T08:43:02.454100Z",
     "iopub.status.idle": "2020-10-03T08:43:02.458769Z",
     "shell.execute_reply": "2020-10-03T08:43:02.459359Z"
    },
    "id": "f0FQlz8vEdrr",
    "outputId": "207646fe-9e13-4d4d-d0a7-265f3a55bd06",
    "papermill": {
     "duration": 0.120091,
     "end_time": "2020-10-03T08:43:02.459528",
     "exception": false,
     "start_time": "2020-10-03T08:43:02.339437",
     "status": "completed"
    },
    "tags": []
   },
   "outputs": [
    {
     "data": {
      "text/plain": [
       "Stable    25079\n",
       "Name: Patient_mental_condition, dtype: int64"
      ]
     },
     "execution_count": 9,
     "metadata": {},
     "output_type": "execute_result"
    }
   ],
   "source": [
    "data.Patient_mental_condition.value_counts()"
   ]
  },
  {
   "cell_type": "markdown",
   "metadata": {
    "id": "2YEHBR8JEiyv",
    "papermill": {
     "duration": 0.101375,
     "end_time": "2020-10-03T08:43:02.663862",
     "exception": false,
     "start_time": "2020-10-03T08:43:02.562487",
     "status": "completed"
    },
    "tags": []
   },
   "source": [
    "There are no same value in different format in columns - 'Patient_Rural_Urban' and 'Patient_mental_condition'. So no data preparation required here. Now our dataset is good to go for EDA."
   ]
  },
  {
   "cell_type": "markdown",
   "metadata": {
    "id": "k260ixdn6DS7",
    "papermill": {
     "duration": 0.145451,
     "end_time": "2020-10-03T08:43:02.912510",
     "exception": false,
     "start_time": "2020-10-03T08:43:02.767059",
     "status": "completed"
    },
    "tags": []
   },
   "source": [
    "### **EDA** "
   ]
  },
  {
   "cell_type": "markdown",
   "metadata": {
    "id": "NCC1_nGuTcqB",
    "papermill": {
     "duration": 0.106628,
     "end_time": "2020-10-03T08:43:03.131465",
     "exception": false,
     "start_time": "2020-10-03T08:43:03.024837",
     "status": "completed"
    },
    "tags": []
   },
   "source": [
    "Primary screenings: \n",
    "1. Get a look at the data, its columns and kind of values contained in these columns: df.head()\n",
    "2. Stepping back a bit, get a look at the column overview: number, types, NULL counts: df.info()"
   ]
  },
  {
   "cell_type": "code",
   "execution_count": 10,
   "metadata": {
    "execution": {
     "iopub.execute_input": "2020-10-03T08:43:03.356098Z",
     "iopub.status.busy": "2020-10-03T08:43:03.342378Z",
     "iopub.status.idle": "2020-10-03T08:43:03.374494Z",
     "shell.execute_reply": "2020-10-03T08:43:03.373692Z"
    },
    "id": "_rjqyn7U-aJ8",
    "outputId": "a4de8b04-cde3-453c-f715-1af9e51d0a8a",
    "papermill": {
     "duration": 0.140711,
     "end_time": "2020-10-03T08:43:03.374630",
     "exception": false,
     "start_time": "2020-10-03T08:43:03.233919",
     "status": "completed"
    },
    "tags": []
   },
   "outputs": [
    {
     "name": "stdout",
     "output_type": "stream",
     "text": [
      "<class 'pandas.core.frame.DataFrame'>\n",
      "RangeIndex: 25079 entries, 0 to 25078\n",
      "Data columns (total 18 columns):\n",
      " #   Column                     Non-Null Count  Dtype  \n",
      "---  ------                     --------------  -----  \n",
      " 0   ID_Patient_Care_Situation  25079 non-null  int64  \n",
      " 1   Diagnosed_Condition        25079 non-null  int64  \n",
      " 2   Patient_ID                 25079 non-null  int64  \n",
      " 3   Treated_with_drugs         25071 non-null  object \n",
      " 4   Patient_Age                25079 non-null  int64  \n",
      " 5   Patient_Body_Mass_Index    25079 non-null  float64\n",
      " 6   Patient_Smoker             25079 non-null  object \n",
      " 7   Patient_Rural_Urban        25079 non-null  object \n",
      " 8   Patient_mental_condition   25079 non-null  object \n",
      " 9   A                          23723 non-null  float64\n",
      " 10  B                          23723 non-null  float64\n",
      " 11  C                          23723 non-null  float64\n",
      " 12  D                          23723 non-null  float64\n",
      " 13  E                          23723 non-null  float64\n",
      " 14  F                          23723 non-null  float64\n",
      " 15  Z                          23723 non-null  float64\n",
      " 16  Number_of_prev_cond        23723 non-null  float64\n",
      " 17  Survived_1_year            25079 non-null  int64  \n",
      "dtypes: float64(9), int64(5), object(4)\n",
      "memory usage: 3.4+ MB\n"
     ]
    }
   ],
   "source": [
    "# A concise summary of the data\n",
    "data.info()"
   ]
  },
  {
   "cell_type": "markdown",
   "metadata": {
    "id": "O-LSBoRwBaGQ",
    "papermill": {
     "duration": 0.100897,
     "end_time": "2020-10-03T08:43:03.578183",
     "exception": false,
     "start_time": "2020-10-03T08:43:03.477286",
     "status": "completed"
    },
    "tags": []
   },
   "source": [
    "**Observations:**\n",
    "\n",
    "1. There are 23097 observations divided into 17 columns.\n",
    "2. There are some missing values in the dataset.\n"
   ]
  },
  {
   "cell_type": "markdown",
   "metadata": {
    "id": "eWqUWJ5Mfi6K",
    "papermill": {
     "duration": 0.103732,
     "end_time": "2020-10-03T08:43:03.785498",
     "exception": false,
     "start_time": "2020-10-03T08:43:03.681766",
     "status": "completed"
    },
    "tags": []
   },
   "source": [
    "Let's take a look at the distribution of our target variable to determine if we have a balanced dataset\n"
   ]
  },
  {
   "cell_type": "code",
   "execution_count": 11,
   "metadata": {
    "execution": {
     "iopub.execute_input": "2020-10-03T08:43:03.998676Z",
     "iopub.status.busy": "2020-10-03T08:43:03.997879Z",
     "iopub.status.idle": "2020-10-03T08:43:04.188048Z",
     "shell.execute_reply": "2020-10-03T08:43:04.187434Z"
    },
    "id": "1y4UyfawflH8",
    "outputId": "9c1e006c-31fd-4f41-86a9-b0f559749cdb",
    "papermill": {
     "duration": 0.299992,
     "end_time": "2020-10-03T08:43:04.188189",
     "exception": false,
     "start_time": "2020-10-03T08:43:03.888197",
     "status": "completed"
    },
    "tags": []
   },
   "outputs": [
    {
     "data": {
      "image/png": "[encoded data removed]",
      "text/plain": [
       "<Figure size 432x288 with 1 Axes>"
      ]
     },
     "metadata": {
      "needs_background": "light"
     },
     "output_type": "display_data"
    }
   ],
   "source": [
    "sns.countplot(x='Survived_1_year', data=data)\n",
    "plt.show()"
   ]
  },
  {
   "cell_type": "markdown",
   "metadata": {
    "id": "Onqv3ONRB5M2",
    "papermill": {
     "duration": 0.103404,
     "end_time": "2020-10-03T08:43:04.394803",
     "exception": false,
     "start_time": "2020-10-03T08:43:04.291399",
     "status": "completed"
    },
    "tags": []
   },
   "source": [
    "There are 8000 + patients who did not survive after 1 year of treatment and 14000 + patients who survived after 1 year of treatment. The ratio is 1:2 (approx). So there is no class imbalance"
   ]
  },
  {
   "cell_type": "markdown",
   "metadata": {
    "id": "r20IBeLLUN4p",
    "papermill": {
     "duration": 0.104257,
     "end_time": "2020-10-03T08:43:04.602884",
     "exception": false,
     "start_time": "2020-10-03T08:43:04.498627",
     "status": "completed"
    },
    "tags": []
   },
   "source": [
    "Next, we will perform EDA on our continuous variables\n",
    "\n",
    "---\n",
    "\n"
   ]
  },
  {
   "cell_type": "code",
   "execution_count": 12,
   "metadata": {
    "execution": {
     "iopub.execute_input": "2020-10-03T08:43:04.830193Z",
     "iopub.status.busy": "2020-10-03T08:43:04.829276Z",
     "iopub.status.idle": "2020-10-03T08:43:04.834098Z",
     "shell.execute_reply": "2020-10-03T08:43:04.833513Z"
    },
    "id": "zifEOmtxSzfI",
    "outputId": "aeb080d8-f37e-49ce-c365-01934553e87b",
    "papermill": {
     "duration": 0.121516,
     "end_time": "2020-10-03T08:43:04.834249",
     "exception": false,
     "start_time": "2020-10-03T08:43:04.712733",
     "status": "completed"
    },
    "tags": []
   },
   "outputs": [
    {
     "data": {
      "text/plain": [
       "Index(['ID_Patient_Care_Situation', 'Diagnosed_Condition', 'Patient_ID',\n",
       "       'Patient_Age', 'Patient_Body_Mass_Index', 'A', 'B', 'C', 'D', 'E', 'F',\n",
       "       'Z', 'Number_of_prev_cond', 'Survived_1_year'],\n",
       "      dtype='object')"
      ]
     },
     "execution_count": 12,
     "metadata": {},
     "output_type": "execute_result"
    }
   ],
   "source": [
    "# getting only the numerical features\n",
    "numeric_features = data.select_dtypes(include=[np.number])    # select_dtypes helps you to select data of particular types \n",
    "numeric_features.columns"
   ]
  },
  {
   "cell_type": "code",
   "execution_count": 13,
   "metadata": {
    "execution": {
     "iopub.execute_input": "2020-10-03T08:43:05.057187Z",
     "iopub.status.busy": "2020-10-03T08:43:05.056154Z",
     "iopub.status.idle": "2020-10-03T08:43:05.061394Z",
     "shell.execute_reply": "2020-10-03T08:43:05.060644Z"
    },
    "id": "0cFUfBgNYt2A",
    "outputId": "bd7ea013-42f7-48ac-fc67-ce7553ac0a9c",
    "papermill": {
     "duration": 0.12341,
     "end_time": "2020-10-03T08:43:05.061542",
     "exception": false,
     "start_time": "2020-10-03T08:43:04.938132",
     "status": "completed"
    },
    "tags": []
   },
   "outputs": [
    {
     "data": {
      "text/html": [
       "<div>\n",
       "<style scoped>\n",
       "    .dataframe tbody tr th:only-of-type {\n",
       "        vertical-align: middle;\n",
       "    }\n",
       "\n",
       "    .dataframe tbody tr th {\n",
       "        vertical-align: top;\n",
       "    }\n",
       "\n",
       "    .dataframe thead th {\n",
       "        text-align: right;\n",
       "    }\n",
       "</style>\n",
       "<table border=\"1\" class=\"dataframe\">\n",
       "  <thead>\n",
       "    <tr style=\"text-align: right;\">\n",
       "      <th></th>\n",
       "      <th>Diagnosed_Condition</th>\n",
       "      <th>Patient_Age</th>\n",
       "      <th>Patient_Body_Mass_Index</th>\n",
       "      <th>Number_of_prev_cond</th>\n",
       "      <th>Survived_1_year</th>\n",
       "    </tr>\n",
       "  </thead>\n",
       "  <tbody>\n",
       "    <tr>\n",
       "      <th>0</th>\n",
       "      <td>47</td>\n",
       "      <td>60</td>\n",
       "      <td>21.655523</td>\n",
       "      <td>2.0</td>\n",
       "      <td>1</td>\n",
       "    </tr>\n",
       "    <tr>\n",
       "      <th>1</th>\n",
       "      <td>3</td>\n",
       "      <td>2</td>\n",
       "      <td>28.852743</td>\n",
       "      <td>3.0</td>\n",
       "      <td>0</td>\n",
       "    </tr>\n",
       "    <tr>\n",
       "      <th>2</th>\n",
       "      <td>7</td>\n",
       "      <td>20</td>\n",
       "      <td>26.179725</td>\n",
       "      <td>2.0</td>\n",
       "      <td>1</td>\n",
       "    </tr>\n",
       "    <tr>\n",
       "      <th>3</th>\n",
       "      <td>31</td>\n",
       "      <td>8</td>\n",
       "      <td>22.638945</td>\n",
       "      <td>2.0</td>\n",
       "      <td>0</td>\n",
       "    </tr>\n",
       "    <tr>\n",
       "      <th>4</th>\n",
       "      <td>43</td>\n",
       "      <td>53</td>\n",
       "      <td>21.326131</td>\n",
       "      <td>1.0</td>\n",
       "      <td>1</td>\n",
       "    </tr>\n",
       "  </tbody>\n",
       "</table>\n",
       "</div>"
      ],
      "text/plain": [
       "   Diagnosed_Condition  Patient_Age  Patient_Body_Mass_Index  \\\n",
       "0                   47           60                21.655523   \n",
       "1                    3            2                28.852743   \n",
       "2                    7           20                26.179725   \n",
       "3                   31            8                22.638945   \n",
       "4                   43           53                21.326131   \n",
       "\n",
       "   Number_of_prev_cond  Survived_1_year  \n",
       "0                  2.0                1  \n",
       "1                  3.0                0  \n",
       "2                  2.0                1  \n",
       "3                  2.0                0  \n",
       "4                  1.0                1  "
      ]
     },
     "execution_count": 13,
     "metadata": {},
     "output_type": "execute_result"
    }
   ],
   "source": [
    "numeric_data=data[['Diagnosed_Condition', 'Patient_Age', 'Patient_Body_Mass_Index', 'Number_of_prev_cond', 'Survived_1_year']]  #keeping in the target varibale for analysis purposes\n",
    "numeric_data.head()\n",
    "\n",
    "# ID_Patient_Care_Situation and Patient_ID are just an ID we can ignore them for data analysis.\n",
    "# Number_of_prev_cond is dependent on 7 columns - A, B, C, D, E, F, Z"
   ]
  },
  {
   "cell_type": "code",
   "execution_count": 14,
   "metadata": {
    "execution": {
     "iopub.execute_input": "2020-10-03T08:43:05.277410Z",
     "iopub.status.busy": "2020-10-03T08:43:05.276618Z",
     "iopub.status.idle": "2020-10-03T08:43:05.283927Z",
     "shell.execute_reply": "2020-10-03T08:43:05.284600Z"
    },
    "id": "htzs_elyYhTB",
    "outputId": "f9d5786a-2d1f-4bea-9dec-9ee9402eff2a",
    "papermill": {
     "duration": 0.118968,
     "end_time": "2020-10-03T08:43:05.284771",
     "exception": false,
     "start_time": "2020-10-03T08:43:05.165803",
     "status": "completed"
    },
    "tags": []
   },
   "outputs": [
    {
     "data": {
      "text/plain": [
       "Diagnosed_Condition           0\n",
       "Patient_Age                   0\n",
       "Patient_Body_Mass_Index       0\n",
       "Number_of_prev_cond        1356\n",
       "Survived_1_year               0\n",
       "dtype: int64"
      ]
     },
     "execution_count": 14,
     "metadata": {},
     "output_type": "execute_result"
    }
   ],
   "source": [
    "# Checking the null values in numerical columns\n",
    "numeric_data.isnull().sum()"
   ]
  },
  {
   "cell_type": "markdown",
   "metadata": {
    "id": "XB5Wk7X9aFnk",
    "papermill": {
     "duration": 0.104629,
     "end_time": "2020-10-03T08:43:05.494478",
     "exception": false,
     "start_time": "2020-10-03T08:43:05.389849",
     "status": "completed"
    },
    "tags": []
   },
   "source": [
    "We can see that 1235 values are missing from 'Number_of_prev_cond' column. We will fill these with the mode. \n",
    "\n",
    "**Why mode?** As per the data description this column's value is dependent on the seven columns - 'A', 'B', 'C', 'D', 'E', 'F', 'Z'. These columns have values either 0 or 1. Hence these seven columns are categorical columns. So the column 'Number_of_prev_cond' have discrete values from integers 0 to 7 and can be considered as categorical column as it has only 7 different values. Hence here we can fill the missing values with mode."
   ]
  },
  {
   "cell_type": "code",
   "execution_count": 15,
   "metadata": {
    "execution": {
     "iopub.execute_input": "2020-10-03T08:43:05.711981Z",
     "iopub.status.busy": "2020-10-03T08:43:05.711169Z",
     "iopub.status.idle": "2020-10-03T08:43:05.720780Z",
     "shell.execute_reply": "2020-10-03T08:43:05.721409Z"
    },
    "id": "ZmaoC8O2Z_kV",
    "outputId": "4ee0d922-eea0-423f-f419-d1de54b66d9e",
    "papermill": {
     "duration": 0.122239,
     "end_time": "2020-10-03T08:43:05.721580",
     "exception": false,
     "start_time": "2020-10-03T08:43:05.599341",
     "status": "completed"
    },
    "tags": []
   },
   "outputs": [
    {
     "data": {
      "text/plain": [
       "Diagnosed_Condition        0\n",
       "Patient_Age                0\n",
       "Patient_Body_Mass_Index    0\n",
       "Number_of_prev_cond        0\n",
       "Survived_1_year            0\n",
       "dtype: int64"
      ]
     },
     "execution_count": 15,
     "metadata": {},
     "output_type": "execute_result"
    }
   ],
   "source": [
    "data['Number_of_prev_cond'] = data['Number_of_prev_cond'].fillna(data['Number_of_prev_cond'].mode()[0])  # filling the missing value of 'Number_of_prev_cond'\n",
    "\n",
    "numeric_data['Number_of_prev_cond']=data['Number_of_prev_cond']\n",
    "numeric_data.isnull().sum()\n",
    "\n",
    "# The returned object by using mode() is a series so we are filling the null value with the value at 0th index ( which gives us the mode of the data)"
   ]
  },
  {
   "cell_type": "code",
   "execution_count": 16,
   "metadata": {
    "execution": {
     "iopub.execute_input": "2020-10-03T08:43:05.942959Z",
     "iopub.status.busy": "2020-10-03T08:43:05.942167Z",
     "iopub.status.idle": "2020-10-03T08:43:05.973841Z",
     "shell.execute_reply": "2020-10-03T08:43:05.973198Z"
    },
    "id": "8XGDqIqsljWL",
    "outputId": "5df895ce-2830-4864-f2f4-4effe103325a",
    "papermill": {
     "duration": 0.144995,
     "end_time": "2020-10-03T08:43:05.973976",
     "exception": false,
     "start_time": "2020-10-03T08:43:05.828981",
     "status": "completed"
    },
    "tags": []
   },
   "outputs": [
    {
     "data": {
      "text/html": [
       "<div>\n",
       "<style scoped>\n",
       "    .dataframe tbody tr th:only-of-type {\n",
       "        vertical-align: middle;\n",
       "    }\n",
       "\n",
       "    .dataframe tbody tr th {\n",
       "        vertical-align: top;\n",
       "    }\n",
       "\n",
       "    .dataframe thead th {\n",
       "        text-align: right;\n",
       "    }\n",
       "</style>\n",
       "<table border=\"1\" class=\"dataframe\">\n",
       "  <thead>\n",
       "    <tr style=\"text-align: right;\">\n",
       "      <th></th>\n",
       "      <th>Diagnosed_Condition</th>\n",
       "      <th>Patient_Age</th>\n",
       "      <th>Patient_Body_Mass_Index</th>\n",
       "      <th>Number_of_prev_cond</th>\n",
       "      <th>Survived_1_year</th>\n",
       "    </tr>\n",
       "  </thead>\n",
       "  <tbody>\n",
       "    <tr>\n",
       "      <th>count</th>\n",
       "      <td>25079.000000</td>\n",
       "      <td>25079.000000</td>\n",
       "      <td>25079.000000</td>\n",
       "      <td>25079.000000</td>\n",
       "      <td>25079.000000</td>\n",
       "    </tr>\n",
       "    <tr>\n",
       "      <th>mean</th>\n",
       "      <td>26.382631</td>\n",
       "      <td>33.193548</td>\n",
       "      <td>23.439952</td>\n",
       "      <td>1.707803</td>\n",
       "      <td>0.634316</td>\n",
       "    </tr>\n",
       "    <tr>\n",
       "      <th>std</th>\n",
       "      <td>15.096967</td>\n",
       "      <td>19.507617</td>\n",
       "      <td>3.778849</td>\n",
       "      <td>0.768082</td>\n",
       "      <td>0.481631</td>\n",
       "    </tr>\n",
       "    <tr>\n",
       "      <th>min</th>\n",
       "      <td>0.000000</td>\n",
       "      <td>0.000000</td>\n",
       "      <td>1.089300</td>\n",
       "      <td>1.000000</td>\n",
       "      <td>0.000000</td>\n",
       "    </tr>\n",
       "    <tr>\n",
       "      <th>25%</th>\n",
       "      <td>13.000000</td>\n",
       "      <td>16.000000</td>\n",
       "      <td>20.205050</td>\n",
       "      <td>1.000000</td>\n",
       "      <td>0.000000</td>\n",
       "    </tr>\n",
       "    <tr>\n",
       "      <th>50%</th>\n",
       "      <td>26.000000</td>\n",
       "      <td>33.000000</td>\n",
       "      <td>23.369168</td>\n",
       "      <td>2.000000</td>\n",
       "      <td>1.000000</td>\n",
       "    </tr>\n",
       "    <tr>\n",
       "      <th>75%</th>\n",
       "      <td>40.000000</td>\n",
       "      <td>50.000000</td>\n",
       "      <td>26.730785</td>\n",
       "      <td>2.000000</td>\n",
       "      <td>1.000000</td>\n",
       "    </tr>\n",
       "    <tr>\n",
       "      <th>max</th>\n",
       "      <td>52.000000</td>\n",
       "      <td>142.000000</td>\n",
       "      <td>29.999579</td>\n",
       "      <td>5.000000</td>\n",
       "      <td>1.000000</td>\n",
       "    </tr>\n",
       "  </tbody>\n",
       "</table>\n",
       "</div>"
      ],
      "text/plain": [
       "       Diagnosed_Condition   Patient_Age  Patient_Body_Mass_Index  \\\n",
       "count         25079.000000  25079.000000             25079.000000   \n",
       "mean             26.382631     33.193548                23.439952   \n",
       "std              15.096967     19.507617                 3.778849   \n",
       "min               0.000000      0.000000                 1.089300   \n",
       "25%              13.000000     16.000000                20.205050   \n",
       "50%              26.000000     33.000000                23.369168   \n",
       "75%              40.000000     50.000000                26.730785   \n",
       "max              52.000000    142.000000                29.999579   \n",
       "\n",
       "       Number_of_prev_cond  Survived_1_year  \n",
       "count         25079.000000     25079.000000  \n",
       "mean              1.707803         0.634316  \n",
       "std               0.768082         0.481631  \n",
       "min               1.000000         0.000000  \n",
       "25%               1.000000         0.000000  \n",
       "50%               2.000000         1.000000  \n",
       "75%               2.000000         1.000000  \n",
       "max               5.000000         1.000000  "
      ]
     },
     "execution_count": 16,
     "metadata": {},
     "output_type": "execute_result"
    }
   ],
   "source": [
    "# Taking a look at the basic statistical description of the numerical columns\n",
    "numeric_data.describe()"
   ]
  },
  {
   "cell_type": "markdown",
   "metadata": {
    "id": "hUz74HAIHZ6C",
    "papermill": {
     "duration": 0.107121,
     "end_time": "2020-10-03T08:43:06.187775",
     "exception": false,
     "start_time": "2020-10-03T08:43:06.080654",
     "status": "completed"
    },
    "tags": []
   },
   "source": [
    "**observations**\n",
    "\n",
    "1. The minimum and maximum values for all the numerical columns.\n",
    "2. The mean and median (i.e. 50%) value for all the numerical columns are nearly same.\n"
   ]
  },
  {
   "cell_type": "markdown",
   "metadata": {
    "id": "AaVFSXCxlk1O",
    "papermill": {
     "duration": 0.110105,
     "end_time": "2020-10-03T08:43:06.404641",
     "exception": false,
     "start_time": "2020-10-03T08:43:06.294536",
     "status": "completed"
    },
    "tags": []
   },
   "source": [
    "A good way to visualize the above information would be boxplots.\n",
    "\n",
    "**Box Plot**\n",
    "\n",
    "A box plot is a great way to get a visual sense of an entire range of data. It can tell you about your outliers and what their values are. It can also tell you if your data is symmetrical, how tightly your data is grouped, and if and how your data is skewed.\n",
    "\n",
    "Box plots divides data into its quartiles. The “box” shows a user the data set between the first and third quartiles.\n",
    "\n",
    "The median gets drawn somewhere inside the box and then you see the most extreme non-outliers to finish the plot. Those lines are known as the “whiskers”. If there are any outliers then those can be plotted as well.\n",
    "\n",
    "With box plots you can answer how diverse or uniform your data might be. You can identify what is normal and what is extreme. Box plots help give a shape to your data that is broad without sacrificing the ability to look at any piece and ask more questions.\n",
    "\n",
    "It displays the five-number summary of a set of data. The five-number summary is:\n",
    "\n",
    "*  minimum\n",
    "*  first quartile (Q1)\n",
    "*  median\n",
    "*  third quartile (Q3)\n",
    "*  maximum\n",
    "\n",
    "Boxplot also helps you to check if there are any outliers in your data or not.\n",
    "\n",
    "For reading about boxplot and outliers: https://towardsdatascience.com/ways-to-detect-and-remove-the-outliers-404d16608dba\n",
    "\n",
    "Read more about Box Plots [here](https://towardsdatascience.com/understanding-boxplots-5e2df7bcbd51)."
   ]
  },
  {
   "cell_type": "code",
   "execution_count": 17,
   "metadata": {
    "execution": {
     "iopub.execute_input": "2020-10-03T08:43:06.637408Z",
     "iopub.status.busy": "2020-10-03T08:43:06.636604Z",
     "iopub.status.idle": "2020-10-03T08:43:07.323420Z",
     "shell.execute_reply": "2020-10-03T08:43:07.322657Z"
    },
    "id": "xrZudljNbuu8",
    "outputId": "31802d21-5edf-4b3e-ec87-1d809d05fcbc",
    "papermill": {
     "duration": 0.805561,
     "end_time": "2020-10-03T08:43:07.323547",
     "exception": false,
     "start_time": "2020-10-03T08:43:06.517986",
     "status": "completed"
    },
    "tags": []
   },
   "outputs": [
    {
     "data": {
      "image/png": "[encoded data removed]",
      "text/plain": [
       "<Figure size 432x288 with 1 Axes>"
      ]
     },
     "metadata": {
      "needs_background": "light"
     },
     "output_type": "display_data"
    },
    {
     "data": {
      "image/png": "[encoded data removed]",
      "text/plain": [
       "<Figure size 432x288 with 1 Axes>"
      ]
     },
     "metadata": {
      "needs_background": "light"
     },
     "output_type": "display_data"
    },
    {
     "data": {
      "image/png": "[encoded data removed]",
      "text/plain": [
       "<Figure size 432x288 with 1 Axes>"
      ]
     },
     "metadata": {
      "needs_background": "light"
     },
     "output_type": "display_data"
    },
    {
     "data": {
      "image/png": "[encoded data removed]",
      "text/plain": [
       "<Figure size 432x288 with 1 Axes>"
      ]
     },
     "metadata": {
      "needs_background": "light"
     },
     "output_type": "display_data"
    }
   ],
   "source": [
    "\n",
    "for feature in numeric_data.drop('Survived_1_year', axis = 1).columns:\n",
    "  sns.boxplot(x='Survived_1_year', y=feature, data=numeric_data)\n",
    "  plt.show()"
   ]
  },
  {
   "cell_type": "markdown",
   "metadata": {
    "id": "EFCq9b3zWqtc",
    "papermill": {
     "duration": 0.109827,
     "end_time": "2020-10-03T08:43:07.544281",
     "exception": false,
     "start_time": "2020-10-03T08:43:07.434454",
     "status": "completed"
    },
    "tags": []
   },
   "source": [
    "We can also see there are some outliers in the columns - 'Patient_Age', 'Patient_Body_Mass_Index', and 'Number_of_prev_cond'. There are various ways to treat the outliers as mentioned in the article https://towardsdatascience.com/ways-to-detect-and-remove-the-outliers-404d16608dba. Here I have not treated any outliers."
   ]
  },
  {
   "cell_type": "markdown",
   "metadata": {
    "id": "Fq-64ZQUi1X_",
    "papermill": {
     "duration": 0.115865,
     "end_time": "2020-10-03T08:43:07.775814",
     "exception": false,
     "start_time": "2020-10-03T08:43:07.659949",
     "status": "completed"
    },
    "tags": []
   },
   "source": [
    "Following is a correlation analysis between the continuous varibles, visualized using a heatmap"
   ]
  },
  {
   "cell_type": "code",
   "execution_count": 18,
   "metadata": {
    "execution": {
     "iopub.execute_input": "2020-10-03T08:43:08.012146Z",
     "iopub.status.busy": "2020-10-03T08:43:08.010783Z",
     "iopub.status.idle": "2020-10-03T08:43:08.302818Z",
     "shell.execute_reply": "2020-10-03T08:43:08.302033Z"
    },
    "id": "OWjQ7ODAi-XK",
    "outputId": "80ed134c-6c7c-46f7-dc1f-07e35f3d27a2",
    "papermill": {
     "duration": 0.416538,
     "end_time": "2020-10-03T08:43:08.302945",
     "exception": false,
     "start_time": "2020-10-03T08:43:07.886407",
     "status": "completed"
    },
    "tags": []
   },
   "outputs": [
    {
     "data": {
      "image/png": "[encoded data removed]",
      "text/plain": [
       "<Figure size 432x288 with 2 Axes>"
      ]
     },
     "metadata": {
      "needs_background": "light"
     },
     "output_type": "display_data"
    }
   ],
   "source": [
    "numeric_data=numeric_data.drop(['Survived_1_year'], axis=1)\n",
    "colormap = sns.diverging_palette(10, 220, as_cmap = True)\n",
    "sns.heatmap(numeric_data.corr(),\n",
    "            cmap = colormap,\n",
    "            square = True,\n",
    "            annot = True)\n",
    "plt.show()"
   ]
  },
  {
   "cell_type": "markdown",
   "metadata": {
    "id": "8wi8907HluMs",
    "papermill": {
     "duration": 0.111266,
     "end_time": "2020-10-03T08:43:08.526709",
     "exception": false,
     "start_time": "2020-10-03T08:43:08.415443",
     "status": "completed"
    },
    "tags": []
   },
   "source": [
    "Finally, we must look at the EDA for our categorical variables. However, before analyzing the categorical columns further, we will treat the missing values"
   ]
  },
  {
   "cell_type": "code",
   "execution_count": 19,
   "metadata": {
    "execution": {
     "iopub.execute_input": "2020-10-03T08:43:08.763116Z",
     "iopub.status.busy": "2020-10-03T08:43:08.761830Z",
     "iopub.status.idle": "2020-10-03T08:43:08.784387Z",
     "shell.execute_reply": "2020-10-03T08:43:08.784960Z"
    },
    "id": "0Uns84y5m-C6",
    "outputId": "625182c6-13ea-4c4a-9d82-70c34a184dae",
    "papermill": {
     "duration": 0.146489,
     "end_time": "2020-10-03T08:43:08.785133",
     "exception": false,
     "start_time": "2020-10-03T08:43:08.638644",
     "status": "completed"
    },
    "tags": []
   },
   "outputs": [
    {
     "data": {
      "text/plain": [
       "ID_Patient_Care_Situation       0\n",
       "Diagnosed_Condition             0\n",
       "Patient_ID                      0\n",
       "Treated_with_drugs              8\n",
       "Patient_Age                     0\n",
       "Patient_Body_Mass_Index         0\n",
       "Patient_Smoker                  0\n",
       "Patient_Rural_Urban             0\n",
       "Patient_mental_condition        0\n",
       "A                            1356\n",
       "B                            1356\n",
       "C                            1356\n",
       "D                            1356\n",
       "E                            1356\n",
       "F                            1356\n",
       "Z                            1356\n",
       "Number_of_prev_cond             0\n",
       "Survived_1_year                 0\n",
       "dtype: int64"
      ]
     },
     "execution_count": 19,
     "metadata": {},
     "output_type": "execute_result"
    }
   ],
   "source": [
    "data.isnull().sum()"
   ]
  },
  {
   "cell_type": "markdown",
   "metadata": {
    "id": "_iznb1EykjSM",
    "papermill": {
     "duration": 0.111907,
     "end_time": "2020-10-03T08:43:09.010056",
     "exception": false,
     "start_time": "2020-10-03T08:43:08.898149",
     "status": "completed"
    },
    "tags": []
   },
   "source": [
    "#### *Filling Missing values*"
   ]
  },
  {
   "cell_type": "code",
   "execution_count": 20,
   "metadata": {
    "execution": {
     "iopub.execute_input": "2020-10-03T08:43:09.249167Z",
     "iopub.status.busy": "2020-10-03T08:43:09.248394Z",
     "iopub.status.idle": "2020-10-03T08:43:09.252187Z",
     "shell.execute_reply": "2020-10-03T08:43:09.251568Z"
    },
    "id": "3sSADyLmQJAB",
    "papermill": {
     "duration": 0.130879,
     "end_time": "2020-10-03T08:43:09.252336",
     "exception": false,
     "start_time": "2020-10-03T08:43:09.121457",
     "status": "completed"
    },
    "tags": []
   },
   "outputs": [],
   "source": [
    "data['Treated_with_drugs']=data['Treated_with_drugs'].fillna(data['Treated_with_drugs'].mode()[0])"
   ]
  },
  {
   "cell_type": "code",
   "execution_count": 21,
   "metadata": {
    "execution": {
     "iopub.execute_input": "2020-10-03T08:43:09.487411Z",
     "iopub.status.busy": "2020-10-03T08:43:09.486617Z",
     "iopub.status.idle": "2020-10-03T08:43:09.496529Z",
     "shell.execute_reply": "2020-10-03T08:43:09.495917Z"
    },
    "id": "NbC3Pr2JoFsO",
    "papermill": {
     "duration": 0.132838,
     "end_time": "2020-10-03T08:43:09.496660",
     "exception": false,
     "start_time": "2020-10-03T08:43:09.363822",
     "status": "completed"
    },
    "tags": []
   },
   "outputs": [],
   "source": [
    "data['A'].fillna(data['A'].mode()[0], inplace = True)\n",
    "data['B'].fillna(data['B'].mode()[0], inplace = True)\n",
    "data['C'].fillna(data['C'].mode()[0], inplace = True)\n",
    "data['D'].fillna(data['D'].mode()[0], inplace = True)\n",
    "data['E'].fillna(data['E'].mode()[0], inplace = True)\n",
    "data['F'].fillna(data['F'].mode()[0], inplace = True)\n",
    "data['Z'].fillna(data['Z'].mode()[0], inplace = True)"
   ]
  },
  {
   "cell_type": "code",
   "execution_count": 22,
   "metadata": {
    "execution": {
     "iopub.execute_input": "2020-10-03T08:43:09.765281Z",
     "iopub.status.busy": "2020-10-03T08:43:09.751261Z",
     "iopub.status.idle": "2020-10-03T08:43:09.776031Z",
     "shell.execute_reply": "2020-10-03T08:43:09.774945Z"
    },
    "id": "C2pLdMmQoIoQ",
    "outputId": "5722e60d-5055-4a1c-b096-55aaa03c494a",
    "papermill": {
     "duration": 0.16758,
     "end_time": "2020-10-03T08:43:09.776288",
     "exception": false,
     "start_time": "2020-10-03T08:43:09.608708",
     "status": "completed"
    },
    "tags": []
   },
   "outputs": [
    {
     "data": {
      "text/plain": [
       "ID_Patient_Care_Situation    0\n",
       "Diagnosed_Condition          0\n",
       "Patient_ID                   0\n",
       "Treated_with_drugs           0\n",
       "Patient_Age                  0\n",
       "Patient_Body_Mass_Index      0\n",
       "Patient_Smoker               0\n",
       "Patient_Rural_Urban          0\n",
       "Patient_mental_condition     0\n",
       "A                            0\n",
       "B                            0\n",
       "C                            0\n",
       "D                            0\n",
       "E                            0\n",
       "F                            0\n",
       "Z                            0\n",
       "Number_of_prev_cond          0\n",
       "Survived_1_year              0\n",
       "dtype: int64"
      ]
     },
     "execution_count": 22,
     "metadata": {},
     "output_type": "execute_result"
    }
   ],
   "source": [
    "data.isnull().sum()"
   ]
  },
  {
   "cell_type": "markdown",
   "metadata": {
    "id": "2fCCZFH2SkLU",
    "papermill": {
     "duration": 0.111803,
     "end_time": "2020-10-03T08:43:10.010077",
     "exception": false,
     "start_time": "2020-10-03T08:43:09.898274",
     "status": "completed"
    },
    "tags": []
   },
   "source": [
    "### EDA on Categorical Data\n",
    "Let's perform Exploratory Data Analysis on the Categorical data.\n",
    "In the categorical_data variable we'll keep all the categorical features and remove the others.\n",
    "\n",
    "Note that the features are not being removed from the main dataset - data. We'll select features with a feature selection technique later."
   ]
  },
  {
   "cell_type": "code",
   "execution_count": 23,
   "metadata": {
    "execution": {
     "iopub.execute_input": "2020-10-03T08:43:10.246152Z",
     "iopub.status.busy": "2020-10-03T08:43:10.245340Z",
     "iopub.status.idle": "2020-10-03T08:43:10.269365Z",
     "shell.execute_reply": "2020-10-03T08:43:10.268745Z"
    },
    "id": "_8qzvF-Akp7h",
    "outputId": "12caf385-7624-4415-ad54-8c46f8c39117",
    "papermill": {
     "duration": 0.147497,
     "end_time": "2020-10-03T08:43:10.269504",
     "exception": false,
     "start_time": "2020-10-03T08:43:10.122007",
     "status": "completed"
    },
    "tags": []
   },
   "outputs": [
    {
     "data": {
      "text/html": [
       "<div>\n",
       "<style scoped>\n",
       "    .dataframe tbody tr th:only-of-type {\n",
       "        vertical-align: middle;\n",
       "    }\n",
       "\n",
       "    .dataframe tbody tr th {\n",
       "        vertical-align: top;\n",
       "    }\n",
       "\n",
       "    .dataframe thead th {\n",
       "        text-align: right;\n",
       "    }\n",
       "</style>\n",
       "<table border=\"1\" class=\"dataframe\">\n",
       "  <thead>\n",
       "    <tr style=\"text-align: right;\">\n",
       "      <th></th>\n",
       "      <th>Treated_with_drugs</th>\n",
       "      <th>Patient_Smoker</th>\n",
       "      <th>Patient_Rural_Urban</th>\n",
       "      <th>Patient_mental_condition</th>\n",
       "      <th>A</th>\n",
       "      <th>B</th>\n",
       "      <th>C</th>\n",
       "      <th>D</th>\n",
       "      <th>E</th>\n",
       "      <th>F</th>\n",
       "      <th>Z</th>\n",
       "      <th>Survived_1_year</th>\n",
       "    </tr>\n",
       "  </thead>\n",
       "  <tbody>\n",
       "    <tr>\n",
       "      <th>0</th>\n",
       "      <td>DX2</td>\n",
       "      <td>NO</td>\n",
       "      <td>URBAN</td>\n",
       "      <td>Stable</td>\n",
       "      <td>1.0</td>\n",
       "      <td>0.0</td>\n",
       "      <td>0.0</td>\n",
       "      <td>0.0</td>\n",
       "      <td>1.0</td>\n",
       "      <td>0.0</td>\n",
       "      <td>0.0</td>\n",
       "      <td>1</td>\n",
       "    </tr>\n",
       "    <tr>\n",
       "      <th>1</th>\n",
       "      <td>DX6</td>\n",
       "      <td>NO</td>\n",
       "      <td>RURAL</td>\n",
       "      <td>Stable</td>\n",
       "      <td>1.0</td>\n",
       "      <td>0.0</td>\n",
       "      <td>1.0</td>\n",
       "      <td>0.0</td>\n",
       "      <td>1.0</td>\n",
       "      <td>0.0</td>\n",
       "      <td>0.0</td>\n",
       "      <td>0</td>\n",
       "    </tr>\n",
       "    <tr>\n",
       "      <th>2</th>\n",
       "      <td>DX6</td>\n",
       "      <td>NO</td>\n",
       "      <td>RURAL</td>\n",
       "      <td>Stable</td>\n",
       "      <td>1.0</td>\n",
       "      <td>0.0</td>\n",
       "      <td>0.0</td>\n",
       "      <td>0.0</td>\n",
       "      <td>1.0</td>\n",
       "      <td>0.0</td>\n",
       "      <td>0.0</td>\n",
       "      <td>1</td>\n",
       "    </tr>\n",
       "    <tr>\n",
       "      <th>3</th>\n",
       "      <td>DX6</td>\n",
       "      <td>NO</td>\n",
       "      <td>RURAL</td>\n",
       "      <td>Stable</td>\n",
       "      <td>1.0</td>\n",
       "      <td>0.0</td>\n",
       "      <td>0.0</td>\n",
       "      <td>0.0</td>\n",
       "      <td>1.0</td>\n",
       "      <td>0.0</td>\n",
       "      <td>0.0</td>\n",
       "      <td>0</td>\n",
       "    </tr>\n",
       "    <tr>\n",
       "      <th>4</th>\n",
       "      <td>DX1</td>\n",
       "      <td>NO</td>\n",
       "      <td>RURAL</td>\n",
       "      <td>Stable</td>\n",
       "      <td>1.0</td>\n",
       "      <td>0.0</td>\n",
       "      <td>0.0</td>\n",
       "      <td>0.0</td>\n",
       "      <td>0.0</td>\n",
       "      <td>0.0</td>\n",
       "      <td>0.0</td>\n",
       "      <td>1</td>\n",
       "    </tr>\n",
       "  </tbody>\n",
       "</table>\n",
       "</div>"
      ],
      "text/plain": [
       "  Treated_with_drugs Patient_Smoker Patient_Rural_Urban  \\\n",
       "0                DX2             NO               URBAN   \n",
       "1                DX6             NO               RURAL   \n",
       "2                DX6             NO               RURAL   \n",
       "3               DX6              NO               RURAL   \n",
       "4                DX1             NO               RURAL   \n",
       "\n",
       "  Patient_mental_condition    A    B    C    D    E    F    Z  Survived_1_year  \n",
       "0                   Stable  1.0  0.0  0.0  0.0  1.0  0.0  0.0                1  \n",
       "1                   Stable  1.0  0.0  1.0  0.0  1.0  0.0  0.0                0  \n",
       "2                   Stable  1.0  0.0  0.0  0.0  1.0  0.0  0.0                1  \n",
       "3                   Stable  1.0  0.0  0.0  0.0  1.0  0.0  0.0                0  \n",
       "4                   Stable  1.0  0.0  0.0  0.0  0.0  0.0  0.0                1  "
      ]
     },
     "execution_count": 23,
     "metadata": {},
     "output_type": "execute_result"
    }
   ],
   "source": [
    "categorical_data = data.drop(numeric_data.columns, axis=1)    # dropping the numerical columns from the dataframe 'data'\n",
    "categorical_data.drop(['Patient_ID', 'ID_Patient_Care_Situation'], axis=1, inplace = True)    # dropping the id columns form the dataframe 'categorical data'\n",
    "categorical_data.head()    # Now we are left with categorical columns only. take a look at first five observaitons"
   ]
  },
  {
   "cell_type": "markdown",
   "metadata": {
    "id": "6_RrcbEWpQyj",
    "papermill": {
     "duration": 0.113841,
     "end_time": "2020-10-03T08:43:10.499566",
     "exception": false,
     "start_time": "2020-10-03T08:43:10.385725",
     "status": "completed"
    },
    "tags": []
   },
   "source": [
    "Now we can look at the distributions of our categorical variables"
   ]
  },
  {
   "cell_type": "code",
   "execution_count": 24,
   "metadata": {
    "execution": {
     "iopub.execute_input": "2020-10-03T08:43:10.744206Z",
     "iopub.status.busy": "2020-10-03T08:43:10.743429Z",
     "iopub.status.idle": "2020-10-03T08:43:10.767109Z",
     "shell.execute_reply": "2020-10-03T08:43:10.766297Z"
    },
    "id": "46Nwpqs8rPX-",
    "outputId": "7354ee8c-8875-4248-a39a-328a33694729",
    "papermill": {
     "duration": 0.154289,
     "end_time": "2020-10-03T08:43:10.767268",
     "exception": false,
     "start_time": "2020-10-03T08:43:10.612979",
     "status": "completed"
    },
    "tags": []
   },
   "outputs": [
    {
     "data": {
      "text/plain": [
       "Treated_with_drugs          64\n",
       "Patient_Smoker               3\n",
       "Patient_Rural_Urban          2\n",
       "Patient_mental_condition     1\n",
       "A                            2\n",
       "B                            2\n",
       "C                            2\n",
       "D                            2\n",
       "E                            2\n",
       "F                            2\n",
       "Z                            2\n",
       "Survived_1_year              2\n",
       "dtype: int64"
      ]
     },
     "execution_count": 24,
     "metadata": {},
     "output_type": "execute_result"
    }
   ],
   "source": [
    "categorical_data.nunique()   # nunique() return you the number of unique values in each column/feature"
   ]
  },
  {
   "cell_type": "markdown",
   "metadata": {
    "id": "QK98olKTKlgW",
    "papermill": {
     "duration": 0.113774,
     "end_time": "2020-10-03T08:43:10.996094",
     "exception": false,
     "start_time": "2020-10-03T08:43:10.882320",
     "status": "completed"
    },
    "tags": []
   },
   "source": [
    "So 'Treated_with_drugs' column has 32 unique values while 'Patient_Smoker' has only 3 categorical values. 'Patient_mental_condition' column has only 1 categorical value."
   ]
  },
  {
   "cell_type": "code",
   "execution_count": 25,
   "metadata": {
    "execution": {
     "iopub.execute_input": "2020-10-03T08:43:11.236543Z",
     "iopub.status.busy": "2020-10-03T08:43:11.235399Z",
     "iopub.status.idle": "2020-10-03T08:43:12.996381Z",
     "shell.execute_reply": "2020-10-03T08:43:12.997044Z"
    },
    "id": "swZhGFYgpX9_",
    "outputId": "26ecfa00-44bb-4b50-f445-ecd9ae8e193e",
    "papermill": {
     "duration": 1.886746,
     "end_time": "2020-10-03T08:43:12.997204",
     "exception": false,
     "start_time": "2020-10-03T08:43:11.110458",
     "status": "completed"
    },
    "tags": []
   },
   "outputs": [
    {
     "data": {
      "image/png": "[encoded data removed]",
      "text/plain": [
       "<Figure size 432x288 with 1 Axes>"
      ]
     },
     "metadata": {
      "needs_background": "light"
     },
     "output_type": "display_data"
    },
    {
     "data": {
      "image/png": "[encoded data removed]",
      "text/plain": [
       "<Figure size 432x288 with 1 Axes>"
      ]
     },
     "metadata": {
      "needs_background": "light"
     },
     "output_type": "display_data"
    },
    {
     "data": {
      "image/png": "[encoded data removed]",
      "text/plain": [
       "<Figure size 432x288 with 1 Axes>"
      ]
     },
     "metadata": {
      "needs_background": "light"
     },
     "output_type": "display_data"
    },
    {
     "data": {
      "image/png": "[encoded data removed]",
      "text/plain": [
       "<Figure size 1080x360 with 1 Axes>"
      ]
     },
     "metadata": {
      "needs_background": "light"
     },
     "output_type": "display_data"
    }
   ],
   "source": [
    "# Visualization of categorical columns\n",
    "for feature in ['Patient_Smoker', 'Patient_Rural_Urban', 'Patient_mental_condition']:\n",
    "  sns.countplot(x=feature,  hue='Survived_1_year', data=categorical_data)\n",
    "  plt.show()\n",
    "\n",
    "\n",
    "plt.figure(figsize=(15,5))\n",
    "sns.countplot(x='Treated_with_drugs',  hue='Survived_1_year', data=categorical_data)\n",
    "plt.xticks(rotation=90)\n",
    "plt.show()\n"
   ]
  },
  {
   "cell_type": "markdown",
   "metadata": {
    "id": "1ZujwFc9s6Ll",
    "papermill": {
     "duration": 0.12706,
     "end_time": "2020-10-03T08:43:13.249650",
     "exception": false,
     "start_time": "2020-10-03T08:43:13.122590",
     "status": "completed"
    },
    "tags": []
   },
   "source": [
    "#### **Pre-Processing and Data Cleaning of Categorical Variables**\n"
   ]
  },
  {
   "cell_type": "markdown",
   "metadata": {
    "id": "d5kW3AifaV2w",
    "papermill": {
     "duration": 0.119291,
     "end_time": "2020-10-03T08:43:13.486703",
     "exception": false,
     "start_time": "2020-10-03T08:43:13.367412",
     "status": "completed"
    },
    "tags": []
   },
   "source": [
    "We have discussed in our sessions that machine learning models accepts only numerical data. 'Treated_with_drugs' column is a categorical column and has values as combination of one or more drugs. Let's split all those combined drugs into individual drugs and create dummies for that."
   ]
  },
  {
   "cell_type": "code",
   "execution_count": 26,
   "metadata": {
    "execution": {
     "iopub.execute_input": "2020-10-03T08:43:13.755781Z",
     "iopub.status.busy": "2020-10-03T08:43:13.735795Z",
     "iopub.status.idle": "2020-10-03T08:43:14.183834Z",
     "shell.execute_reply": "2020-10-03T08:43:14.183119Z"
    },
    "id": "vkpoKTeRb_jf",
    "outputId": "234d3071-4e4b-4fd2-e366-372519d6151c",
    "papermill": {
     "duration": 0.575966,
     "end_time": "2020-10-03T08:43:14.183974",
     "exception": false,
     "start_time": "2020-10-03T08:43:13.608008",
     "status": "completed"
    },
    "tags": []
   },
   "outputs": [
    {
     "data": {
      "text/html": [
       "<div>\n",
       "<style scoped>\n",
       "    .dataframe tbody tr th:only-of-type {\n",
       "        vertical-align: middle;\n",
       "    }\n",
       "\n",
       "    .dataframe tbody tr th {\n",
       "        vertical-align: top;\n",
       "    }\n",
       "\n",
       "    .dataframe thead th {\n",
       "        text-align: right;\n",
       "    }\n",
       "</style>\n",
       "<table border=\"1\" class=\"dataframe\">\n",
       "  <thead>\n",
       "    <tr style=\"text-align: right;\">\n",
       "      <th></th>\n",
       "      <th>DX1</th>\n",
       "      <th>DX2</th>\n",
       "      <th>DX3</th>\n",
       "      <th>DX4</th>\n",
       "      <th>DX5</th>\n",
       "      <th>DX6</th>\n",
       "    </tr>\n",
       "  </thead>\n",
       "  <tbody>\n",
       "    <tr>\n",
       "      <th>0</th>\n",
       "      <td>0</td>\n",
       "      <td>1</td>\n",
       "      <td>0</td>\n",
       "      <td>0</td>\n",
       "      <td>0</td>\n",
       "      <td>0</td>\n",
       "    </tr>\n",
       "    <tr>\n",
       "      <th>1</th>\n",
       "      <td>0</td>\n",
       "      <td>0</td>\n",
       "      <td>0</td>\n",
       "      <td>0</td>\n",
       "      <td>0</td>\n",
       "      <td>1</td>\n",
       "    </tr>\n",
       "    <tr>\n",
       "      <th>2</th>\n",
       "      <td>0</td>\n",
       "      <td>0</td>\n",
       "      <td>0</td>\n",
       "      <td>0</td>\n",
       "      <td>0</td>\n",
       "      <td>1</td>\n",
       "    </tr>\n",
       "    <tr>\n",
       "      <th>3</th>\n",
       "      <td>0</td>\n",
       "      <td>0</td>\n",
       "      <td>0</td>\n",
       "      <td>0</td>\n",
       "      <td>0</td>\n",
       "      <td>1</td>\n",
       "    </tr>\n",
       "    <tr>\n",
       "      <th>4</th>\n",
       "      <td>1</td>\n",
       "      <td>0</td>\n",
       "      <td>0</td>\n",
       "      <td>0</td>\n",
       "      <td>0</td>\n",
       "      <td>0</td>\n",
       "    </tr>\n",
       "  </tbody>\n",
       "</table>\n",
       "</div>"
      ],
      "text/plain": [
       "   DX1  DX2  DX3  DX4  DX5  DX6\n",
       "0    0    1    0    0    0    0\n",
       "1    0    0    0    0    0    1\n",
       "2    0    0    0    0    0    1\n",
       "3    0    0    0    0    0    1\n",
       "4    1    0    0    0    0    0"
      ]
     },
     "execution_count": 26,
     "metadata": {},
     "output_type": "execute_result"
    }
   ],
   "source": [
    "drugs = data['Treated_with_drugs'].str.get_dummies(sep=' ') # split all the entries separated by space and create dummy variable\n",
    "drugs.head()"
   ]
  },
  {
   "cell_type": "code",
   "execution_count": 27,
   "metadata": {
    "execution": {
     "iopub.execute_input": "2020-10-03T08:43:14.436781Z",
     "iopub.status.busy": "2020-10-03T08:43:14.435948Z",
     "iopub.status.idle": "2020-10-03T08:43:14.477357Z",
     "shell.execute_reply": "2020-10-03T08:43:14.476632Z"
    },
    "id": "Fl4oDOGVbYRw",
    "outputId": "c003c5d6-d5b7-4970-acf7-6838142e098b",
    "papermill": {
     "duration": 0.172047,
     "end_time": "2020-10-03T08:43:14.477486",
     "exception": false,
     "start_time": "2020-10-03T08:43:14.305439",
     "status": "completed"
    },
    "tags": []
   },
   "outputs": [
    {
     "data": {
      "text/html": [
       "<div>\n",
       "<style scoped>\n",
       "    .dataframe tbody tr th:only-of-type {\n",
       "        vertical-align: middle;\n",
       "    }\n",
       "\n",
       "    .dataframe tbody tr th {\n",
       "        vertical-align: top;\n",
       "    }\n",
       "\n",
       "    .dataframe thead th {\n",
       "        text-align: right;\n",
       "    }\n",
       "</style>\n",
       "<table border=\"1\" class=\"dataframe\">\n",
       "  <thead>\n",
       "    <tr style=\"text-align: right;\">\n",
       "      <th></th>\n",
       "      <th>ID_Patient_Care_Situation</th>\n",
       "      <th>Diagnosed_Condition</th>\n",
       "      <th>Patient_ID</th>\n",
       "      <th>Patient_Age</th>\n",
       "      <th>Patient_Body_Mass_Index</th>\n",
       "      <th>Patient_Smoker</th>\n",
       "      <th>Patient_Rural_Urban</th>\n",
       "      <th>Patient_mental_condition</th>\n",
       "      <th>A</th>\n",
       "      <th>B</th>\n",
       "      <th>...</th>\n",
       "      <th>F</th>\n",
       "      <th>Z</th>\n",
       "      <th>Number_of_prev_cond</th>\n",
       "      <th>Survived_1_year</th>\n",
       "      <th>DX1</th>\n",
       "      <th>DX2</th>\n",
       "      <th>DX3</th>\n",
       "      <th>DX4</th>\n",
       "      <th>DX5</th>\n",
       "      <th>DX6</th>\n",
       "    </tr>\n",
       "  </thead>\n",
       "  <tbody>\n",
       "    <tr>\n",
       "      <th>0</th>\n",
       "      <td>16201</td>\n",
       "      <td>47</td>\n",
       "      <td>8433</td>\n",
       "      <td>60</td>\n",
       "      <td>21.655523</td>\n",
       "      <td>NO</td>\n",
       "      <td>URBAN</td>\n",
       "      <td>Stable</td>\n",
       "      <td>1.0</td>\n",
       "      <td>0.0</td>\n",
       "      <td>...</td>\n",
       "      <td>0.0</td>\n",
       "      <td>0.0</td>\n",
       "      <td>2.0</td>\n",
       "      <td>1</td>\n",
       "      <td>0</td>\n",
       "      <td>1</td>\n",
       "      <td>0</td>\n",
       "      <td>0</td>\n",
       "      <td>0</td>\n",
       "      <td>0</td>\n",
       "    </tr>\n",
       "    <tr>\n",
       "      <th>1</th>\n",
       "      <td>9421</td>\n",
       "      <td>3</td>\n",
       "      <td>2972</td>\n",
       "      <td>2</td>\n",
       "      <td>28.852743</td>\n",
       "      <td>NO</td>\n",
       "      <td>RURAL</td>\n",
       "      <td>Stable</td>\n",
       "      <td>1.0</td>\n",
       "      <td>0.0</td>\n",
       "      <td>...</td>\n",
       "      <td>0.0</td>\n",
       "      <td>0.0</td>\n",
       "      <td>3.0</td>\n",
       "      <td>0</td>\n",
       "      <td>0</td>\n",
       "      <td>0</td>\n",
       "      <td>0</td>\n",
       "      <td>0</td>\n",
       "      <td>0</td>\n",
       "      <td>1</td>\n",
       "    </tr>\n",
       "    <tr>\n",
       "      <th>2</th>\n",
       "      <td>16205</td>\n",
       "      <td>7</td>\n",
       "      <td>8608</td>\n",
       "      <td>20</td>\n",
       "      <td>26.179725</td>\n",
       "      <td>NO</td>\n",
       "      <td>RURAL</td>\n",
       "      <td>Stable</td>\n",
       "      <td>1.0</td>\n",
       "      <td>0.0</td>\n",
       "      <td>...</td>\n",
       "      <td>0.0</td>\n",
       "      <td>0.0</td>\n",
       "      <td>2.0</td>\n",
       "      <td>1</td>\n",
       "      <td>0</td>\n",
       "      <td>0</td>\n",
       "      <td>0</td>\n",
       "      <td>0</td>\n",
       "      <td>0</td>\n",
       "      <td>1</td>\n",
       "    </tr>\n",
       "    <tr>\n",
       "      <th>3</th>\n",
       "      <td>5582</td>\n",
       "      <td>31</td>\n",
       "      <td>10074</td>\n",
       "      <td>8</td>\n",
       "      <td>22.638945</td>\n",
       "      <td>NO</td>\n",
       "      <td>RURAL</td>\n",
       "      <td>Stable</td>\n",
       "      <td>1.0</td>\n",
       "      <td>0.0</td>\n",
       "      <td>...</td>\n",
       "      <td>0.0</td>\n",
       "      <td>0.0</td>\n",
       "      <td>2.0</td>\n",
       "      <td>0</td>\n",
       "      <td>0</td>\n",
       "      <td>0</td>\n",
       "      <td>0</td>\n",
       "      <td>0</td>\n",
       "      <td>0</td>\n",
       "      <td>1</td>\n",
       "    </tr>\n",
       "    <tr>\n",
       "      <th>4</th>\n",
       "      <td>20880</td>\n",
       "      <td>43</td>\n",
       "      <td>7462</td>\n",
       "      <td>53</td>\n",
       "      <td>21.326131</td>\n",
       "      <td>NO</td>\n",
       "      <td>RURAL</td>\n",
       "      <td>Stable</td>\n",
       "      <td>1.0</td>\n",
       "      <td>0.0</td>\n",
       "      <td>...</td>\n",
       "      <td>0.0</td>\n",
       "      <td>0.0</td>\n",
       "      <td>1.0</td>\n",
       "      <td>1</td>\n",
       "      <td>1</td>\n",
       "      <td>0</td>\n",
       "      <td>0</td>\n",
       "      <td>0</td>\n",
       "      <td>0</td>\n",
       "      <td>0</td>\n",
       "    </tr>\n",
       "  </tbody>\n",
       "</table>\n",
       "<p>5 rows × 23 columns</p>\n",
       "</div>"
      ],
      "text/plain": [
       "   ID_Patient_Care_Situation  Diagnosed_Condition  Patient_ID  Patient_Age  \\\n",
       "0                      16201                   47        8433           60   \n",
       "1                       9421                    3        2972            2   \n",
       "2                      16205                    7        8608           20   \n",
       "3                       5582                   31       10074            8   \n",
       "4                      20880                   43        7462           53   \n",
       "\n",
       "   Patient_Body_Mass_Index Patient_Smoker Patient_Rural_Urban  \\\n",
       "0                21.655523             NO               URBAN   \n",
       "1                28.852743             NO               RURAL   \n",
       "2                26.179725             NO               RURAL   \n",
       "3                22.638945             NO               RURAL   \n",
       "4                21.326131             NO               RURAL   \n",
       "\n",
       "  Patient_mental_condition    A    B  ...    F    Z  Number_of_prev_cond  \\\n",
       "0                   Stable  1.0  0.0  ...  0.0  0.0                  2.0   \n",
       "1                   Stable  1.0  0.0  ...  0.0  0.0                  3.0   \n",
       "2                   Stable  1.0  0.0  ...  0.0  0.0                  2.0   \n",
       "3                   Stable  1.0  0.0  ...  0.0  0.0                  2.0   \n",
       "4                   Stable  1.0  0.0  ...  0.0  0.0                  1.0   \n",
       "\n",
       "   Survived_1_year  DX1  DX2  DX3  DX4  DX5  DX6  \n",
       "0                1    0    1    0    0    0    0  \n",
       "1                0    0    0    0    0    0    1  \n",
       "2                1    0    0    0    0    0    1  \n",
       "3                0    0    0    0    0    0    1  \n",
       "4                1    1    0    0    0    0    0  \n",
       "\n",
       "[5 rows x 23 columns]"
      ]
     },
     "execution_count": 27,
     "metadata": {},
     "output_type": "execute_result"
    }
   ],
   "source": [
    "data = pd.concat([data, drugs], axis=1)     # concat the two dataframes 'drugs' and 'data'\n",
    "data = data.drop('Treated_with_drugs', axis=1)    # dropping the column 'Treated_with_drugs' as its values are now splitted into different columns\n",
    "\n",
    "data.head()"
   ]
  },
  {
   "cell_type": "markdown",
   "metadata": {
    "id": "whhruSdecdRd",
    "papermill": {
     "duration": 0.121931,
     "end_time": "2020-10-03T08:43:14.720425",
     "exception": false,
     "start_time": "2020-10-03T08:43:14.598494",
     "status": "completed"
    },
    "tags": []
   },
   "source": [
    "'Patient_Smoker' is also a categorical column and we need to create dummies for this too. If you observe the data, the column 'Patient_Smoker' has a category 'Cannot say'."
   ]
  },
  {
   "cell_type": "code",
   "execution_count": 28,
   "metadata": {
    "execution": {
     "iopub.execute_input": "2020-10-03T08:43:14.978516Z",
     "iopub.status.busy": "2020-10-03T08:43:14.977388Z",
     "iopub.status.idle": "2020-10-03T08:43:14.985701Z",
     "shell.execute_reply": "2020-10-03T08:43:14.985087Z"
    },
    "id": "WSfuJTEms-It",
    "outputId": "84c13c84-fcf3-442a-f47d-a3c7c134f68a",
    "papermill": {
     "duration": 0.141699,
     "end_time": "2020-10-03T08:43:14.985840",
     "exception": false,
     "start_time": "2020-10-03T08:43:14.844141",
     "status": "completed"
    },
    "tags": []
   },
   "outputs": [
    {
     "data": {
      "text/plain": [
       "NO            14402\n",
       "YES           10669\n",
       "Cannot say        8\n",
       "Name: Patient_Smoker, dtype: int64"
      ]
     },
     "execution_count": 28,
     "metadata": {},
     "output_type": "execute_result"
    }
   ],
   "source": [
    "data.Patient_Smoker.value_counts()"
   ]
  },
  {
   "cell_type": "markdown",
   "metadata": {
    "id": "TsOHY4eScvGY",
    "papermill": {
     "duration": 0.123143,
     "end_time": "2020-10-03T08:43:15.231717",
     "exception": false,
     "start_time": "2020-10-03T08:43:15.108574",
     "status": "completed"
    },
    "tags": []
   },
   "source": [
    "There can be different ways to deal with the category 'Cannot say'. Here we will consider it as missing value and fill those entries with the mode value of the column."
   ]
  },
  {
   "cell_type": "code",
   "execution_count": 29,
   "metadata": {
    "execution": {
     "iopub.execute_input": "2020-10-03T08:43:15.491029Z",
     "iopub.status.busy": "2020-10-03T08:43:15.490251Z",
     "iopub.status.idle": "2020-10-03T08:43:15.494503Z",
     "shell.execute_reply": "2020-10-03T08:43:15.493871Z"
    },
    "id": "18ITWDSydI96",
    "papermill": {
     "duration": 0.138564,
     "end_time": "2020-10-03T08:43:15.494639",
     "exception": false,
     "start_time": "2020-10-03T08:43:15.356075",
     "status": "completed"
    },
    "tags": []
   },
   "outputs": [],
   "source": [
    "data.Patient_Smoker[data['Patient_Smoker'] == \"Cannot say\"] = 'NO'    # we already know 'NO' is the mode so directly changing the values 'Cannot say' to 'NO'"
   ]
  },
  {
   "cell_type": "markdown",
   "metadata": {
    "id": "TGZefyJ7dgDq",
    "papermill": {
     "duration": 0.122645,
     "end_time": "2020-10-03T08:43:15.740801",
     "exception": false,
     "start_time": "2020-10-03T08:43:15.618156",
     "status": "completed"
    },
    "tags": []
   },
   "source": [
    "The column 'Patient_mental_condition' has only one category 'stable'. So we can drop this column as for every observation the entry here is 'stable'. This feature won’t be useful for making the prediction of the target variable as it doesn’t provide any useful insights of the data. Hence, It is better to remove this kind of features."
   ]
  },
  {
   "cell_type": "code",
   "execution_count": 30,
   "metadata": {
    "execution": {
     "iopub.execute_input": "2020-10-03T08:43:15.993768Z",
     "iopub.status.busy": "2020-10-03T08:43:15.992813Z",
     "iopub.status.idle": "2020-10-03T08:43:15.996302Z",
     "shell.execute_reply": "2020-10-03T08:43:15.995651Z"
    },
    "id": "KgaSeiZzdffq",
    "papermill": {
     "duration": 0.133395,
     "end_time": "2020-10-03T08:43:15.996443",
     "exception": false,
     "start_time": "2020-10-03T08:43:15.863048",
     "status": "completed"
    },
    "tags": []
   },
   "outputs": [],
   "source": [
    "data.drop('Patient_mental_condition', axis = 1, inplace=True)"
   ]
  },
  {
   "cell_type": "markdown",
   "metadata": {
    "id": "5XnSOj08fMLL",
    "papermill": {
     "duration": 0.121414,
     "end_time": "2020-10-03T08:43:16.240951",
     "exception": false,
     "start_time": "2020-10-03T08:43:16.119537",
     "status": "completed"
    },
    "tags": []
   },
   "source": [
    "Now let's convert the remaining categorical column to numerical using get_dummies() function of pandas (i.e. one hot encoding)."
   ]
  },
  {
   "cell_type": "code",
   "execution_count": 31,
   "metadata": {
    "execution": {
     "iopub.execute_input": "2020-10-03T08:43:16.503379Z",
     "iopub.status.busy": "2020-10-03T08:43:16.501765Z",
     "iopub.status.idle": "2020-10-03T08:43:16.517167Z",
     "shell.execute_reply": "2020-10-03T08:43:16.516453Z"
    },
    "id": "XVqbVolzfeza",
    "papermill": {
     "duration": 0.15352,
     "end_time": "2020-10-03T08:43:16.517316",
     "exception": false,
     "start_time": "2020-10-03T08:43:16.363796",
     "status": "completed"
    },
    "tags": []
   },
   "outputs": [],
   "source": [
    "data = pd.get_dummies(data, columns=['Patient_Smoker', 'Patient_Rural_Urban'])"
   ]
  },
  {
   "cell_type": "code",
   "execution_count": 32,
   "metadata": {
    "execution": {
     "iopub.execute_input": "2020-10-03T08:43:16.786038Z",
     "iopub.status.busy": "2020-10-03T08:43:16.783822Z",
     "iopub.status.idle": "2020-10-03T08:43:16.791292Z",
     "shell.execute_reply": "2020-10-03T08:43:16.790678Z"
    },
    "id": "z-uhGXbLB6AV",
    "outputId": "8dddf7d8-8d25-491c-ecd8-8c2b82f84c6b",
    "papermill": {
     "duration": 0.152312,
     "end_time": "2020-10-03T08:43:16.791430",
     "exception": false,
     "start_time": "2020-10-03T08:43:16.639118",
     "status": "completed"
    },
    "tags": []
   },
   "outputs": [
    {
     "data": {
      "text/html": [
       "<div>\n",
       "<style scoped>\n",
       "    .dataframe tbody tr th:only-of-type {\n",
       "        vertical-align: middle;\n",
       "    }\n",
       "\n",
       "    .dataframe tbody tr th {\n",
       "        vertical-align: top;\n",
       "    }\n",
       "\n",
       "    .dataframe thead th {\n",
       "        text-align: right;\n",
       "    }\n",
       "</style>\n",
       "<table border=\"1\" class=\"dataframe\">\n",
       "  <thead>\n",
       "    <tr style=\"text-align: right;\">\n",
       "      <th></th>\n",
       "      <th>ID_Patient_Care_Situation</th>\n",
       "      <th>Diagnosed_Condition</th>\n",
       "      <th>Patient_ID</th>\n",
       "      <th>Patient_Age</th>\n",
       "      <th>Patient_Body_Mass_Index</th>\n",
       "      <th>A</th>\n",
       "      <th>B</th>\n",
       "      <th>C</th>\n",
       "      <th>D</th>\n",
       "      <th>E</th>\n",
       "      <th>...</th>\n",
       "      <th>DX1</th>\n",
       "      <th>DX2</th>\n",
       "      <th>DX3</th>\n",
       "      <th>DX4</th>\n",
       "      <th>DX5</th>\n",
       "      <th>DX6</th>\n",
       "      <th>Patient_Smoker_NO</th>\n",
       "      <th>Patient_Smoker_YES</th>\n",
       "      <th>Patient_Rural_Urban_RURAL</th>\n",
       "      <th>Patient_Rural_Urban_URBAN</th>\n",
       "    </tr>\n",
       "  </thead>\n",
       "  <tbody>\n",
       "    <tr>\n",
       "      <th>0</th>\n",
       "      <td>16201</td>\n",
       "      <td>47</td>\n",
       "      <td>8433</td>\n",
       "      <td>60</td>\n",
       "      <td>21.655523</td>\n",
       "      <td>1.0</td>\n",
       "      <td>0.0</td>\n",
       "      <td>0.0</td>\n",
       "      <td>0.0</td>\n",
       "      <td>1.0</td>\n",
       "      <td>...</td>\n",
       "      <td>0</td>\n",
       "      <td>1</td>\n",
       "      <td>0</td>\n",
       "      <td>0</td>\n",
       "      <td>0</td>\n",
       "      <td>0</td>\n",
       "      <td>1</td>\n",
       "      <td>0</td>\n",
       "      <td>0</td>\n",
       "      <td>1</td>\n",
       "    </tr>\n",
       "    <tr>\n",
       "      <th>1</th>\n",
       "      <td>9421</td>\n",
       "      <td>3</td>\n",
       "      <td>2972</td>\n",
       "      <td>2</td>\n",
       "      <td>28.852743</td>\n",
       "      <td>1.0</td>\n",
       "      <td>0.0</td>\n",
       "      <td>1.0</td>\n",
       "      <td>0.0</td>\n",
       "      <td>1.0</td>\n",
       "      <td>...</td>\n",
       "      <td>0</td>\n",
       "      <td>0</td>\n",
       "      <td>0</td>\n",
       "      <td>0</td>\n",
       "      <td>0</td>\n",
       "      <td>1</td>\n",
       "      <td>1</td>\n",
       "      <td>0</td>\n",
       "      <td>1</td>\n",
       "      <td>0</td>\n",
       "    </tr>\n",
       "    <tr>\n",
       "      <th>2</th>\n",
       "      <td>16205</td>\n",
       "      <td>7</td>\n",
       "      <td>8608</td>\n",
       "      <td>20</td>\n",
       "      <td>26.179725</td>\n",
       "      <td>1.0</td>\n",
       "      <td>0.0</td>\n",
       "      <td>0.0</td>\n",
       "      <td>0.0</td>\n",
       "      <td>1.0</td>\n",
       "      <td>...</td>\n",
       "      <td>0</td>\n",
       "      <td>0</td>\n",
       "      <td>0</td>\n",
       "      <td>0</td>\n",
       "      <td>0</td>\n",
       "      <td>1</td>\n",
       "      <td>1</td>\n",
       "      <td>0</td>\n",
       "      <td>1</td>\n",
       "      <td>0</td>\n",
       "    </tr>\n",
       "    <tr>\n",
       "      <th>3</th>\n",
       "      <td>5582</td>\n",
       "      <td>31</td>\n",
       "      <td>10074</td>\n",
       "      <td>8</td>\n",
       "      <td>22.638945</td>\n",
       "      <td>1.0</td>\n",
       "      <td>0.0</td>\n",
       "      <td>0.0</td>\n",
       "      <td>0.0</td>\n",
       "      <td>1.0</td>\n",
       "      <td>...</td>\n",
       "      <td>0</td>\n",
       "      <td>0</td>\n",
       "      <td>0</td>\n",
       "      <td>0</td>\n",
       "      <td>0</td>\n",
       "      <td>1</td>\n",
       "      <td>1</td>\n",
       "      <td>0</td>\n",
       "      <td>1</td>\n",
       "      <td>0</td>\n",
       "    </tr>\n",
       "    <tr>\n",
       "      <th>4</th>\n",
       "      <td>20880</td>\n",
       "      <td>43</td>\n",
       "      <td>7462</td>\n",
       "      <td>53</td>\n",
       "      <td>21.326131</td>\n",
       "      <td>1.0</td>\n",
       "      <td>0.0</td>\n",
       "      <td>0.0</td>\n",
       "      <td>0.0</td>\n",
       "      <td>0.0</td>\n",
       "      <td>...</td>\n",
       "      <td>1</td>\n",
       "      <td>0</td>\n",
       "      <td>0</td>\n",
       "      <td>0</td>\n",
       "      <td>0</td>\n",
       "      <td>0</td>\n",
       "      <td>1</td>\n",
       "      <td>0</td>\n",
       "      <td>1</td>\n",
       "      <td>0</td>\n",
       "    </tr>\n",
       "  </tbody>\n",
       "</table>\n",
       "<p>5 rows × 24 columns</p>\n",
       "</div>"
      ],
      "text/plain": [
       "   ID_Patient_Care_Situation  Diagnosed_Condition  Patient_ID  Patient_Age  \\\n",
       "0                      16201                   47        8433           60   \n",
       "1                       9421                    3        2972            2   \n",
       "2                      16205                    7        8608           20   \n",
       "3                       5582                   31       10074            8   \n",
       "4                      20880                   43        7462           53   \n",
       "\n",
       "   Patient_Body_Mass_Index    A    B    C    D    E  ...  DX1  DX2  DX3  DX4  \\\n",
       "0                21.655523  1.0  0.0  0.0  0.0  1.0  ...    0    1    0    0   \n",
       "1                28.852743  1.0  0.0  1.0  0.0  1.0  ...    0    0    0    0   \n",
       "2                26.179725  1.0  0.0  0.0  0.0  1.0  ...    0    0    0    0   \n",
       "3                22.638945  1.0  0.0  0.0  0.0  1.0  ...    0    0    0    0   \n",
       "4                21.326131  1.0  0.0  0.0  0.0  0.0  ...    1    0    0    0   \n",
       "\n",
       "   DX5  DX6  Patient_Smoker_NO  Patient_Smoker_YES  Patient_Rural_Urban_RURAL  \\\n",
       "0    0    0                  1                   0                          0   \n",
       "1    0    1                  1                   0                          1   \n",
       "2    0    1                  1                   0                          1   \n",
       "3    0    1                  1                   0                          1   \n",
       "4    0    0                  1                   0                          1   \n",
       "\n",
       "   Patient_Rural_Urban_URBAN  \n",
       "0                          1  \n",
       "1                          0  \n",
       "2                          0  \n",
       "3                          0  \n",
       "4                          0  \n",
       "\n",
       "[5 rows x 24 columns]"
      ]
     },
     "execution_count": 32,
     "metadata": {},
     "output_type": "execute_result"
    }
   ],
   "source": [
    "data.head()"
   ]
  },
  {
   "cell_type": "code",
   "execution_count": 33,
   "metadata": {
    "execution": {
     "iopub.execute_input": "2020-10-03T08:43:17.046692Z",
     "iopub.status.busy": "2020-10-03T08:43:17.045812Z",
     "iopub.status.idle": "2020-10-03T08:43:17.062559Z",
     "shell.execute_reply": "2020-10-03T08:43:17.061709Z"
    },
    "id": "16PKOIqsvKfY",
    "outputId": "18c1a002-d2f0-40cf-e054-605f9a46b6a3",
    "papermill": {
     "duration": 0.146433,
     "end_time": "2020-10-03T08:43:17.062735",
     "exception": false,
     "start_time": "2020-10-03T08:43:16.916302",
     "status": "completed"
    },
    "tags": []
   },
   "outputs": [
    {
     "name": "stdout",
     "output_type": "stream",
     "text": [
      "<class 'pandas.core.frame.DataFrame'>\n",
      "RangeIndex: 25079 entries, 0 to 25078\n",
      "Data columns (total 24 columns):\n",
      " #   Column                     Non-Null Count  Dtype  \n",
      "---  ------                     --------------  -----  \n",
      " 0   ID_Patient_Care_Situation  25079 non-null  int64  \n",
      " 1   Diagnosed_Condition        25079 non-null  int64  \n",
      " 2   Patient_ID                 25079 non-null  int64  \n",
      " 3   Patient_Age                25079 non-null  int64  \n",
      " 4   Patient_Body_Mass_Index    25079 non-null  float64\n",
      " 5   A                          25079 non-null  float64\n",
      " 6   B                          25079 non-null  float64\n",
      " 7   C                          25079 non-null  float64\n",
      " 8   D                          25079 non-null  float64\n",
      " 9   E                          25079 non-null  float64\n",
      " 10  F                          25079 non-null  float64\n",
      " 11  Z                          25079 non-null  float64\n",
      " 12  Number_of_prev_cond        25079 non-null  float64\n",
      " 13  Survived_1_year            25079 non-null  int64  \n",
      " 14  DX1                        25079 non-null  int64  \n",
      " 15  DX2                        25079 non-null  int64  \n",
      " 16  DX3                        25079 non-null  int64  \n",
      " 17  DX4                        25079 non-null  int64  \n",
      " 18  DX5                        25079 non-null  int64  \n",
      " 19  DX6                        25079 non-null  int64  \n",
      " 20  Patient_Smoker_NO          25079 non-null  uint8  \n",
      " 21  Patient_Smoker_YES         25079 non-null  uint8  \n",
      " 22  Patient_Rural_Urban_RURAL  25079 non-null  uint8  \n",
      " 23  Patient_Rural_Urban_URBAN  25079 non-null  uint8  \n",
      "dtypes: float64(9), int64(11), uint8(4)\n",
      "memory usage: 3.9 MB\n"
     ]
    }
   ],
   "source": [
    "data.info()"
   ]
  },
  {
   "cell_type": "markdown",
   "metadata": {
    "id": "jXtT9LCLQ1os",
    "papermill": {
     "duration": 0.123243,
     "end_time": "2020-10-03T08:43:17.311685",
     "exception": false,
     "start_time": "2020-10-03T08:43:17.188442",
     "status": "completed"
    },
    "tags": []
   },
   "source": [
    "As you can see there are no missing data now and all the data are of numerical type."
   ]
  },
  {
   "cell_type": "markdown",
   "metadata": {
    "id": "wL24zhbweDkn",
    "papermill": {
     "duration": 0.123964,
     "end_time": "2020-10-03T08:43:17.560400",
     "exception": false,
     "start_time": "2020-10-03T08:43:17.436436",
     "status": "completed"
    },
    "tags": []
   },
   "source": [
    "There are two ID columns - 'ID_Patient_Care_Situation' and 'Patient_ID'. We can think of removing these columns if these are randomly generated value and there is not any id repeated like we had done for the 'PassengerId' in Titanic Dataset. 'PassengerId' was randomly generated for each passenger and none of the ids were repeated. So let's check these two ids columns."
   ]
  },
  {
   "cell_type": "code",
   "execution_count": 34,
   "metadata": {
    "execution": {
     "iopub.execute_input": "2020-10-03T08:43:17.815497Z",
     "iopub.status.busy": "2020-10-03T08:43:17.814714Z",
     "iopub.status.idle": "2020-10-03T08:43:17.826343Z",
     "shell.execute_reply": "2020-10-03T08:43:17.827257Z"
    },
    "id": "BhIMvJQhgaoV",
    "outputId": "e9647527-f1a4-4b8b-e929-4fcdb3d9ef2e",
    "papermill": {
     "duration": 0.144231,
     "end_time": "2020-10-03T08:43:17.827525",
     "exception": false,
     "start_time": "2020-10-03T08:43:17.683294",
     "status": "completed"
    },
    "tags": []
   },
   "outputs": [
    {
     "name": "stdout",
     "output_type": "stream",
     "text": [
      "23097\n",
      "10599\n"
     ]
    }
   ],
   "source": [
    "print(data.ID_Patient_Care_Situation.nunique())     # nunique() gives you the count of unique values in the column\n",
    "print(data.Patient_ID.nunique())"
   ]
  },
  {
   "cell_type": "markdown",
   "metadata": {
    "id": "wIn655R2j2LX",
    "papermill": {
     "duration": 0.123771,
     "end_time": "2020-10-03T08:43:18.080333",
     "exception": false,
     "start_time": "2020-10-03T08:43:17.956562",
     "status": "completed"
    },
    "tags": []
   },
   "source": [
    "You can see there are 23097 unique 'ID_Patient_Care_Situation' and there are 23097 total observations in the dataset. So this column can be dropped.\n",
    "\n",
    "Now, there are only 10570 unique values in the column 'Patient_ID'. This means there are some patient who came two or more times in the hospital because it is possible the same person was sick for two or more than two times (with different illness) and visited hospital for the treatment. And the same patient will have different caring condition for different diseases. \n",
    "\n",
    "So there are some useful information in the column - 'Patient_ID' and thus we will not drop this column."
   ]
  },
  {
   "cell_type": "code",
   "execution_count": 35,
   "metadata": {
    "execution": {
     "iopub.execute_input": "2020-10-03T08:43:18.334301Z",
     "iopub.status.busy": "2020-10-03T08:43:18.333509Z",
     "iopub.status.idle": "2020-10-03T08:43:18.337291Z",
     "shell.execute_reply": "2020-10-03T08:43:18.336670Z"
    },
    "id": "yPCUFDQ7kMPf",
    "papermill": {
     "duration": 0.134353,
     "end_time": "2020-10-03T08:43:18.337425",
     "exception": false,
     "start_time": "2020-10-03T08:43:18.203072",
     "status": "completed"
    },
    "tags": []
   },
   "outputs": [],
   "source": [
    "data.drop(['ID_Patient_Care_Situation'], axis =1, inplace=True)"
   ]
  },
  {
   "cell_type": "markdown",
   "metadata": {
    "id": "y-3jjan0k4eZ",
    "papermill": {
     "duration": 0.123755,
     "end_time": "2020-10-03T08:43:18.584687",
     "exception": false,
     "start_time": "2020-10-03T08:43:18.460932",
     "status": "completed"
    },
    "tags": []
   },
   "source": [
    "### **Prepare Train/Test Data**\n",
    "\n",
    "1. Separating the input and output variables\n",
    "\n",
    "Before building any machine learning model, we always separate the input variables and output variables. Input variables are those quantities whose values are changed naturally in an experiment, whereas output variable is the one whose values are dependent on the input variables. So, input variables are also known as independent variables as its values are not dependent on any other quantity, and output variable/s are also known as dependent variables as its values are dependent on other variable i.e. input variables. Like here in this data, we can see that whether a person will survive after one year or not, depends on other variables like, age, diagnosis, body mass index, drugs used, etc.\n",
    "\n",
    "By convention input variables are represented with 'X' and output variables are represented with 'y'."
   ]
  },
  {
   "cell_type": "code",
   "execution_count": 36,
   "metadata": {
    "execution": {
     "iopub.execute_input": "2020-10-03T08:43:18.842668Z",
     "iopub.status.busy": "2020-10-03T08:43:18.841693Z",
     "iopub.status.idle": "2020-10-03T08:43:18.844899Z",
     "shell.execute_reply": "2020-10-03T08:43:18.844285Z"
    },
    "id": "wb6a2XmiSA9r",
    "papermill": {
     "duration": 0.135299,
     "end_time": "2020-10-03T08:43:18.845022",
     "exception": false,
     "start_time": "2020-10-03T08:43:18.709723",
     "status": "completed"
    },
    "tags": []
   },
   "outputs": [],
   "source": [
    "X = data.drop('Survived_1_year',axis = 1)\n",
    "y = data['Survived_1_year']"
   ]
  },
  {
   "cell_type": "markdown",
   "metadata": {
    "id": "HQzEPkTnk9ko",
    "papermill": {
     "duration": 0.122849,
     "end_time": "2020-10-03T08:43:19.092245",
     "exception": false,
     "start_time": "2020-10-03T08:43:18.969396",
     "status": "completed"
    },
    "tags": []
   },
   "source": [
    "2. Train/test split\n",
    "\n",
    "We want to check the performance of the model that we built. For this purpose, we always split (both input and output data) the given data into training set which will be used to train the model, and test set which will be used to check how accurately the model is predicting outcomes.\n",
    "\n",
    "For this purpose we have a class called 'train_test_split' in the 'sklearn.model_selection' module."
   ]
  },
  {
   "cell_type": "code",
   "execution_count": 37,
   "metadata": {
    "execution": {
     "iopub.execute_input": "2020-10-03T08:43:19.346355Z",
     "iopub.status.busy": "2020-10-03T08:43:19.345172Z",
     "iopub.status.idle": "2020-10-03T08:43:19.355717Z",
     "shell.execute_reply": "2020-10-03T08:43:19.355104Z"
    },
    "id": "vSM5z68MEsac",
    "papermill": {
     "duration": 0.140638,
     "end_time": "2020-10-03T08:43:19.355846",
     "exception": false,
     "start_time": "2020-10-03T08:43:19.215208",
     "status": "completed"
    },
    "tags": []
   },
   "outputs": [],
   "source": [
    "X_train, X_test, y_train, y_test = train_test_split(X, y, test_size=0.2, random_state=1)"
   ]
  },
  {
   "cell_type": "markdown",
   "metadata": {
    "id": "dae-IqqflAr6",
    "papermill": {
     "duration": 0.123674,
     "end_time": "2020-10-03T08:43:19.603106",
     "exception": false,
     "start_time": "2020-10-03T08:43:19.479432",
     "status": "completed"
    },
    "tags": []
   },
   "source": [
    "### **Model Building**\n",
    "\n",
    "We have seen from Exploratory Data Analysis that this is a classification problem as the target column 'Survived_1_year' has two values 0 - means the patient did not survive after one year of treatment, 1 - means the patient survived after one year of treatment. So we can use classification models for this problem. Some of the classification models are - Logistic Regression, Random Forest Classifier, Decision Tree Classifier, etc. However, we have used two of them - Logistic Regression and Random Forest Classifier."
   ]
  },
  {
   "cell_type": "markdown",
   "metadata": {
    "id": "aD4-0REovxrJ",
    "papermill": {
     "duration": 0.12422,
     "end_time": "2020-10-03T08:43:19.852698",
     "exception": false,
     "start_time": "2020-10-03T08:43:19.728478",
     "status": "completed"
    },
    "tags": []
   },
   "source": [
    "### 1. Logistic Regression Model"
   ]
  },
  {
   "cell_type": "code",
   "execution_count": 38,
   "metadata": {
    "execution": {
     "iopub.execute_input": "2020-10-03T08:43:20.108812Z",
     "iopub.status.busy": "2020-10-03T08:43:20.107997Z",
     "iopub.status.idle": "2020-10-03T08:43:20.398769Z",
     "shell.execute_reply": "2020-10-03T08:43:20.397882Z"
    },
    "id": "KetD4NJVRtm5",
    "outputId": "2428c258-307f-4686-e073-754661f6637f",
    "papermill": {
     "duration": 0.422438,
     "end_time": "2020-10-03T08:43:20.398916",
     "exception": false,
     "start_time": "2020-10-03T08:43:19.976478",
     "status": "completed"
    },
    "tags": []
   },
   "outputs": [
    {
     "data": {
      "text/plain": [
       "LogisticRegression(max_iter=1000)"
      ]
     },
     "execution_count": 38,
     "metadata": {},
     "output_type": "execute_result"
    }
   ],
   "source": [
    "model = LogisticRegression(max_iter = 1000)     # The maximum number of iterations will be 1000. This will help you prevent from convergence warning.\n",
    "model.fit(X_train,y_train)"
   ]
  },
  {
   "cell_type": "code",
   "execution_count": 39,
   "metadata": {
    "execution": {
     "iopub.execute_input": "2020-10-03T08:43:20.661717Z",
     "iopub.status.busy": "2020-10-03T08:43:20.660760Z",
     "iopub.status.idle": "2020-10-03T08:43:20.665379Z",
     "shell.execute_reply": "2020-10-03T08:43:20.664697Z"
    },
    "id": "8DsoStejSPBh",
    "papermill": {
     "duration": 0.138365,
     "end_time": "2020-10-03T08:43:20.665514",
     "exception": false,
     "start_time": "2020-10-03T08:43:20.527149",
     "status": "completed"
    },
    "tags": []
   },
   "outputs": [],
   "source": [
    "pred = model.predict(X_test)"
   ]
  },
  {
   "cell_type": "markdown",
   "metadata": {
    "id": "uitoAN9av66N",
    "papermill": {
     "duration": 0.136603,
     "end_time": "2020-10-03T08:43:20.964770",
     "exception": false,
     "start_time": "2020-10-03T08:43:20.828167",
     "status": "completed"
    },
    "tags": []
   },
   "source": [
    "*Evaluation:*"
   ]
  },
  {
   "cell_type": "code",
   "execution_count": 40,
   "metadata": {
    "execution": {
     "iopub.execute_input": "2020-10-03T08:43:21.225143Z",
     "iopub.status.busy": "2020-10-03T08:43:21.224269Z",
     "iopub.status.idle": "2020-10-03T08:43:21.233397Z",
     "shell.execute_reply": "2020-10-03T08:43:21.232628Z"
    },
    "id": "GyqSUSVaJ_DI",
    "outputId": "6cb9f9cc-edaf-46d8-f0c8-6e1b0546578f",
    "papermill": {
     "duration": 0.142559,
     "end_time": "2020-10-03T08:43:21.233539",
     "exception": false,
     "start_time": "2020-10-03T08:43:21.090980",
     "status": "completed"
    },
    "tags": []
   },
   "outputs": [
    {
     "name": "stdout",
     "output_type": "stream",
     "text": [
      "0.7901923359271766\n"
     ]
    }
   ],
   "source": [
    "print(f1_score(y_test,pred))"
   ]
  },
  {
   "cell_type": "markdown",
   "metadata": {
    "id": "zWHnuOoj1Dp3",
    "papermill": {
     "duration": 0.127899,
     "end_time": "2020-10-03T08:43:21.489609",
     "exception": false,
     "start_time": "2020-10-03T08:43:21.361710",
     "status": "completed"
    },
    "tags": []
   },
   "source": [
    "The f1 score by Logistic Regression model is 79%. Let's try Random Forest Classifier and see if we get better result with it."
   ]
  },
  {
   "cell_type": "markdown",
   "metadata": {
    "id": "Mhz9mf0HcuKK",
    "papermill": {
     "duration": 0.12715,
     "end_time": "2020-10-03T08:43:21.743490",
     "exception": false,
     "start_time": "2020-10-03T08:43:21.616340",
     "status": "completed"
    },
    "tags": []
   },
   "source": [
    "### 2. Random Forest"
   ]
  },
  {
   "cell_type": "code",
   "execution_count": 41,
   "metadata": {
    "execution": {
     "iopub.execute_input": "2020-10-03T08:43:22.005397Z",
     "iopub.status.busy": "2020-10-03T08:43:22.004546Z",
     "iopub.status.idle": "2020-10-03T08:43:22.154528Z",
     "shell.execute_reply": "2020-10-03T08:43:22.153704Z"
    },
    "id": "MJicCfODcOXf",
    "papermill": {
     "duration": 0.282322,
     "end_time": "2020-10-03T08:43:22.154673",
     "exception": false,
     "start_time": "2020-10-03T08:43:21.872351",
     "status": "completed"
    },
    "tags": []
   },
   "outputs": [],
   "source": [
    "from sklearn.feature_selection import SelectFromModel\n",
    "from sklearn.metrics import accuracy_score, f1_score\n",
    "from sklearn.ensemble import RandomForestClassifier"
   ]
  },
  {
   "cell_type": "code",
   "execution_count": 42,
   "metadata": {
    "execution": {
     "iopub.execute_input": "2020-10-03T08:43:22.416564Z",
     "iopub.status.busy": "2020-10-03T08:43:22.415702Z",
     "iopub.status.idle": "2020-10-03T08:43:35.187882Z",
     "shell.execute_reply": "2020-10-03T08:43:35.187028Z"
    },
    "id": "GntBm9iDcWUK",
    "outputId": "db5bcb25-1b53-4c76-c408-76c32283e2af",
    "papermill": {
     "duration": 12.905778,
     "end_time": "2020-10-03T08:43:35.188025",
     "exception": false,
     "start_time": "2020-10-03T08:43:22.282247",
     "status": "completed"
    },
    "tags": []
   },
   "outputs": [
    {
     "data": {
      "text/plain": [
       "RandomForestClassifier(max_depth=5, n_estimators=1000, random_state=1)"
      ]
     },
     "execution_count": 42,
     "metadata": {},
     "output_type": "execute_result"
    }
   ],
   "source": [
    "forest = RandomForestClassifier(random_state=1, n_estimators=1000, max_depth=5)\n",
    " \n",
    "forest.fit(X_train, y_train)"
   ]
  },
  {
   "cell_type": "markdown",
   "metadata": {
    "id": "FSabv6OWRMsz",
    "papermill": {
     "duration": 0.126163,
     "end_time": "2020-10-03T08:43:35.440474",
     "exception": false,
     "start_time": "2020-10-03T08:43:35.314311",
     "status": "completed"
    },
    "tags": []
   },
   "source": [
    "##### Evaluating on X_test"
   ]
  },
  {
   "cell_type": "code",
   "execution_count": 43,
   "metadata": {
    "execution": {
     "iopub.execute_input": "2020-10-03T08:43:35.705898Z",
     "iopub.status.busy": "2020-10-03T08:43:35.704708Z",
     "iopub.status.idle": "2020-10-03T08:43:36.217279Z",
     "shell.execute_reply": "2020-10-03T08:43:36.216513Z"
    },
    "id": "vX62NXtlcbwn",
    "outputId": "e352b133-2996-47aa-c334-7c597fb613a3",
    "papermill": {
     "duration": 0.649912,
     "end_time": "2020-10-03T08:43:36.217408",
     "exception": false,
     "start_time": "2020-10-03T08:43:35.567496",
     "status": "completed"
    },
    "tags": []
   },
   "outputs": [
    {
     "data": {
      "text/plain": [
       "0.8407117437722419"
      ]
     },
     "execution_count": 43,
     "metadata": {},
     "output_type": "execute_result"
    }
   ],
   "source": [
    "y_pred = forest.predict(X_test)\n",
    "\n",
    "fscore = f1_score(y_test ,y_pred)\n",
    "fscore"
   ]
  },
  {
   "cell_type": "markdown",
   "metadata": {
    "id": "JJdXWQUr1jLh",
    "papermill": {
     "duration": 0.129834,
     "end_time": "2020-10-03T08:43:36.473750",
     "exception": false,
     "start_time": "2020-10-03T08:43:36.343916",
     "status": "completed"
    },
    "tags": []
   },
   "source": [
    "The f1 score by Random Forest classifier is 84% which is better than logistic regression.\n",
    "\n",
    "Well there are so many feaures to train the model. We can go and try some feature selection techniques and check if the performance of Random Forest is affected or not. And see if with the decrease in the complexity of model is satisfactory with minimal affect to the performance of the model.\n",
    "\n",
    "We have used the Boruta feature selector. You can use some other techniques too and see if that is giving better result than Boruta."
   ]
  },
  {
   "cell_type": "markdown",
   "metadata": {
    "id": "t3SKPXc5cHsM",
    "papermill": {
     "duration": 0.126273,
     "end_time": "2020-10-03T08:43:36.726420",
     "exception": false,
     "start_time": "2020-10-03T08:43:36.600147",
     "status": "completed"
    },
    "tags": []
   },
   "source": [
    "### 3. Random Forest and Boruta"
   ]
  },
  {
   "cell_type": "markdown",
   "metadata": {
    "id": "43DOz7pTTV31",
    "papermill": {
     "duration": 0.127718,
     "end_time": "2020-10-03T08:43:36.981166",
     "exception": false,
     "start_time": "2020-10-03T08:43:36.853448",
     "status": "completed"
    },
    "tags": []
   },
   "source": [
    "**Note:** Before proceeding ahead please revise the feature selection Notebook or the session if you don't remember what is **'Boruta'**.\n",
    "\n",
    "Boruta is an all-relevant feature selection method. Unlike other techniques that select small set of features to minimize the error, Boruta tries to capture all the important and interesting features you might have in your dataset with respect to the target variable.\n",
    "\n",
    "Boruta by default uses random forest although it works with other algorithms like LightGBM, XGBoost etc.\n",
    "\n",
    "You can install Boruta with the command\n",
    "\n",
    "pip install Boruta"
   ]
  },
  {
   "cell_type": "code",
   "execution_count": 44,
   "metadata": {
    "execution": {
     "iopub.execute_input": "2020-10-03T08:43:37.239777Z",
     "iopub.status.busy": "2020-10-03T08:43:37.238852Z",
     "iopub.status.idle": "2020-10-03T08:43:47.161973Z",
     "shell.execute_reply": "2020-10-03T08:43:47.161192Z"
    },
    "id": "FtMJXkPWb66M",
    "outputId": "36bfadaf-80c4-44e9-8f31-4085244e079e",
    "papermill": {
     "duration": 10.054467,
     "end_time": "2020-10-03T08:43:47.162100",
     "exception": false,
     "start_time": "2020-10-03T08:43:37.107633",
     "status": "completed"
    },
    "tags": []
   },
   "outputs": [
    {
     "name": "stdout",
     "output_type": "stream",
     "text": [
      "Requirement already satisfied: Boruta in /opt/conda/lib/python3.7/site-packages (0.3)\r\n",
      "Requirement already satisfied: scipy>=0.17.0 in /opt/conda/lib/python3.7/site-packages (from Boruta) (1.4.1)\r\n",
      "Requirement already satisfied: numpy>=1.10.4 in /opt/conda/lib/python3.7/site-packages (from Boruta) (1.18.5)\r\n",
      "Requirement already satisfied: scikit-learn>=0.17.1 in /opt/conda/lib/python3.7/site-packages (from Boruta) (0.23.2)\r\n",
      "Requirement already satisfied: threadpoolctl>=2.0.0 in /opt/conda/lib/python3.7/site-packages (from scikit-learn>=0.17.1->Boruta) (2.1.0)\r\n",
      "Requirement already satisfied: joblib>=0.11 in /opt/conda/lib/python3.7/site-packages (from scikit-learn>=0.17.1->Boruta) (0.14.1)\r\n"
     ]
    }
   ],
   "source": [
    "!pip install Boruta"
   ]
  },
  {
   "cell_type": "code",
   "execution_count": 45,
   "metadata": {
    "execution": {
     "iopub.execute_input": "2020-10-03T08:43:47.426773Z",
     "iopub.status.busy": "2020-10-03T08:43:47.425943Z",
     "iopub.status.idle": "2020-10-03T08:43:47.434131Z",
     "shell.execute_reply": "2020-10-03T08:43:47.433531Z"
    },
    "id": "asX2mOdTciEJ",
    "papermill": {
     "duration": 0.145031,
     "end_time": "2020-10-03T08:43:47.434310",
     "exception": false,
     "start_time": "2020-10-03T08:43:47.289279",
     "status": "completed"
    },
    "tags": []
   },
   "outputs": [],
   "source": [
    "from boruta import BorutaPy"
   ]
  },
  {
   "cell_type": "code",
   "execution_count": 46,
   "metadata": {
    "execution": {
     "iopub.execute_input": "2020-10-03T08:43:47.701157Z",
     "iopub.status.busy": "2020-10-03T08:43:47.700347Z",
     "iopub.status.idle": "2020-10-03T08:47:26.609594Z",
     "shell.execute_reply": "2020-10-03T08:47:26.608944Z"
    },
    "id": "MUrj1AkQc3a-",
    "outputId": "5e4dc3d8-38e7-48ab-eb26-92b0fc4e44a4",
    "papermill": {
     "duration": 219.045697,
     "end_time": "2020-10-03T08:47:26.609737",
     "exception": false,
     "start_time": "2020-10-03T08:43:47.564040",
     "status": "completed"
    },
    "tags": []
   },
   "outputs": [
    {
     "name": "stdout",
     "output_type": "stream",
     "text": [
      "Iteration: \t1 / 100\n",
      "Confirmed: \t0\n",
      "Tentative: \t22\n",
      "Rejected: \t0\n",
      "Iteration: \t2 / 100\n",
      "Confirmed: \t0\n",
      "Tentative: \t22\n",
      "Rejected: \t0\n",
      "Iteration: \t3 / 100\n",
      "Confirmed: \t0\n",
      "Tentative: \t22\n",
      "Rejected: \t0\n",
      "Iteration: \t4 / 100\n",
      "Confirmed: \t0\n",
      "Tentative: \t22\n",
      "Rejected: \t0\n",
      "Iteration: \t5 / 100\n",
      "Confirmed: \t0\n",
      "Tentative: \t22\n",
      "Rejected: \t0\n",
      "Iteration: \t6 / 100\n",
      "Confirmed: \t0\n",
      "Tentative: \t22\n",
      "Rejected: \t0\n",
      "Iteration: \t7 / 100\n",
      "Confirmed: \t0\n",
      "Tentative: \t22\n",
      "Rejected: \t0\n",
      "Iteration: \t8 / 100\n",
      "Confirmed: \t17\n",
      "Tentative: \t2\n",
      "Rejected: \t3\n",
      "Iteration: \t9 / 100\n",
      "Confirmed: \t17\n",
      "Tentative: \t2\n",
      "Rejected: \t3\n",
      "Iteration: \t10 / 100\n",
      "Confirmed: \t17\n",
      "Tentative: \t2\n",
      "Rejected: \t3\n",
      "Iteration: \t11 / 100\n",
      "Confirmed: \t17\n",
      "Tentative: \t2\n",
      "Rejected: \t3\n",
      "Iteration: \t12 / 100\n",
      "Confirmed: \t17\n",
      "Tentative: \t2\n",
      "Rejected: \t3\n",
      "Iteration: \t13 / 100\n",
      "Confirmed: \t17\n",
      "Tentative: \t2\n",
      "Rejected: \t3\n",
      "Iteration: \t14 / 100\n",
      "Confirmed: \t17\n",
      "Tentative: \t2\n",
      "Rejected: \t3\n",
      "Iteration: \t15 / 100\n",
      "Confirmed: \t17\n",
      "Tentative: \t2\n",
      "Rejected: \t3\n",
      "Iteration: \t16 / 100\n",
      "Confirmed: \t17\n",
      "Tentative: \t2\n",
      "Rejected: \t3\n",
      "Iteration: \t17 / 100\n",
      "Confirmed: \t17\n",
      "Tentative: \t2\n",
      "Rejected: \t3\n",
      "Iteration: \t18 / 100\n",
      "Confirmed: \t17\n",
      "Tentative: \t2\n",
      "Rejected: \t3\n",
      "Iteration: \t19 / 100\n",
      "Confirmed: \t17\n",
      "Tentative: \t2\n",
      "Rejected: \t3\n",
      "Iteration: \t20 / 100\n",
      "Confirmed: \t17\n",
      "Tentative: \t2\n",
      "Rejected: \t3\n",
      "Iteration: \t21 / 100\n",
      "Confirmed: \t17\n",
      "Tentative: \t2\n",
      "Rejected: \t3\n",
      "Iteration: \t22 / 100\n",
      "Confirmed: \t17\n",
      "Tentative: \t2\n",
      "Rejected: \t3\n",
      "Iteration: \t23 / 100\n",
      "Confirmed: \t17\n",
      "Tentative: \t2\n",
      "Rejected: \t3\n",
      "Iteration: \t24 / 100\n",
      "Confirmed: \t17\n",
      "Tentative: \t2\n",
      "Rejected: \t3\n",
      "Iteration: \t25 / 100\n",
      "Confirmed: \t17\n",
      "Tentative: \t2\n",
      "Rejected: \t3\n",
      "Iteration: \t26 / 100\n",
      "Confirmed: \t17\n",
      "Tentative: \t2\n",
      "Rejected: \t3\n",
      "Iteration: \t27 / 100\n",
      "Confirmed: \t17\n",
      "Tentative: \t2\n",
      "Rejected: \t3\n",
      "Iteration: \t28 / 100\n",
      "Confirmed: \t17\n",
      "Tentative: \t2\n",
      "Rejected: \t3\n",
      "Iteration: \t29 / 100\n",
      "Confirmed: \t17\n",
      "Tentative: \t2\n",
      "Rejected: \t3\n",
      "Iteration: \t30 / 100\n",
      "Confirmed: \t17\n",
      "Tentative: \t2\n",
      "Rejected: \t3\n",
      "Iteration: \t31 / 100\n",
      "Confirmed: \t17\n",
      "Tentative: \t2\n",
      "Rejected: \t3\n",
      "Iteration: \t32 / 100\n",
      "Confirmed: \t17\n",
      "Tentative: \t2\n",
      "Rejected: \t3\n",
      "Iteration: \t33 / 100\n",
      "Confirmed: \t17\n",
      "Tentative: \t2\n",
      "Rejected: \t3\n",
      "Iteration: \t34 / 100\n",
      "Confirmed: \t17\n",
      "Tentative: \t2\n",
      "Rejected: \t3\n",
      "Iteration: \t35 / 100\n",
      "Confirmed: \t17\n",
      "Tentative: \t2\n",
      "Rejected: \t3\n",
      "Iteration: \t36 / 100\n",
      "Confirmed: \t17\n",
      "Tentative: \t2\n",
      "Rejected: \t3\n",
      "Iteration: \t37 / 100\n",
      "Confirmed: \t17\n",
      "Tentative: \t2\n",
      "Rejected: \t3\n",
      "Iteration: \t38 / 100\n",
      "Confirmed: \t17\n",
      "Tentative: \t2\n",
      "Rejected: \t3\n",
      "Iteration: \t39 / 100\n",
      "Confirmed: \t17\n",
      "Tentative: \t2\n",
      "Rejected: \t3\n",
      "Iteration: \t40 / 100\n",
      "Confirmed: \t17\n",
      "Tentative: \t2\n",
      "Rejected: \t3\n",
      "Iteration: \t41 / 100\n",
      "Confirmed: \t17\n",
      "Tentative: \t2\n",
      "Rejected: \t3\n",
      "Iteration: \t42 / 100\n",
      "Confirmed: \t17\n",
      "Tentative: \t2\n",
      "Rejected: \t3\n",
      "Iteration: \t43 / 100\n",
      "Confirmed: \t17\n",
      "Tentative: \t2\n",
      "Rejected: \t3\n",
      "Iteration: \t44 / 100\n",
      "Confirmed: \t17\n",
      "Tentative: \t2\n",
      "Rejected: \t3\n",
      "Iteration: \t45 / 100\n",
      "Confirmed: \t17\n",
      "Tentative: \t2\n",
      "Rejected: \t3\n",
      "Iteration: \t46 / 100\n",
      "Confirmed: \t17\n",
      "Tentative: \t2\n",
      "Rejected: \t3\n",
      "Iteration: \t47 / 100\n",
      "Confirmed: \t17\n",
      "Tentative: \t2\n",
      "Rejected: \t3\n",
      "Iteration: \t48 / 100\n",
      "Confirmed: \t17\n",
      "Tentative: \t2\n",
      "Rejected: \t3\n",
      "Iteration: \t49 / 100\n",
      "Confirmed: \t17\n",
      "Tentative: \t2\n",
      "Rejected: \t3\n",
      "Iteration: \t50 / 100\n",
      "Confirmed: \t17\n",
      "Tentative: \t2\n",
      "Rejected: \t3\n",
      "Iteration: \t51 / 100\n",
      "Confirmed: \t17\n",
      "Tentative: \t2\n",
      "Rejected: \t3\n",
      "Iteration: \t52 / 100\n",
      "Confirmed: \t17\n",
      "Tentative: \t2\n",
      "Rejected: \t3\n",
      "Iteration: \t53 / 100\n",
      "Confirmed: \t17\n",
      "Tentative: \t2\n",
      "Rejected: \t3\n",
      "Iteration: \t54 / 100\n",
      "Confirmed: \t18\n",
      "Tentative: \t1\n",
      "Rejected: \t3\n",
      "Iteration: \t55 / 100\n",
      "Confirmed: \t18\n",
      "Tentative: \t1\n",
      "Rejected: \t3\n",
      "Iteration: \t56 / 100\n",
      "Confirmed: \t18\n",
      "Tentative: \t1\n",
      "Rejected: \t3\n",
      "Iteration: \t57 / 100\n",
      "Confirmed: \t18\n",
      "Tentative: \t1\n",
      "Rejected: \t3\n",
      "Iteration: \t58 / 100\n",
      "Confirmed: \t18\n",
      "Tentative: \t1\n",
      "Rejected: \t3\n",
      "Iteration: \t59 / 100\n",
      "Confirmed: \t18\n",
      "Tentative: \t1\n",
      "Rejected: \t3\n",
      "Iteration: \t60 / 100\n",
      "Confirmed: \t18\n",
      "Tentative: \t1\n",
      "Rejected: \t3\n",
      "Iteration: \t61 / 100\n",
      "Confirmed: \t18\n",
      "Tentative: \t1\n",
      "Rejected: \t3\n",
      "Iteration: \t62 / 100\n",
      "Confirmed: \t18\n",
      "Tentative: \t1\n",
      "Rejected: \t3\n",
      "Iteration: \t63 / 100\n",
      "Confirmed: \t18\n",
      "Tentative: \t1\n",
      "Rejected: \t3\n",
      "Iteration: \t64 / 100\n",
      "Confirmed: \t18\n",
      "Tentative: \t1\n",
      "Rejected: \t3\n",
      "Iteration: \t65 / 100\n",
      "Confirmed: \t18\n",
      "Tentative: \t1\n",
      "Rejected: \t3\n",
      "Iteration: \t66 / 100\n",
      "Confirmed: \t18\n",
      "Tentative: \t1\n",
      "Rejected: \t3\n",
      "Iteration: \t67 / 100\n",
      "Confirmed: \t18\n",
      "Tentative: \t1\n",
      "Rejected: \t3\n",
      "Iteration: \t68 / 100\n",
      "Confirmed: \t18\n",
      "Tentative: \t1\n",
      "Rejected: \t3\n",
      "Iteration: \t69 / 100\n",
      "Confirmed: \t18\n",
      "Tentative: \t1\n",
      "Rejected: \t3\n",
      "Iteration: \t70 / 100\n",
      "Confirmed: \t18\n",
      "Tentative: \t1\n",
      "Rejected: \t3\n",
      "Iteration: \t71 / 100\n",
      "Confirmed: \t18\n",
      "Tentative: \t1\n",
      "Rejected: \t3\n",
      "Iteration: \t72 / 100\n",
      "Confirmed: \t18\n",
      "Tentative: \t1\n",
      "Rejected: \t3\n",
      "Iteration: \t73 / 100\n",
      "Confirmed: \t18\n",
      "Tentative: \t1\n",
      "Rejected: \t3\n",
      "Iteration: \t74 / 100\n",
      "Confirmed: \t18\n",
      "Tentative: \t1\n",
      "Rejected: \t3\n",
      "Iteration: \t75 / 100\n",
      "Confirmed: \t18\n",
      "Tentative: \t1\n",
      "Rejected: \t3\n",
      "Iteration: \t76 / 100\n",
      "Confirmed: \t18\n",
      "Tentative: \t1\n",
      "Rejected: \t3\n",
      "Iteration: \t77 / 100\n",
      "Confirmed: \t18\n",
      "Tentative: \t1\n",
      "Rejected: \t3\n",
      "Iteration: \t78 / 100\n",
      "Confirmed: \t18\n",
      "Tentative: \t1\n",
      "Rejected: \t3\n",
      "Iteration: \t79 / 100\n",
      "Confirmed: \t18\n",
      "Tentative: \t1\n",
      "Rejected: \t3\n",
      "Iteration: \t80 / 100\n",
      "Confirmed: \t18\n",
      "Tentative: \t1\n",
      "Rejected: \t3\n",
      "Iteration: \t81 / 100\n",
      "Confirmed: \t18\n",
      "Tentative: \t1\n",
      "Rejected: \t3\n",
      "Iteration: \t82 / 100\n",
      "Confirmed: \t18\n",
      "Tentative: \t1\n",
      "Rejected: \t3\n",
      "Iteration: \t83 / 100\n",
      "Confirmed: \t18\n",
      "Tentative: \t1\n",
      "Rejected: \t3\n",
      "Iteration: \t84 / 100\n",
      "Confirmed: \t18\n",
      "Tentative: \t1\n",
      "Rejected: \t3\n",
      "Iteration: \t85 / 100\n",
      "Confirmed: \t18\n",
      "Tentative: \t1\n",
      "Rejected: \t3\n",
      "Iteration: \t86 / 100\n",
      "Confirmed: \t18\n",
      "Tentative: \t1\n",
      "Rejected: \t3\n",
      "Iteration: \t87 / 100\n",
      "Confirmed: \t18\n",
      "Tentative: \t1\n",
      "Rejected: \t3\n",
      "Iteration: \t88 / 100\n",
      "Confirmed: \t18\n",
      "Tentative: \t1\n",
      "Rejected: \t3\n",
      "Iteration: \t89 / 100\n",
      "Confirmed: \t18\n",
      "Tentative: \t1\n",
      "Rejected: \t3\n",
      "Iteration: \t90 / 100\n",
      "Confirmed: \t18\n",
      "Tentative: \t1\n",
      "Rejected: \t3\n",
      "Iteration: \t91 / 100\n",
      "Confirmed: \t18\n",
      "Tentative: \t1\n",
      "Rejected: \t3\n",
      "Iteration: \t92 / 100\n",
      "Confirmed: \t18\n",
      "Tentative: \t1\n",
      "Rejected: \t3\n",
      "Iteration: \t93 / 100\n",
      "Confirmed: \t18\n",
      "Tentative: \t1\n",
      "Rejected: \t3\n",
      "Iteration: \t94 / 100\n",
      "Confirmed: \t18\n",
      "Tentative: \t1\n",
      "Rejected: \t3\n",
      "Iteration: \t95 / 100\n",
      "Confirmed: \t18\n",
      "Tentative: \t1\n",
      "Rejected: \t3\n",
      "Iteration: \t96 / 100\n",
      "Confirmed: \t18\n",
      "Tentative: \t1\n",
      "Rejected: \t3\n",
      "Iteration: \t97 / 100\n",
      "Confirmed: \t18\n",
      "Tentative: \t1\n",
      "Rejected: \t3\n",
      "Iteration: \t98 / 100\n",
      "Confirmed: \t18\n",
      "Tentative: \t1\n",
      "Rejected: \t3\n",
      "Iteration: \t99 / 100\n",
      "Confirmed: \t18\n",
      "Tentative: \t1\n",
      "Rejected: \t3\n",
      "\n",
      "\n",
      "BorutaPy finished running.\n",
      "\n",
      "Iteration: \t100 / 100\n",
      "Confirmed: \t18\n",
      "Tentative: \t0\n",
      "Rejected: \t3\n"
     ]
    },
    {
     "data": {
      "text/plain": [
       "BorutaPy(estimator=RandomForestClassifier(max_depth=5, n_estimators=123,\n",
       "                                          random_state=RandomState(MT19937) at 0x7FD1414C7270),\n",
       "         n_estimators='auto',\n",
       "         random_state=RandomState(MT19937) at 0x7FD1414C7270, verbose=2)"
      ]
     },
     "execution_count": 46,
     "metadata": {},
     "output_type": "execute_result"
    }
   ],
   "source": [
    "boruta_selector = BorutaPy(forest, n_estimators='auto', verbose=2, random_state=1)   # initialize the boruta selector\n",
    "boruta_selector.fit(np.array(X_train), np.array(y_train))       # fitting the boruta selector to get all relavent features. NOTE: BorutaPy accepts numpy arrays only."
   ]
  },
  {
   "cell_type": "code",
   "execution_count": 47,
   "metadata": {
    "execution": {
     "iopub.execute_input": "2020-10-03T08:47:26.966006Z",
     "iopub.status.busy": "2020-10-03T08:47:26.964890Z",
     "iopub.status.idle": "2020-10-03T08:47:26.969001Z",
     "shell.execute_reply": "2020-10-03T08:47:26.969800Z"
    },
    "id": "MTy7LKwVc6sS",
    "outputId": "1cec8051-db2d-4e7a-bc2b-902ce3cc5819",
    "papermill": {
     "duration": 0.187608,
     "end_time": "2020-10-03T08:47:26.969996",
     "exception": false,
     "start_time": "2020-10-03T08:47:26.782388",
     "status": "completed"
    },
    "tags": []
   },
   "outputs": [
    {
     "name": "stdout",
     "output_type": "stream",
     "text": [
      "Selected Features:  [ True  True  True  True  True  True False  True False False False  True\n",
      "  True  True  True  True  True  True  True  True  True  True]\n",
      "Ranking:  [1 1 1 1 1 1 2 1 3 4 5 1 1 1 1 1 1 1 1 1 1 1]\n",
      "No. of significant features:  18\n"
     ]
    }
   ],
   "source": [
    "print(\"Selected Features: \", boruta_selector.support_)    # check selected features\n",
    " \n",
    "\n",
    "print(\"Ranking: \",boruta_selector.ranking_)               # check ranking of features\n",
    "\n",
    "print(\"No. of significant features: \", boruta_selector.n_features_)"
   ]
  },
  {
   "cell_type": "markdown",
   "metadata": {
    "id": "fY14-4754gB9",
    "papermill": {
     "duration": 0.175911,
     "end_time": "2020-10-03T08:47:27.316919",
     "exception": false,
     "start_time": "2020-10-03T08:47:27.141008",
     "status": "completed"
    },
    "tags": []
   },
   "source": [
    "So boruta has selected 17 relavent features. # Let's visualise it better in the form of a table"
   ]
  },
  {
   "cell_type": "markdown",
   "metadata": {
    "id": "c2wK8F8GRWW4",
    "papermill": {
     "duration": 0.170373,
     "end_time": "2020-10-03T08:47:27.663528",
     "exception": false,
     "start_time": "2020-10-03T08:47:27.493155",
     "status": "completed"
    },
    "tags": []
   },
   "source": [
    "#### Displaying features rank wise"
   ]
  },
  {
   "cell_type": "code",
   "execution_count": 48,
   "metadata": {
    "execution": {
     "iopub.execute_input": "2020-10-03T08:47:28.029382Z",
     "iopub.status.busy": "2020-10-03T08:47:28.028314Z",
     "iopub.status.idle": "2020-10-03T08:47:28.033605Z",
     "shell.execute_reply": "2020-10-03T08:47:28.032858Z"
    },
    "id": "v88hkWC3dB3k",
    "outputId": "2822023b-48d5-4b2b-eb18-3dc98c5da390",
    "papermill": {
     "duration": 0.199017,
     "end_time": "2020-10-03T08:47:28.033737",
     "exception": false,
     "start_time": "2020-10-03T08:47:27.834720",
     "status": "completed"
    },
    "tags": []
   },
   "outputs": [
    {
     "data": {
      "text/html": [
       "<div>\n",
       "<style scoped>\n",
       "    .dataframe tbody tr th:only-of-type {\n",
       "        vertical-align: middle;\n",
       "    }\n",
       "\n",
       "    .dataframe tbody tr th {\n",
       "        vertical-align: top;\n",
       "    }\n",
       "\n",
       "    .dataframe thead th {\n",
       "        text-align: right;\n",
       "    }\n",
       "</style>\n",
       "<table border=\"1\" class=\"dataframe\">\n",
       "  <thead>\n",
       "    <tr style=\"text-align: right;\">\n",
       "      <th></th>\n",
       "      <th>Feature</th>\n",
       "      <th>Ranking</th>\n",
       "    </tr>\n",
       "  </thead>\n",
       "  <tbody>\n",
       "    <tr>\n",
       "      <th>0</th>\n",
       "      <td>Diagnosed_Condition</td>\n",
       "      <td>1</td>\n",
       "    </tr>\n",
       "    <tr>\n",
       "      <th>19</th>\n",
       "      <td>Patient_Smoker_YES</td>\n",
       "      <td>1</td>\n",
       "    </tr>\n",
       "    <tr>\n",
       "      <th>18</th>\n",
       "      <td>Patient_Smoker_NO</td>\n",
       "      <td>1</td>\n",
       "    </tr>\n",
       "    <tr>\n",
       "      <th>17</th>\n",
       "      <td>DX6</td>\n",
       "      <td>1</td>\n",
       "    </tr>\n",
       "    <tr>\n",
       "      <th>16</th>\n",
       "      <td>DX5</td>\n",
       "      <td>1</td>\n",
       "    </tr>\n",
       "    <tr>\n",
       "      <th>15</th>\n",
       "      <td>DX4</td>\n",
       "      <td>1</td>\n",
       "    </tr>\n",
       "    <tr>\n",
       "      <th>14</th>\n",
       "      <td>DX3</td>\n",
       "      <td>1</td>\n",
       "    </tr>\n",
       "    <tr>\n",
       "      <th>13</th>\n",
       "      <td>DX2</td>\n",
       "      <td>1</td>\n",
       "    </tr>\n",
       "    <tr>\n",
       "      <th>12</th>\n",
       "      <td>DX1</td>\n",
       "      <td>1</td>\n",
       "    </tr>\n",
       "    <tr>\n",
       "      <th>11</th>\n",
       "      <td>Number_of_prev_cond</td>\n",
       "      <td>1</td>\n",
       "    </tr>\n",
       "    <tr>\n",
       "      <th>21</th>\n",
       "      <td>Patient_Rural_Urban_URBAN</td>\n",
       "      <td>1</td>\n",
       "    </tr>\n",
       "    <tr>\n",
       "      <th>7</th>\n",
       "      <td>D</td>\n",
       "      <td>1</td>\n",
       "    </tr>\n",
       "    <tr>\n",
       "      <th>5</th>\n",
       "      <td>B</td>\n",
       "      <td>1</td>\n",
       "    </tr>\n",
       "    <tr>\n",
       "      <th>4</th>\n",
       "      <td>A</td>\n",
       "      <td>1</td>\n",
       "    </tr>\n",
       "    <tr>\n",
       "      <th>3</th>\n",
       "      <td>Patient_Body_Mass_Index</td>\n",
       "      <td>1</td>\n",
       "    </tr>\n",
       "    <tr>\n",
       "      <th>2</th>\n",
       "      <td>Patient_Age</td>\n",
       "      <td>1</td>\n",
       "    </tr>\n",
       "    <tr>\n",
       "      <th>1</th>\n",
       "      <td>Patient_ID</td>\n",
       "      <td>1</td>\n",
       "    </tr>\n",
       "    <tr>\n",
       "      <th>20</th>\n",
       "      <td>Patient_Rural_Urban_RURAL</td>\n",
       "      <td>1</td>\n",
       "    </tr>\n",
       "    <tr>\n",
       "      <th>6</th>\n",
       "      <td>C</td>\n",
       "      <td>2</td>\n",
       "    </tr>\n",
       "    <tr>\n",
       "      <th>8</th>\n",
       "      <td>E</td>\n",
       "      <td>3</td>\n",
       "    </tr>\n",
       "    <tr>\n",
       "      <th>9</th>\n",
       "      <td>F</td>\n",
       "      <td>4</td>\n",
       "    </tr>\n",
       "    <tr>\n",
       "      <th>10</th>\n",
       "      <td>Z</td>\n",
       "      <td>5</td>\n",
       "    </tr>\n",
       "  </tbody>\n",
       "</table>\n",
       "</div>"
      ],
      "text/plain": [
       "                      Feature  Ranking\n",
       "0         Diagnosed_Condition        1\n",
       "19         Patient_Smoker_YES        1\n",
       "18          Patient_Smoker_NO        1\n",
       "17                        DX6        1\n",
       "16                        DX5        1\n",
       "15                        DX4        1\n",
       "14                        DX3        1\n",
       "13                        DX2        1\n",
       "12                        DX1        1\n",
       "11        Number_of_prev_cond        1\n",
       "21  Patient_Rural_Urban_URBAN        1\n",
       "7                           D        1\n",
       "5                           B        1\n",
       "4                           A        1\n",
       "3     Patient_Body_Mass_Index        1\n",
       "2                 Patient_Age        1\n",
       "1                  Patient_ID        1\n",
       "20  Patient_Rural_Urban_RURAL        1\n",
       "6                           C        2\n",
       "8                           E        3\n",
       "9                           F        4\n",
       "10                          Z        5"
      ]
     },
     "execution_count": 48,
     "metadata": {},
     "output_type": "execute_result"
    }
   ],
   "source": [
    "selected_rfe_features = pd.DataFrame({'Feature':list(X_train.columns),\n",
    "                                      'Ranking':boruta_selector.ranking_})\n",
    "selected_rfe_features.sort_values(by='Ranking')"
   ]
  },
  {
   "cell_type": "markdown",
   "metadata": {
    "id": "xo-BDdPuRbxw",
    "papermill": {
     "duration": 0.176528,
     "end_time": "2020-10-03T08:47:28.388617",
     "exception": false,
     "start_time": "2020-10-03T08:47:28.212089",
     "status": "completed"
    },
    "tags": []
   },
   "source": [
    "#### Create a new subset of the data with only the selected features"
   ]
  },
  {
   "cell_type": "code",
   "execution_count": 49,
   "metadata": {
    "execution": {
     "iopub.execute_input": "2020-10-03T08:47:28.742693Z",
     "iopub.status.busy": "2020-10-03T08:47:28.741476Z",
     "iopub.status.idle": "2020-10-03T08:47:28.751628Z",
     "shell.execute_reply": "2020-10-03T08:47:28.750938Z"
    },
    "id": "8DtY2Iz-dI_2",
    "papermill": {
     "duration": 0.189476,
     "end_time": "2020-10-03T08:47:28.751758",
     "exception": false,
     "start_time": "2020-10-03T08:47:28.562282",
     "status": "completed"
    },
    "tags": []
   },
   "outputs": [],
   "source": [
    "X_important_train = boruta_selector.transform(np.array(X_train))\n",
    "X_important_test = boruta_selector.transform(np.array(X_test))"
   ]
  },
  {
   "cell_type": "markdown",
   "metadata": {
    "id": "VaVT7UCcRg2J",
    "papermill": {
     "duration": 0.169792,
     "end_time": "2020-10-03T08:47:29.092156",
     "exception": false,
     "start_time": "2020-10-03T08:47:28.922364",
     "status": "completed"
    },
    "tags": []
   },
   "source": [
    "#### Build the model with selected features"
   ]
  },
  {
   "cell_type": "code",
   "execution_count": 50,
   "metadata": {
    "execution": {
     "iopub.execute_input": "2020-10-03T08:47:29.437250Z",
     "iopub.status.busy": "2020-10-03T08:47:29.436487Z",
     "iopub.status.idle": "2020-10-03T08:47:41.802683Z",
     "shell.execute_reply": "2020-10-03T08:47:41.803278Z"
    },
    "id": "Fx32lwXEdRvW",
    "outputId": "cee1bb45-98ed-48ca-be7e-1e96ce3286d2",
    "papermill": {
     "duration": 12.541376,
     "end_time": "2020-10-03T08:47:41.803451",
     "exception": false,
     "start_time": "2020-10-03T08:47:29.262075",
     "status": "completed"
    },
    "tags": []
   },
   "outputs": [
    {
     "data": {
      "text/plain": [
       "RandomForestClassifier(n_estimators=1000, n_jobs=-1, random_state=1)"
      ]
     },
     "execution_count": 50,
     "metadata": {},
     "output_type": "execute_result"
    }
   ],
   "source": [
    "# Create a new random forest classifier for the most important features\n",
    "rf_important = RandomForestClassifier(random_state=1, n_estimators=1000, n_jobs = -1)\n",
    "\n",
    "# Train the new classifier on the new dataset containing the most important features\n",
    "rf_important.fit(X_important_train, y_train)"
   ]
  },
  {
   "cell_type": "markdown",
   "metadata": {
    "id": "uq8A1rrVRoag",
    "papermill": {
     "duration": 0.170918,
     "end_time": "2020-10-03T08:47:42.148023",
     "exception": false,
     "start_time": "2020-10-03T08:47:41.977105",
     "status": "completed"
    },
    "tags": []
   },
   "source": [
    "#### Evaluation"
   ]
  },
  {
   "cell_type": "code",
   "execution_count": 51,
   "metadata": {
    "execution": {
     "iopub.execute_input": "2020-10-03T08:47:42.504194Z",
     "iopub.status.busy": "2020-10-03T08:47:42.502816Z",
     "iopub.status.idle": "2020-10-03T08:47:43.115465Z",
     "shell.execute_reply": "2020-10-03T08:47:43.114642Z"
    },
    "id": "9D8WzM-_dTRc",
    "papermill": {
     "duration": 0.791771,
     "end_time": "2020-10-03T08:47:43.115602",
     "exception": false,
     "start_time": "2020-10-03T08:47:42.323831",
     "status": "completed"
    },
    "tags": []
   },
   "outputs": [],
   "source": [
    "y_important_pred = rf_important.predict(X_important_test)\n",
    "rf_imp_fscore = f1_score(y_test, y_important_pred)"
   ]
  },
  {
   "cell_type": "code",
   "execution_count": 52,
   "metadata": {
    "execution": {
     "iopub.execute_input": "2020-10-03T08:47:43.465605Z",
     "iopub.status.busy": "2020-10-03T08:47:43.464600Z",
     "iopub.status.idle": "2020-10-03T08:47:43.469682Z",
     "shell.execute_reply": "2020-10-03T08:47:43.468963Z"
    },
    "id": "paMaslvYdbAU",
    "outputId": "f36950b3-e665-458e-bc61-7bcab88894ec",
    "papermill": {
     "duration": 0.180305,
     "end_time": "2020-10-03T08:47:43.469827",
     "exception": false,
     "start_time": "2020-10-03T08:47:43.289522",
     "status": "completed"
    },
    "tags": []
   },
   "outputs": [
    {
     "name": "stdout",
     "output_type": "stream",
     "text": [
      "0.8845614581710547\n"
     ]
    }
   ],
   "source": [
    "print(rf_imp_fscore)"
   ]
  },
  {
   "cell_type": "markdown",
   "metadata": {
    "id": "mjcaClQc5KEo",
    "papermill": {
     "duration": 0.172818,
     "end_time": "2020-10-03T08:47:43.814596",
     "exception": false,
     "start_time": "2020-10-03T08:47:43.641778",
     "status": "completed"
    },
    "tags": []
   },
   "source": [
    "If you remember from above that the Random Forest Classifier with all the features had given f1 score as 82.2% while after selecting some relavent features the Random Forest Classifier has given f1 score as 88.4% which is a good improvement in terms of bothe performance of the model (i.e. the result) and the complexity is also reduced."
   ]
  },
  {
   "cell_type": "markdown",
   "metadata": {
    "id": "boN4q7np5z9V",
    "papermill": {
     "duration": 0.214907,
     "end_time": "2020-10-03T08:47:44.200632",
     "exception": false,
     "start_time": "2020-10-03T08:47:43.985725",
     "status": "completed"
    },
    "tags": []
   },
   "source": [
    "Well we have chosen some of the parameters randomly like max_depht, n_estimators. There are many other parameters related to Random Forest model.If you remember we had discussed in our session 'Performance Evaluation' about Hyper parameter tunning. Hyper parameter tunnning helps you to choose a set of  optimal parameters for a model. So let's try if this helps us to further improve the performance of the model. \n",
    "\n",
    "Grid Search helps you to find the optimal parameter for a model."
   ]
  },
  {
   "cell_type": "markdown",
   "metadata": {
    "id": "6PvKiA0rpT4M",
    "papermill": {
     "duration": 0.172886,
     "end_time": "2020-10-03T08:47:44.545895",
     "exception": false,
     "start_time": "2020-10-03T08:47:44.373009",
     "status": "completed"
    },
    "tags": []
   },
   "source": [
    "### Hyper Parameter Tunning"
   ]
  },
  {
   "cell_type": "code",
   "execution_count": 53,
   "metadata": {
    "execution": {
     "iopub.execute_input": "2020-10-03T08:47:44.899057Z",
     "iopub.status.busy": "2020-10-03T08:47:44.898283Z",
     "iopub.status.idle": "2020-10-03T08:47:44.901424Z",
     "shell.execute_reply": "2020-10-03T08:47:44.900683Z"
    },
    "id": "UGaZ0-7zk8qw",
    "papermill": {
     "duration": 0.18313,
     "end_time": "2020-10-03T08:47:44.901554",
     "exception": false,
     "start_time": "2020-10-03T08:47:44.718424",
     "status": "completed"
    },
    "tags": []
   },
   "outputs": [],
   "source": [
    "from sklearn.model_selection import GridSearchCV\n",
    "# Create the parameter grid based on the results of random search \n",
    "param_grid = {\n",
    "    'bootstrap': [True, False],\n",
    "    'max_depth': [5, 10, 15],\n",
    "    'n_estimators': [500, 1000]}"
   ]
  },
  {
   "cell_type": "code",
   "execution_count": 54,
   "metadata": {
    "execution": {
     "iopub.execute_input": "2020-10-03T08:47:45.279005Z",
     "iopub.status.busy": "2020-10-03T08:47:45.278123Z",
     "iopub.status.idle": "2020-10-03T08:47:45.281782Z",
     "shell.execute_reply": "2020-10-03T08:47:45.281099Z"
    },
    "id": "omHxwedqqr58",
    "papermill": {
     "duration": 0.199079,
     "end_time": "2020-10-03T08:47:45.281917",
     "exception": false,
     "start_time": "2020-10-03T08:47:45.082838",
     "status": "completed"
    },
    "tags": []
   },
   "outputs": [],
   "source": [
    "rf = RandomForestClassifier(random_state = 1)\n",
    "\n",
    "# Grid search cv\n",
    "grid_search = GridSearchCV(estimator = rf, param_grid = param_grid, \n",
    "                          cv = 2, n_jobs = -1, verbose = 2)"
   ]
  },
  {
   "cell_type": "code",
   "execution_count": 55,
   "metadata": {
    "execution": {
     "iopub.execute_input": "2020-10-03T08:47:45.638559Z",
     "iopub.status.busy": "2020-10-03T08:47:45.637751Z",
     "iopub.status.idle": "2020-10-03T08:49:47.777564Z",
     "shell.execute_reply": "2020-10-03T08:49:47.776894Z"
    },
    "id": "wHe4obu9rIV1",
    "outputId": "f6e76002-3ef9-43fa-b1ef-5f094916cc29",
    "papermill": {
     "duration": 122.318399,
     "end_time": "2020-10-03T08:49:47.777713",
     "exception": false,
     "start_time": "2020-10-03T08:47:45.459314",
     "status": "completed"
    },
    "tags": []
   },
   "outputs": [
    {
     "name": "stdout",
     "output_type": "stream",
     "text": [
      "Fitting 2 folds for each of 12 candidates, totalling 24 fits\n"
     ]
    },
    {
     "name": "stderr",
     "output_type": "stream",
     "text": [
      "[Parallel(n_jobs=-1)]: Using backend LokyBackend with 4 concurrent workers.\n",
      "[Parallel(n_jobs=-1)]: Done  24 out of  24 | elapsed:  1.7min finished\n"
     ]
    },
    {
     "data": {
      "text/plain": [
       "GridSearchCV(cv=2, estimator=RandomForestClassifier(random_state=1), n_jobs=-1,\n",
       "             param_grid={'bootstrap': [True, False], 'max_depth': [5, 10, 15],\n",
       "                         'n_estimators': [500, 1000]},\n",
       "             verbose=2)"
      ]
     },
     "execution_count": 55,
     "metadata": {},
     "output_type": "execute_result"
    }
   ],
   "source": [
    "grid_search.fit(X_important_train, y_train)"
   ]
  },
  {
   "cell_type": "code",
   "execution_count": 56,
   "metadata": {
    "execution": {
     "iopub.execute_input": "2020-10-03T08:49:48.140470Z",
     "iopub.status.busy": "2020-10-03T08:49:48.139293Z",
     "iopub.status.idle": "2020-10-03T08:49:48.144037Z",
     "shell.execute_reply": "2020-10-03T08:49:48.143390Z"
    },
    "id": "D1l6ukxBrV4_",
    "outputId": "581d1297-ace3-46b0-dd18-1ee3c794c603",
    "papermill": {
     "duration": 0.190583,
     "end_time": "2020-10-03T08:49:48.144184",
     "exception": false,
     "start_time": "2020-10-03T08:49:47.953601",
     "status": "completed"
    },
    "tags": []
   },
   "outputs": [
    {
     "data": {
      "text/plain": [
       "{'bootstrap': False, 'max_depth': 15, 'n_estimators': 500}"
      ]
     },
     "execution_count": 56,
     "metadata": {},
     "output_type": "execute_result"
    }
   ],
   "source": [
    "grid_search.best_params_"
   ]
  },
  {
   "cell_type": "code",
   "execution_count": 57,
   "metadata": {
    "execution": {
     "iopub.execute_input": "2020-10-03T08:49:48.516444Z",
     "iopub.status.busy": "2020-10-03T08:49:48.515267Z",
     "iopub.status.idle": "2020-10-03T08:49:49.095082Z",
     "shell.execute_reply": "2020-10-03T08:49:49.094304Z"
    },
    "id": "Y3JxxuyVvY_g",
    "papermill": {
     "duration": 0.766349,
     "end_time": "2020-10-03T08:49:49.095212",
     "exception": false,
     "start_time": "2020-10-03T08:49:48.328863",
     "status": "completed"
    },
    "tags": []
   },
   "outputs": [],
   "source": [
    "pred = grid_search.predict(X_important_test)"
   ]
  },
  {
   "cell_type": "code",
   "execution_count": 58,
   "metadata": {
    "execution": {
     "iopub.execute_input": "2020-10-03T08:49:49.458000Z",
     "iopub.status.busy": "2020-10-03T08:49:49.457193Z",
     "iopub.status.idle": "2020-10-03T08:49:49.466529Z",
     "shell.execute_reply": "2020-10-03T08:49:49.465889Z"
    },
    "id": "NPjEU7eQvi4h",
    "outputId": "6ad72daf-48e3-4f48-c25a-6e640c217ad4",
    "papermill": {
     "duration": 0.193596,
     "end_time": "2020-10-03T08:49:49.466668",
     "exception": false,
     "start_time": "2020-10-03T08:49:49.273072",
     "status": "completed"
    },
    "tags": []
   },
   "outputs": [
    {
     "data": {
      "text/plain": [
       "0.8880666049953747"
      ]
     },
     "execution_count": 58,
     "metadata": {},
     "output_type": "execute_result"
    }
   ],
   "source": [
    "f1_score(y_test, pred)"
   ]
  },
  {
   "cell_type": "markdown",
   "metadata": {
    "id": "kCMP1u4iKiEe",
    "papermill": {
     "duration": 0.179685,
     "end_time": "2020-10-03T08:49:49.824842",
     "exception": false,
     "start_time": "2020-10-03T08:49:49.645157",
     "status": "completed"
    },
    "tags": []
   },
   "source": [
    "As you can see the accuracy has been improved from 88.4% to 88.8% by selecting some good parameters with the help of hyper parameter tunning - GridSearchCV"
   ]
  },
  {
   "cell_type": "markdown",
   "metadata": {
    "id": "xttBy89-LEq2",
    "papermill": {
     "duration": 0.181859,
     "end_time": "2020-10-03T08:49:50.182722",
     "exception": false,
     "start_time": "2020-10-03T08:49:50.000863",
     "status": "completed"
    },
    "tags": []
   },
   "source": [
    "# Conclusion\n",
    "* It is clearly observable that how the f1 scores increased from logistic regression to random forest, random forest with full features to random forest on the selected features using Boruta. \n",
    "* Then again the f1 score increased with Hyper parameter tunning.\n",
    "* Also this is one of the approach to solve this problem. There can be many other approaches to solve this problem.\n",
    "* We could also try standardizing and normalizing the data or some other algorithms and so on....\n",
    "* Well you should try standardizing or normalizing the data and then observe the difference in f1 score.\n",
    "* Also try doing using Decision Tree.\n"
   ]
  },
  {
   "cell_type": "markdown",
   "metadata": {
    "id": "8sz7VnZvbXk3",
    "papermill": {
     "duration": 0.18334,
     "end_time": "2020-10-03T08:49:50.553392",
     "exception": false,
     "start_time": "2020-10-03T08:49:50.370052",
     "status": "completed"
    },
    "tags": []
   },
   "source": [
    "**Now let's predict the output for new test data**\n",
    "\n",
    "Well, we will predict the output for new test data using the Random Forest model with the selected features using Boruta and also with the best parameters that we got during hyper parmeter tunning because we have got the highest f1 score with this model on **X_test** data (also called the validation data). We can directly use **grid_search** variable to predict as this variable is the reference to the trained model."
   ]
  },
  {
   "cell_type": "markdown",
   "metadata": {
    "id": "6Zcses6n93dK",
    "papermill": {
     "duration": 0.17783,
     "end_time": "2020-10-03T08:49:50.911625",
     "exception": false,
     "start_time": "2020-10-03T08:49:50.733795",
     "status": "completed"
    },
    "tags": []
   },
   "source": [
    "## New Test Data\n",
    "Tasks to be performed:\n",
    "*  Load the new test data\n",
    "*  Data Preparation - same as done on training data\n",
    "*  If missing values are there then fill the missing values with the same techniques that were used for training dataset\n",
    "*  Convert categorical column to numerical\n",
    "*  Predict the output\n",
    "*  Download the predicted values in csv\n",
    "\n",
    "Why do we need to do the same procedure of filling missing values, data cleaning and data preprocessing on the new test data as it was done for the training and evaluation data?\n",
    "\n",
    "**Ans:** Because our model has been trained on certain format of data and if we don't provide the testing data of the similar format, the model will give erroneous predictions and the accuracy/f1 score of the model will decrease. Also, if the model was build on 'n' number of features, while predicting on new test data you should always give the same number of features to the model. In this case if you provide different number of features while predicting the output, your ML model will throw a **ValueError** saying something like **'number of features given x; expecting n'**. Not confident about these statements? Well, as a data scientist you should always perform some experiment and observe the results."
   ]
  },
  {
   "cell_type": "code",
   "execution_count": 59,
   "metadata": {
    "execution": {
     "iopub.execute_input": "2020-10-03T08:49:51.272927Z",
     "iopub.status.busy": "2020-10-03T08:49:51.272083Z",
     "iopub.status.idle": "2020-10-03T08:49:51.275521Z",
     "shell.execute_reply": "2020-10-03T08:49:51.274854Z"
    },
    "id": "80TT19IcN4Jk",
    "papermill": {
     "duration": 0.185273,
     "end_time": "2020-10-03T08:49:51.275652",
     "exception": false,
     "start_time": "2020-10-03T08:49:51.090379",
     "status": "completed"
    },
    "tags": []
   },
   "outputs": [],
   "source": [
    "import pandas as pd"
   ]
  },
  {
   "cell_type": "code",
   "execution_count": 60,
   "metadata": {
    "execution": {
     "iopub.execute_input": "2020-10-03T08:49:51.648468Z",
     "iopub.status.busy": "2020-10-03T08:49:51.647606Z",
     "iopub.status.idle": "2020-10-03T08:49:52.403929Z",
     "shell.execute_reply": "2020-10-03T08:49:52.403035Z"
    },
    "id": "y8_OTxMO-T9S",
    "papermill": {
     "duration": 0.946752,
     "end_time": "2020-10-03T08:49:52.404069",
     "exception": false,
     "start_time": "2020-10-03T08:49:51.457317",
     "status": "completed"
    },
    "tags": []
   },
   "outputs": [],
   "source": [
    "# Load the data\n",
    "test_new_data = pd.read_csv(\"https://raw.githubusercontent.com/dphi-official/Datasets/master/pharma_data/Testing_set_advc.csv\")"
   ]
  },
  {
   "cell_type": "code",
   "execution_count": 61,
   "metadata": {
    "execution": {
     "iopub.execute_input": "2020-10-03T08:49:52.769587Z",
     "iopub.status.busy": "2020-10-03T08:49:52.768690Z",
     "iopub.status.idle": "2020-10-03T08:49:52.783866Z",
     "shell.execute_reply": "2020-10-03T08:49:52.782936Z"
    },
    "id": "A22bpfBLOKWU",
    "outputId": "b1e28a03-aef9-4e9b-9ef0-0c264234f613",
    "papermill": {
     "duration": 0.203223,
     "end_time": "2020-10-03T08:49:52.784010",
     "exception": false,
     "start_time": "2020-10-03T08:49:52.580787",
     "status": "completed"
    },
    "tags": []
   },
   "outputs": [
    {
     "name": "stdout",
     "output_type": "stream",
     "text": [
      "<class 'pandas.core.frame.DataFrame'>\n",
      "RangeIndex: 9330 entries, 0 to 9329\n",
      "Data columns (total 17 columns):\n",
      " #   Column                     Non-Null Count  Dtype  \n",
      "---  ------                     --------------  -----  \n",
      " 0   ID_Patient_Care_Situation  9330 non-null   int64  \n",
      " 1   Diagnosed_Condition        9330 non-null   int64  \n",
      " 2   Patient_ID                 9330 non-null   int64  \n",
      " 3   Treated_with_drugs         9330 non-null   object \n",
      " 4   Patient_Age                9330 non-null   int64  \n",
      " 5   Patient_Body_Mass_Index    9330 non-null   float64\n",
      " 6   Patient_Smoker             9330 non-null   object \n",
      " 7   Patient_Rural_Urban        9330 non-null   object \n",
      " 8   Patient_mental_condition   9330 non-null   object \n",
      " 9   A                          9330 non-null   float64\n",
      " 10  B                          9330 non-null   float64\n",
      " 11  C                          9330 non-null   float64\n",
      " 12  D                          9330 non-null   float64\n",
      " 13  E                          9330 non-null   float64\n",
      " 14  F                          9330 non-null   float64\n",
      " 15  Z                          9330 non-null   float64\n",
      " 16  Number_of_prev_cond        9330 non-null   float64\n",
      "dtypes: float64(9), int64(4), object(4)\n",
      "memory usage: 1.2+ MB\n"
     ]
    }
   ],
   "source": [
    "test_new_data.info()"
   ]
  },
  {
   "cell_type": "code",
   "execution_count": 62,
   "metadata": {
    "execution": {
     "iopub.execute_input": "2020-10-03T08:49:53.171262Z",
     "iopub.status.busy": "2020-10-03T08:49:53.170195Z",
     "iopub.status.idle": "2020-10-03T08:49:53.175354Z",
     "shell.execute_reply": "2020-10-03T08:49:53.174579Z"
    },
    "id": "kRGpDZjfC0H4",
    "outputId": "06b2f021-263b-4370-aeba-68f030198232",
    "papermill": {
     "duration": 0.210312,
     "end_time": "2020-10-03T08:49:53.175494",
     "exception": false,
     "start_time": "2020-10-03T08:49:52.965182",
     "status": "completed"
    },
    "tags": []
   },
   "outputs": [
    {
     "data": {
      "text/html": [
       "<div>\n",
       "<style scoped>\n",
       "    .dataframe tbody tr th:only-of-type {\n",
       "        vertical-align: middle;\n",
       "    }\n",
       "\n",
       "    .dataframe tbody tr th {\n",
       "        vertical-align: top;\n",
       "    }\n",
       "\n",
       "    .dataframe thead th {\n",
       "        text-align: right;\n",
       "    }\n",
       "</style>\n",
       "<table border=\"1\" class=\"dataframe\">\n",
       "  <thead>\n",
       "    <tr style=\"text-align: right;\">\n",
       "      <th></th>\n",
       "      <th>ID_Patient_Care_Situation</th>\n",
       "      <th>Diagnosed_Condition</th>\n",
       "      <th>Patient_ID</th>\n",
       "      <th>Treated_with_drugs</th>\n",
       "      <th>Patient_Age</th>\n",
       "      <th>Patient_Body_Mass_Index</th>\n",
       "      <th>Patient_Smoker</th>\n",
       "      <th>Patient_Rural_Urban</th>\n",
       "      <th>Patient_mental_condition</th>\n",
       "      <th>A</th>\n",
       "      <th>B</th>\n",
       "      <th>C</th>\n",
       "      <th>D</th>\n",
       "      <th>E</th>\n",
       "      <th>F</th>\n",
       "      <th>Z</th>\n",
       "      <th>Number_of_prev_cond</th>\n",
       "    </tr>\n",
       "  </thead>\n",
       "  <tbody>\n",
       "    <tr>\n",
       "      <th>0</th>\n",
       "      <td>24206</td>\n",
       "      <td>35</td>\n",
       "      <td>4640</td>\n",
       "      <td>DX5</td>\n",
       "      <td>65</td>\n",
       "      <td>20.710365</td>\n",
       "      <td>NO</td>\n",
       "      <td>RURAL</td>\n",
       "      <td>Stable</td>\n",
       "      <td>1.0</td>\n",
       "      <td>0.0</td>\n",
       "      <td>0.0</td>\n",
       "      <td>0.0</td>\n",
       "      <td>1.0</td>\n",
       "      <td>0.0</td>\n",
       "      <td>0.0</td>\n",
       "      <td>2.0</td>\n",
       "    </tr>\n",
       "    <tr>\n",
       "      <th>1</th>\n",
       "      <td>32827</td>\n",
       "      <td>30</td>\n",
       "      <td>3214</td>\n",
       "      <td>dx1</td>\n",
       "      <td>2</td>\n",
       "      <td>24.250219</td>\n",
       "      <td>NO</td>\n",
       "      <td>URBAN</td>\n",
       "      <td>Stable</td>\n",
       "      <td>1.0</td>\n",
       "      <td>0.0</td>\n",
       "      <td>0.0</td>\n",
       "      <td>0.0</td>\n",
       "      <td>1.0</td>\n",
       "      <td>0.0</td>\n",
       "      <td>0.0</td>\n",
       "      <td>2.0</td>\n",
       "    </tr>\n",
       "    <tr>\n",
       "      <th>2</th>\n",
       "      <td>3694</td>\n",
       "      <td>46</td>\n",
       "      <td>3564</td>\n",
       "      <td>dx6</td>\n",
       "      <td>1</td>\n",
       "      <td>27.139276</td>\n",
       "      <td>NO</td>\n",
       "      <td>URBAN</td>\n",
       "      <td>Stable</td>\n",
       "      <td>1.0</td>\n",
       "      <td>0.0</td>\n",
       "      <td>0.0</td>\n",
       "      <td>0.0</td>\n",
       "      <td>0.0</td>\n",
       "      <td>0.0</td>\n",
       "      <td>0.0</td>\n",
       "      <td>1.0</td>\n",
       "    </tr>\n",
       "    <tr>\n",
       "      <th>3</th>\n",
       "      <td>7164</td>\n",
       "      <td>44</td>\n",
       "      <td>5176</td>\n",
       "      <td>DX1</td>\n",
       "      <td>29</td>\n",
       "      <td>29.191759</td>\n",
       "      <td>NO</td>\n",
       "      <td>RURAL</td>\n",
       "      <td>Stable</td>\n",
       "      <td>0.0</td>\n",
       "      <td>0.0</td>\n",
       "      <td>1.0</td>\n",
       "      <td>0.0</td>\n",
       "      <td>1.0</td>\n",
       "      <td>0.0</td>\n",
       "      <td>0.0</td>\n",
       "      <td>2.0</td>\n",
       "    </tr>\n",
       "    <tr>\n",
       "      <th>4</th>\n",
       "      <td>1259</td>\n",
       "      <td>30</td>\n",
       "      <td>1101</td>\n",
       "      <td>DX5</td>\n",
       "      <td>51</td>\n",
       "      <td>20.844146</td>\n",
       "      <td>NO</td>\n",
       "      <td>URBAN</td>\n",
       "      <td>Stable</td>\n",
       "      <td>0.0</td>\n",
       "      <td>0.0</td>\n",
       "      <td>0.0</td>\n",
       "      <td>0.0</td>\n",
       "      <td>1.0</td>\n",
       "      <td>0.0</td>\n",
       "      <td>0.0</td>\n",
       "      <td>1.0</td>\n",
       "    </tr>\n",
       "  </tbody>\n",
       "</table>\n",
       "</div>"
      ],
      "text/plain": [
       "   ID_Patient_Care_Situation  Diagnosed_Condition  Patient_ID  \\\n",
       "0                      24206                   35        4640   \n",
       "1                      32827                   30        3214   \n",
       "2                       3694                   46        3564   \n",
       "3                       7164                   44        5176   \n",
       "4                       1259                   30        1101   \n",
       "\n",
       "  Treated_with_drugs  Patient_Age  Patient_Body_Mass_Index Patient_Smoker  \\\n",
       "0               DX5            65                20.710365             NO   \n",
       "1               dx1             2                24.250219            NO    \n",
       "2               dx6             1                27.139276             NO   \n",
       "3               DX1            29                29.191759            NO    \n",
       "4               DX5            51                20.844146             NO   \n",
       "\n",
       "  Patient_Rural_Urban Patient_mental_condition    A    B    C    D    E    F  \\\n",
       "0               RURAL                   Stable  1.0  0.0  0.0  0.0  1.0  0.0   \n",
       "1               URBAN                   Stable  1.0  0.0  0.0  0.0  1.0  0.0   \n",
       "2               URBAN                   Stable  1.0  0.0  0.0  0.0  0.0  0.0   \n",
       "3               RURAL                   Stable  0.0  0.0  1.0  0.0  1.0  0.0   \n",
       "4               URBAN                   Stable  0.0  0.0  0.0  0.0  1.0  0.0   \n",
       "\n",
       "     Z  Number_of_prev_cond  \n",
       "0  0.0                  2.0  \n",
       "1  0.0                  2.0  \n",
       "2  0.0                  1.0  \n",
       "3  0.0                  2.0  \n",
       "4  0.0                  1.0  "
      ]
     },
     "execution_count": 62,
     "metadata": {},
     "output_type": "execute_result"
    }
   ],
   "source": [
    "# take a look how the new test data look like\n",
    "test_new_data.head()"
   ]
  },
  {
   "cell_type": "markdown",
   "metadata": {
    "id": "jZSfE-_LZ3vl",
    "papermill": {
     "duration": 0.182634,
     "end_time": "2020-10-03T08:49:53.536617",
     "exception": false,
     "start_time": "2020-10-03T08:49:53.353983",
     "status": "completed"
    },
    "tags": []
   },
   "source": [
    "**Can you observe the new test data here?** It is in the same format as our training data before performing any cleaning and preprocessing."
   ]
  },
  {
   "cell_type": "markdown",
   "metadata": {
    "id": "J_76XMTVH42T",
    "papermill": {
     "duration": 0.178373,
     "end_time": "2020-10-03T08:49:53.896120",
     "exception": false,
     "start_time": "2020-10-03T08:49:53.717747",
     "status": "completed"
    },
    "tags": []
   },
   "source": [
    "### Data Preparation - same as we did for training data"
   ]
  },
  {
   "cell_type": "code",
   "execution_count": 63,
   "metadata": {
    "execution": {
     "iopub.execute_input": "2020-10-03T08:49:54.270726Z",
     "iopub.status.busy": "2020-10-03T08:49:54.269876Z",
     "iopub.status.idle": "2020-10-03T08:49:54.278781Z",
     "shell.execute_reply": "2020-10-03T08:49:54.278037Z"
    },
    "id": "WAX0clz1H42a",
    "outputId": "4f9696fd-e1e7-4293-d96c-a3b4d36dc6a5",
    "papermill": {
     "duration": 0.202555,
     "end_time": "2020-10-03T08:49:54.278917",
     "exception": false,
     "start_time": "2020-10-03T08:49:54.076362",
     "status": "completed"
    },
    "tags": []
   },
   "outputs": [
    {
     "data": {
      "text/plain": [
       "DX6                 1856\n",
       "DX6                  789\n",
       "DX1                  416\n",
       "DX5                  407\n",
       "DX2                  405\n",
       "                    ... \n",
       "Dx2 dx4 dx5            1\n",
       "dx1 dx2 dx3 dx5        1\n",
       "Dx1 dx4 dx5            1\n",
       "dx1 dx2 dx3 dx4        1\n",
       "dx2 dx3 dx5            1\n",
       "Name: Treated_with_drugs, Length: 173, dtype: int64"
      ]
     },
     "execution_count": 63,
     "metadata": {},
     "output_type": "execute_result"
    }
   ],
   "source": [
    "test_new_data.Treated_with_drugs.value_counts()"
   ]
  },
  {
   "cell_type": "markdown",
   "metadata": {
    "id": "LYoRdnC3H42n",
    "papermill": {
     "duration": 0.188006,
     "end_time": "2020-10-03T08:49:54.655023",
     "exception": false,
     "start_time": "2020-10-03T08:49:54.467017",
     "status": "completed"
    },
    "tags": []
   },
   "source": [
    "Let's convert all the values in the column - 'Treated_with_drugs' to upper case"
   ]
  },
  {
   "cell_type": "code",
   "execution_count": 64,
   "metadata": {
    "execution": {
     "iopub.execute_input": "2020-10-03T08:49:55.030521Z",
     "iopub.status.busy": "2020-10-03T08:49:55.029115Z",
     "iopub.status.idle": "2020-10-03T08:49:55.033181Z",
     "shell.execute_reply": "2020-10-03T08:49:55.032496Z"
    },
    "id": "FadKjpKoH42p",
    "papermill": {
     "duration": 0.196739,
     "end_time": "2020-10-03T08:49:55.033343",
     "exception": false,
     "start_time": "2020-10-03T08:49:54.836604",
     "status": "completed"
    },
    "tags": []
   },
   "outputs": [],
   "source": [
    "test_new_data['Treated_with_drugs'] = test_new_data['Treated_with_drugs'].str.upper()"
   ]
  },
  {
   "cell_type": "code",
   "execution_count": 65,
   "metadata": {
    "execution": {
     "iopub.execute_input": "2020-10-03T08:49:55.414735Z",
     "iopub.status.busy": "2020-10-03T08:49:55.413489Z",
     "iopub.status.idle": "2020-10-03T08:49:55.418981Z",
     "shell.execute_reply": "2020-10-03T08:49:55.418187Z"
    },
    "id": "waKS9Ox-H42s",
    "outputId": "50eb8f26-f517-4c4d-c31b-2ee674cab963",
    "papermill": {
     "duration": 0.201394,
     "end_time": "2020-10-03T08:49:55.419144",
     "exception": false,
     "start_time": "2020-10-03T08:49:55.217750",
     "status": "completed"
    },
    "tags": []
   },
   "outputs": [
    {
     "data": {
      "text/plain": [
       "NO       3949\n",
       "YES      2879\n",
       "NO       1424\n",
       "YES      1027\n",
       "YESS       36\n",
       "YESS       15\n",
       "Name: Patient_Smoker, dtype: int64"
      ]
     },
     "execution_count": 65,
     "metadata": {},
     "output_type": "execute_result"
    }
   ],
   "source": [
    "test_new_data.Patient_Smoker.value_counts()"
   ]
  },
  {
   "cell_type": "markdown",
   "metadata": {
    "id": "iyJ4SI0nH42w",
    "papermill": {
     "duration": 0.185287,
     "end_time": "2020-10-03T08:49:55.790071",
     "exception": false,
     "start_time": "2020-10-03T08:49:55.604784",
     "status": "completed"
    },
    "tags": []
   },
   "source": [
    "There should be three category here - NO, YES, and Cannot say"
   ]
  },
  {
   "cell_type": "code",
   "execution_count": 66,
   "metadata": {
    "execution": {
     "iopub.execute_input": "2020-10-03T08:49:56.167389Z",
     "iopub.status.busy": "2020-10-03T08:49:56.162358Z",
     "iopub.status.idle": "2020-10-03T08:49:56.172143Z",
     "shell.execute_reply": "2020-10-03T08:49:56.171354Z"
    },
    "id": "MNM9NoS8H42w",
    "papermill": {
     "duration": 0.200827,
     "end_time": "2020-10-03T08:49:56.172314",
     "exception": false,
     "start_time": "2020-10-03T08:49:55.971487",
     "status": "completed"
    },
    "tags": []
   },
   "outputs": [],
   "source": [
    "def smoker(r):\n",
    "  if (r == \"NO\") or (r == \"NO \"):\n",
    "    return 'NO'\n",
    "  elif (r == \"YES\") or (r == \"YES \") or (r == \"YESS\") or (r == \"YESS \"):\n",
    "    return 'YES'\n",
    "  else:\n",
    "    return 'Cannot say'\n",
    "\n",
    "test_new_data.Patient_Smoker = test_new_data.Patient_Smoker.apply(smoker)"
   ]
  },
  {
   "cell_type": "code",
   "execution_count": 67,
   "metadata": {
    "execution": {
     "iopub.execute_input": "2020-10-03T08:49:56.553745Z",
     "iopub.status.busy": "2020-10-03T08:49:56.552611Z",
     "iopub.status.idle": "2020-10-03T08:49:56.558041Z",
     "shell.execute_reply": "2020-10-03T08:49:56.557205Z"
    },
    "id": "8AcZb8HjH421",
    "outputId": "da32b78b-280c-45c8-a4df-2d182c0b79bc",
    "papermill": {
     "duration": 0.203033,
     "end_time": "2020-10-03T08:49:56.558178",
     "exception": false,
     "start_time": "2020-10-03T08:49:56.355145",
     "status": "completed"
    },
    "tags": []
   },
   "outputs": [
    {
     "data": {
      "text/plain": [
       "RURAL    6547\n",
       "URBAN    2783\n",
       "Name: Patient_Rural_Urban, dtype: int64"
      ]
     },
     "execution_count": 67,
     "metadata": {},
     "output_type": "execute_result"
    }
   ],
   "source": [
    "test_new_data.Patient_Rural_Urban.value_counts()"
   ]
  },
  {
   "cell_type": "code",
   "execution_count": 68,
   "metadata": {
    "execution": {
     "iopub.execute_input": "2020-10-03T08:49:56.933893Z",
     "iopub.status.busy": "2020-10-03T08:49:56.932802Z",
     "iopub.status.idle": "2020-10-03T08:49:56.938034Z",
     "shell.execute_reply": "2020-10-03T08:49:56.937416Z"
    },
    "id": "fxxlde_QH425",
    "outputId": "97870abb-09ff-42d6-f55a-0230edf20a46",
    "papermill": {
     "duration": 0.197001,
     "end_time": "2020-10-03T08:49:56.938166",
     "exception": false,
     "start_time": "2020-10-03T08:49:56.741165",
     "status": "completed"
    },
    "tags": []
   },
   "outputs": [
    {
     "data": {
      "text/plain": [
       "Stable    9330\n",
       "Name: Patient_mental_condition, dtype: int64"
      ]
     },
     "execution_count": 68,
     "metadata": {},
     "output_type": "execute_result"
    }
   ],
   "source": [
    "test_new_data.Patient_mental_condition.value_counts()"
   ]
  },
  {
   "cell_type": "markdown",
   "metadata": {
    "id": "HiEmVtgUH428",
    "papermill": {
     "duration": 0.209941,
     "end_time": "2020-10-03T08:49:57.330735",
     "exception": false,
     "start_time": "2020-10-03T08:49:57.120794",
     "status": "completed"
    },
    "tags": []
   },
   "source": [
    "There are no same value in different format in columns - 'Patient_Rural_Urban' and 'Patient_mental_condition'. So no data preparation required here. Now our dataset is good to go for EDA."
   ]
  },
  {
   "cell_type": "markdown",
   "metadata": {
    "id": "yFQlpdXA_gnL",
    "papermill": {
     "duration": 0.184012,
     "end_time": "2020-10-03T08:49:57.726963",
     "exception": false,
     "start_time": "2020-10-03T08:49:57.542951",
     "status": "completed"
    },
    "tags": []
   },
   "source": [
    "### Checking missing values"
   ]
  },
  {
   "cell_type": "code",
   "execution_count": 69,
   "metadata": {
    "execution": {
     "iopub.execute_input": "2020-10-03T08:49:58.107481Z",
     "iopub.status.busy": "2020-10-03T08:49:58.106090Z",
     "iopub.status.idle": "2020-10-03T08:49:58.115511Z",
     "shell.execute_reply": "2020-10-03T08:49:58.114671Z"
    },
    "id": "6vt-otfd_fsC",
    "outputId": "a5029280-f19d-4ece-e4c7-743ac9f99545",
    "papermill": {
     "duration": 0.206382,
     "end_time": "2020-10-03T08:49:58.115686",
     "exception": false,
     "start_time": "2020-10-03T08:49:57.909304",
     "status": "completed"
    },
    "tags": []
   },
   "outputs": [
    {
     "data": {
      "text/plain": [
       "ID_Patient_Care_Situation    0\n",
       "Diagnosed_Condition          0\n",
       "Patient_ID                   0\n",
       "Treated_with_drugs           0\n",
       "Patient_Age                  0\n",
       "Patient_Body_Mass_Index      0\n",
       "Patient_Smoker               0\n",
       "Patient_Rural_Urban          0\n",
       "Patient_mental_condition     0\n",
       "A                            0\n",
       "B                            0\n",
       "C                            0\n",
       "D                            0\n",
       "E                            0\n",
       "F                            0\n",
       "Z                            0\n",
       "Number_of_prev_cond          0\n",
       "dtype: int64"
      ]
     },
     "execution_count": 69,
     "metadata": {},
     "output_type": "execute_result"
    }
   ],
   "source": [
    "test_new_data.isnull().sum()"
   ]
  },
  {
   "cell_type": "markdown",
   "metadata": {
    "id": "hd339aqZaQ6T",
    "papermill": {
     "duration": 0.196568,
     "end_time": "2020-10-03T08:49:58.502436",
     "exception": false,
     "start_time": "2020-10-03T08:49:58.305868",
     "status": "completed"
    },
    "tags": []
   },
   "source": [
    "New test data has no missing values. So treating missing value is not required."
   ]
  },
  {
   "cell_type": "markdown",
   "metadata": {
    "id": "wq4LLewO_neT",
    "papermill": {
     "duration": 0.196698,
     "end_time": "2020-10-03T08:49:58.892013",
     "exception": false,
     "start_time": "2020-10-03T08:49:58.695315",
     "status": "completed"
    },
    "tags": []
   },
   "source": [
    "#### Preprocessing and data cleaning: same as we did on training data"
   ]
  },
  {
   "cell_type": "code",
   "execution_count": 70,
   "metadata": {
    "execution": {
     "iopub.execute_input": "2020-10-03T08:49:59.315435Z",
     "iopub.status.busy": "2020-10-03T08:49:59.311646Z",
     "iopub.status.idle": "2020-10-03T08:49:59.430714Z",
     "shell.execute_reply": "2020-10-03T08:49:59.429878Z"
    },
    "id": "vy4Fg943_uG4",
    "outputId": "badb0647-7684-47c6-edc6-09fef4b0c93c",
    "papermill": {
     "duration": 0.346328,
     "end_time": "2020-10-03T08:49:59.430851",
     "exception": false,
     "start_time": "2020-10-03T08:49:59.084523",
     "status": "completed"
    },
    "tags": []
   },
   "outputs": [
    {
     "data": {
      "text/html": [
       "<div>\n",
       "<style scoped>\n",
       "    .dataframe tbody tr th:only-of-type {\n",
       "        vertical-align: middle;\n",
       "    }\n",
       "\n",
       "    .dataframe tbody tr th {\n",
       "        vertical-align: top;\n",
       "    }\n",
       "\n",
       "    .dataframe thead th {\n",
       "        text-align: right;\n",
       "    }\n",
       "</style>\n",
       "<table border=\"1\" class=\"dataframe\">\n",
       "  <thead>\n",
       "    <tr style=\"text-align: right;\">\n",
       "      <th></th>\n",
       "      <th>DX1</th>\n",
       "      <th>DX2</th>\n",
       "      <th>DX3</th>\n",
       "      <th>DX4</th>\n",
       "      <th>DX5</th>\n",
       "      <th>DX6</th>\n",
       "    </tr>\n",
       "  </thead>\n",
       "  <tbody>\n",
       "    <tr>\n",
       "      <th>0</th>\n",
       "      <td>0</td>\n",
       "      <td>0</td>\n",
       "      <td>0</td>\n",
       "      <td>0</td>\n",
       "      <td>1</td>\n",
       "      <td>0</td>\n",
       "    </tr>\n",
       "    <tr>\n",
       "      <th>1</th>\n",
       "      <td>1</td>\n",
       "      <td>0</td>\n",
       "      <td>0</td>\n",
       "      <td>0</td>\n",
       "      <td>0</td>\n",
       "      <td>0</td>\n",
       "    </tr>\n",
       "    <tr>\n",
       "      <th>2</th>\n",
       "      <td>0</td>\n",
       "      <td>0</td>\n",
       "      <td>0</td>\n",
       "      <td>0</td>\n",
       "      <td>0</td>\n",
       "      <td>1</td>\n",
       "    </tr>\n",
       "    <tr>\n",
       "      <th>3</th>\n",
       "      <td>1</td>\n",
       "      <td>0</td>\n",
       "      <td>0</td>\n",
       "      <td>0</td>\n",
       "      <td>0</td>\n",
       "      <td>0</td>\n",
       "    </tr>\n",
       "    <tr>\n",
       "      <th>4</th>\n",
       "      <td>0</td>\n",
       "      <td>0</td>\n",
       "      <td>0</td>\n",
       "      <td>0</td>\n",
       "      <td>1</td>\n",
       "      <td>0</td>\n",
       "    </tr>\n",
       "  </tbody>\n",
       "</table>\n",
       "</div>"
      ],
      "text/plain": [
       "   DX1  DX2  DX3  DX4  DX5  DX6\n",
       "0    0    0    0    0    1    0\n",
       "1    1    0    0    0    0    0\n",
       "2    0    0    0    0    0    1\n",
       "3    1    0    0    0    0    0\n",
       "4    0    0    0    0    1    0"
      ]
     },
     "execution_count": 70,
     "metadata": {},
     "output_type": "execute_result"
    }
   ],
   "source": [
    "drugs = test_new_data['Treated_with_drugs'].str.get_dummies(sep=' ') # split all the entries\n",
    "drugs.head()"
   ]
  },
  {
   "cell_type": "code",
   "execution_count": 71,
   "metadata": {
    "execution": {
     "iopub.execute_input": "2020-10-03T08:49:59.819888Z",
     "iopub.status.busy": "2020-10-03T08:49:59.819013Z",
     "iopub.status.idle": "2020-10-03T08:49:59.853842Z",
     "shell.execute_reply": "2020-10-03T08:49:59.852951Z"
    },
    "id": "n8cnZ23hADmG",
    "outputId": "0ecf1ebf-e653-42b6-e5c2-be41e6cda514",
    "papermill": {
     "duration": 0.230086,
     "end_time": "2020-10-03T08:49:59.853980",
     "exception": false,
     "start_time": "2020-10-03T08:49:59.623894",
     "status": "completed"
    },
    "tags": []
   },
   "outputs": [
    {
     "data": {
      "text/html": [
       "<div>\n",
       "<style scoped>\n",
       "    .dataframe tbody tr th:only-of-type {\n",
       "        vertical-align: middle;\n",
       "    }\n",
       "\n",
       "    .dataframe tbody tr th {\n",
       "        vertical-align: top;\n",
       "    }\n",
       "\n",
       "    .dataframe thead th {\n",
       "        text-align: right;\n",
       "    }\n",
       "</style>\n",
       "<table border=\"1\" class=\"dataframe\">\n",
       "  <thead>\n",
       "    <tr style=\"text-align: right;\">\n",
       "      <th></th>\n",
       "      <th>ID_Patient_Care_Situation</th>\n",
       "      <th>Diagnosed_Condition</th>\n",
       "      <th>Patient_ID</th>\n",
       "      <th>Patient_Age</th>\n",
       "      <th>Patient_Body_Mass_Index</th>\n",
       "      <th>Patient_Smoker</th>\n",
       "      <th>Patient_Rural_Urban</th>\n",
       "      <th>Patient_mental_condition</th>\n",
       "      <th>A</th>\n",
       "      <th>B</th>\n",
       "      <th>...</th>\n",
       "      <th>E</th>\n",
       "      <th>F</th>\n",
       "      <th>Z</th>\n",
       "      <th>Number_of_prev_cond</th>\n",
       "      <th>DX1</th>\n",
       "      <th>DX2</th>\n",
       "      <th>DX3</th>\n",
       "      <th>DX4</th>\n",
       "      <th>DX5</th>\n",
       "      <th>DX6</th>\n",
       "    </tr>\n",
       "  </thead>\n",
       "  <tbody>\n",
       "    <tr>\n",
       "      <th>0</th>\n",
       "      <td>24206</td>\n",
       "      <td>35</td>\n",
       "      <td>4640</td>\n",
       "      <td>65</td>\n",
       "      <td>20.710365</td>\n",
       "      <td>NO</td>\n",
       "      <td>RURAL</td>\n",
       "      <td>Stable</td>\n",
       "      <td>1.0</td>\n",
       "      <td>0.0</td>\n",
       "      <td>...</td>\n",
       "      <td>1.0</td>\n",
       "      <td>0.0</td>\n",
       "      <td>0.0</td>\n",
       "      <td>2.0</td>\n",
       "      <td>0</td>\n",
       "      <td>0</td>\n",
       "      <td>0</td>\n",
       "      <td>0</td>\n",
       "      <td>1</td>\n",
       "      <td>0</td>\n",
       "    </tr>\n",
       "    <tr>\n",
       "      <th>1</th>\n",
       "      <td>32827</td>\n",
       "      <td>30</td>\n",
       "      <td>3214</td>\n",
       "      <td>2</td>\n",
       "      <td>24.250219</td>\n",
       "      <td>NO</td>\n",
       "      <td>URBAN</td>\n",
       "      <td>Stable</td>\n",
       "      <td>1.0</td>\n",
       "      <td>0.0</td>\n",
       "      <td>...</td>\n",
       "      <td>1.0</td>\n",
       "      <td>0.0</td>\n",
       "      <td>0.0</td>\n",
       "      <td>2.0</td>\n",
       "      <td>1</td>\n",
       "      <td>0</td>\n",
       "      <td>0</td>\n",
       "      <td>0</td>\n",
       "      <td>0</td>\n",
       "      <td>0</td>\n",
       "    </tr>\n",
       "    <tr>\n",
       "      <th>2</th>\n",
       "      <td>3694</td>\n",
       "      <td>46</td>\n",
       "      <td>3564</td>\n",
       "      <td>1</td>\n",
       "      <td>27.139276</td>\n",
       "      <td>NO</td>\n",
       "      <td>URBAN</td>\n",
       "      <td>Stable</td>\n",
       "      <td>1.0</td>\n",
       "      <td>0.0</td>\n",
       "      <td>...</td>\n",
       "      <td>0.0</td>\n",
       "      <td>0.0</td>\n",
       "      <td>0.0</td>\n",
       "      <td>1.0</td>\n",
       "      <td>0</td>\n",
       "      <td>0</td>\n",
       "      <td>0</td>\n",
       "      <td>0</td>\n",
       "      <td>0</td>\n",
       "      <td>1</td>\n",
       "    </tr>\n",
       "    <tr>\n",
       "      <th>3</th>\n",
       "      <td>7164</td>\n",
       "      <td>44</td>\n",
       "      <td>5176</td>\n",
       "      <td>29</td>\n",
       "      <td>29.191759</td>\n",
       "      <td>NO</td>\n",
       "      <td>RURAL</td>\n",
       "      <td>Stable</td>\n",
       "      <td>0.0</td>\n",
       "      <td>0.0</td>\n",
       "      <td>...</td>\n",
       "      <td>1.0</td>\n",
       "      <td>0.0</td>\n",
       "      <td>0.0</td>\n",
       "      <td>2.0</td>\n",
       "      <td>1</td>\n",
       "      <td>0</td>\n",
       "      <td>0</td>\n",
       "      <td>0</td>\n",
       "      <td>0</td>\n",
       "      <td>0</td>\n",
       "    </tr>\n",
       "    <tr>\n",
       "      <th>4</th>\n",
       "      <td>1259</td>\n",
       "      <td>30</td>\n",
       "      <td>1101</td>\n",
       "      <td>51</td>\n",
       "      <td>20.844146</td>\n",
       "      <td>NO</td>\n",
       "      <td>URBAN</td>\n",
       "      <td>Stable</td>\n",
       "      <td>0.0</td>\n",
       "      <td>0.0</td>\n",
       "      <td>...</td>\n",
       "      <td>1.0</td>\n",
       "      <td>0.0</td>\n",
       "      <td>0.0</td>\n",
       "      <td>1.0</td>\n",
       "      <td>0</td>\n",
       "      <td>0</td>\n",
       "      <td>0</td>\n",
       "      <td>0</td>\n",
       "      <td>1</td>\n",
       "      <td>0</td>\n",
       "    </tr>\n",
       "  </tbody>\n",
       "</table>\n",
       "<p>5 rows × 22 columns</p>\n",
       "</div>"
      ],
      "text/plain": [
       "   ID_Patient_Care_Situation  Diagnosed_Condition  Patient_ID  Patient_Age  \\\n",
       "0                      24206                   35        4640           65   \n",
       "1                      32827                   30        3214            2   \n",
       "2                       3694                   46        3564            1   \n",
       "3                       7164                   44        5176           29   \n",
       "4                       1259                   30        1101           51   \n",
       "\n",
       "   Patient_Body_Mass_Index Patient_Smoker Patient_Rural_Urban  \\\n",
       "0                20.710365             NO               RURAL   \n",
       "1                24.250219             NO               URBAN   \n",
       "2                27.139276             NO               URBAN   \n",
       "3                29.191759             NO               RURAL   \n",
       "4                20.844146             NO               URBAN   \n",
       "\n",
       "  Patient_mental_condition    A    B  ...    E    F    Z  Number_of_prev_cond  \\\n",
       "0                   Stable  1.0  0.0  ...  1.0  0.0  0.0                  2.0   \n",
       "1                   Stable  1.0  0.0  ...  1.0  0.0  0.0                  2.0   \n",
       "2                   Stable  1.0  0.0  ...  0.0  0.0  0.0                  1.0   \n",
       "3                   Stable  0.0  0.0  ...  1.0  0.0  0.0                  2.0   \n",
       "4                   Stable  0.0  0.0  ...  1.0  0.0  0.0                  1.0   \n",
       "\n",
       "   DX1  DX2  DX3  DX4  DX5  DX6  \n",
       "0    0    0    0    0    1    0  \n",
       "1    1    0    0    0    0    0  \n",
       "2    0    0    0    0    0    1  \n",
       "3    1    0    0    0    0    0  \n",
       "4    0    0    0    0    1    0  \n",
       "\n",
       "[5 rows x 22 columns]"
      ]
     },
     "execution_count": 71,
     "metadata": {},
     "output_type": "execute_result"
    }
   ],
   "source": [
    "test_new_data = pd.concat([test_new_data, drugs], axis=1)     # concat the two dataframes 'drugs' and 'data'\n",
    "test_new_data = test_new_data.drop('Treated_with_drugs', axis=1)    # dropping the column 'Treated_with_drugs' as its values are splitted into different columns\n",
    "\n",
    "test_new_data.head()"
   ]
  },
  {
   "cell_type": "code",
   "execution_count": 72,
   "metadata": {
    "execution": {
     "iopub.execute_input": "2020-10-03T08:50:00.242641Z",
     "iopub.status.busy": "2020-10-03T08:50:00.241452Z",
     "iopub.status.idle": "2020-10-03T08:50:00.246639Z",
     "shell.execute_reply": "2020-10-03T08:50:00.245833Z"
    },
    "id": "IHblEgoMAGj5",
    "outputId": "22b68b47-dded-4e14-8b64-659d5925e143",
    "papermill": {
     "duration": 0.205849,
     "end_time": "2020-10-03T08:50:00.246790",
     "exception": false,
     "start_time": "2020-10-03T08:50:00.040941",
     "status": "completed"
    },
    "tags": []
   },
   "outputs": [
    {
     "data": {
      "text/plain": [
       "NO     5373\n",
       "YES    3957\n",
       "Name: Patient_Smoker, dtype: int64"
      ]
     },
     "execution_count": 72,
     "metadata": {},
     "output_type": "execute_result"
    }
   ],
   "source": [
    "test_new_data.Patient_Smoker.value_counts()"
   ]
  },
  {
   "cell_type": "markdown",
   "metadata": {
    "id": "ZMunwhx3AVvI",
    "papermill": {
     "duration": 0.1879,
     "end_time": "2020-10-03T08:50:00.627899",
     "exception": false,
     "start_time": "2020-10-03T08:50:00.439999",
     "status": "completed"
    },
    "tags": []
   },
   "source": [
    "This data does not have value as 'Cannot say' in 'Patient_Smoker' column"
   ]
  },
  {
   "cell_type": "markdown",
   "metadata": {
    "id": "RO6ObqU6Ai6P",
    "papermill": {
     "duration": 0.189031,
     "end_time": "2020-10-03T08:50:01.002881",
     "exception": false,
     "start_time": "2020-10-03T08:50:00.813850",
     "status": "completed"
    },
    "tags": []
   },
   "source": [
    "The column 'Patient_mental_condition' has only one category 'stable'. So we can drop this column as for every observation the entry here is 'stable'."
   ]
  },
  {
   "cell_type": "code",
   "execution_count": 73,
   "metadata": {
    "execution": {
     "iopub.execute_input": "2020-10-03T08:50:01.395130Z",
     "iopub.status.busy": "2020-10-03T08:50:01.394348Z",
     "iopub.status.idle": "2020-10-03T08:50:01.398152Z",
     "shell.execute_reply": "2020-10-03T08:50:01.398788Z"
    },
    "id": "WZXrNPm-AfW7",
    "papermill": {
     "duration": 0.204354,
     "end_time": "2020-10-03T08:50:01.398962",
     "exception": false,
     "start_time": "2020-10-03T08:50:01.194608",
     "status": "completed"
    },
    "tags": []
   },
   "outputs": [],
   "source": [
    "test_new_data.drop('Patient_mental_condition', axis = 1, inplace=True)"
   ]
  },
  {
   "cell_type": "markdown",
   "metadata": {
    "id": "wXyDrpCmAoF6",
    "papermill": {
     "duration": 0.190968,
     "end_time": "2020-10-03T08:50:01.777505",
     "exception": false,
     "start_time": "2020-10-03T08:50:01.586537",
     "status": "completed"
    },
    "tags": []
   },
   "source": [
    "Now let's convert the categorical column to numerical using get_dummies() function of pandas (i.e. one hot encoding)."
   ]
  },
  {
   "cell_type": "code",
   "execution_count": 74,
   "metadata": {
    "execution": {
     "iopub.execute_input": "2020-10-03T08:50:02.162088Z",
     "iopub.status.busy": "2020-10-03T08:50:02.161278Z",
     "iopub.status.idle": "2020-10-03T08:50:02.170878Z",
     "shell.execute_reply": "2020-10-03T08:50:02.171476Z"
    },
    "id": "Sjsoy9zVAlyC",
    "papermill": {
     "duration": 0.207879,
     "end_time": "2020-10-03T08:50:02.171660",
     "exception": false,
     "start_time": "2020-10-03T08:50:01.963781",
     "status": "completed"
    },
    "tags": []
   },
   "outputs": [],
   "source": [
    "test_new_data = pd.get_dummies(test_new_data, columns=['Patient_Smoker', 'Patient_Rural_Urban'])"
   ]
  },
  {
   "cell_type": "code",
   "execution_count": 75,
   "metadata": {
    "execution": {
     "iopub.execute_input": "2020-10-03T08:50:02.557898Z",
     "iopub.status.busy": "2020-10-03T08:50:02.556879Z",
     "iopub.status.idle": "2020-10-03T08:50:02.582341Z",
     "shell.execute_reply": "2020-10-03T08:50:02.581532Z"
    },
    "id": "gya8xbU_A7w3",
    "outputId": "90613ea2-2fd8-4226-bb89-8b88b7fa75a0",
    "papermill": {
     "duration": 0.223156,
     "end_time": "2020-10-03T08:50:02.582489",
     "exception": false,
     "start_time": "2020-10-03T08:50:02.359333",
     "status": "completed"
    },
    "tags": []
   },
   "outputs": [
    {
     "data": {
      "text/html": [
       "<div>\n",
       "<style scoped>\n",
       "    .dataframe tbody tr th:only-of-type {\n",
       "        vertical-align: middle;\n",
       "    }\n",
       "\n",
       "    .dataframe tbody tr th {\n",
       "        vertical-align: top;\n",
       "    }\n",
       "\n",
       "    .dataframe thead th {\n",
       "        text-align: right;\n",
       "    }\n",
       "</style>\n",
       "<table border=\"1\" class=\"dataframe\">\n",
       "  <thead>\n",
       "    <tr style=\"text-align: right;\">\n",
       "      <th></th>\n",
       "      <th>ID_Patient_Care_Situation</th>\n",
       "      <th>Diagnosed_Condition</th>\n",
       "      <th>Patient_ID</th>\n",
       "      <th>Patient_Age</th>\n",
       "      <th>Patient_Body_Mass_Index</th>\n",
       "      <th>A</th>\n",
       "      <th>B</th>\n",
       "      <th>C</th>\n",
       "      <th>D</th>\n",
       "      <th>E</th>\n",
       "      <th>...</th>\n",
       "      <th>DX1</th>\n",
       "      <th>DX2</th>\n",
       "      <th>DX3</th>\n",
       "      <th>DX4</th>\n",
       "      <th>DX5</th>\n",
       "      <th>DX6</th>\n",
       "      <th>Patient_Smoker_NO</th>\n",
       "      <th>Patient_Smoker_YES</th>\n",
       "      <th>Patient_Rural_Urban_RURAL</th>\n",
       "      <th>Patient_Rural_Urban_URBAN</th>\n",
       "    </tr>\n",
       "  </thead>\n",
       "  <tbody>\n",
       "    <tr>\n",
       "      <th>0</th>\n",
       "      <td>24206</td>\n",
       "      <td>35</td>\n",
       "      <td>4640</td>\n",
       "      <td>65</td>\n",
       "      <td>20.710365</td>\n",
       "      <td>1.0</td>\n",
       "      <td>0.0</td>\n",
       "      <td>0.0</td>\n",
       "      <td>0.0</td>\n",
       "      <td>1.0</td>\n",
       "      <td>...</td>\n",
       "      <td>0</td>\n",
       "      <td>0</td>\n",
       "      <td>0</td>\n",
       "      <td>0</td>\n",
       "      <td>1</td>\n",
       "      <td>0</td>\n",
       "      <td>1</td>\n",
       "      <td>0</td>\n",
       "      <td>1</td>\n",
       "      <td>0</td>\n",
       "    </tr>\n",
       "    <tr>\n",
       "      <th>1</th>\n",
       "      <td>32827</td>\n",
       "      <td>30</td>\n",
       "      <td>3214</td>\n",
       "      <td>2</td>\n",
       "      <td>24.250219</td>\n",
       "      <td>1.0</td>\n",
       "      <td>0.0</td>\n",
       "      <td>0.0</td>\n",
       "      <td>0.0</td>\n",
       "      <td>1.0</td>\n",
       "      <td>...</td>\n",
       "      <td>1</td>\n",
       "      <td>0</td>\n",
       "      <td>0</td>\n",
       "      <td>0</td>\n",
       "      <td>0</td>\n",
       "      <td>0</td>\n",
       "      <td>1</td>\n",
       "      <td>0</td>\n",
       "      <td>0</td>\n",
       "      <td>1</td>\n",
       "    </tr>\n",
       "    <tr>\n",
       "      <th>2</th>\n",
       "      <td>3694</td>\n",
       "      <td>46</td>\n",
       "      <td>3564</td>\n",
       "      <td>1</td>\n",
       "      <td>27.139276</td>\n",
       "      <td>1.0</td>\n",
       "      <td>0.0</td>\n",
       "      <td>0.0</td>\n",
       "      <td>0.0</td>\n",
       "      <td>0.0</td>\n",
       "      <td>...</td>\n",
       "      <td>0</td>\n",
       "      <td>0</td>\n",
       "      <td>0</td>\n",
       "      <td>0</td>\n",
       "      <td>0</td>\n",
       "      <td>1</td>\n",
       "      <td>1</td>\n",
       "      <td>0</td>\n",
       "      <td>0</td>\n",
       "      <td>1</td>\n",
       "    </tr>\n",
       "    <tr>\n",
       "      <th>3</th>\n",
       "      <td>7164</td>\n",
       "      <td>44</td>\n",
       "      <td>5176</td>\n",
       "      <td>29</td>\n",
       "      <td>29.191759</td>\n",
       "      <td>0.0</td>\n",
       "      <td>0.0</td>\n",
       "      <td>1.0</td>\n",
       "      <td>0.0</td>\n",
       "      <td>1.0</td>\n",
       "      <td>...</td>\n",
       "      <td>1</td>\n",
       "      <td>0</td>\n",
       "      <td>0</td>\n",
       "      <td>0</td>\n",
       "      <td>0</td>\n",
       "      <td>0</td>\n",
       "      <td>1</td>\n",
       "      <td>0</td>\n",
       "      <td>1</td>\n",
       "      <td>0</td>\n",
       "    </tr>\n",
       "    <tr>\n",
       "      <th>4</th>\n",
       "      <td>1259</td>\n",
       "      <td>30</td>\n",
       "      <td>1101</td>\n",
       "      <td>51</td>\n",
       "      <td>20.844146</td>\n",
       "      <td>0.0</td>\n",
       "      <td>0.0</td>\n",
       "      <td>0.0</td>\n",
       "      <td>0.0</td>\n",
       "      <td>1.0</td>\n",
       "      <td>...</td>\n",
       "      <td>0</td>\n",
       "      <td>0</td>\n",
       "      <td>0</td>\n",
       "      <td>0</td>\n",
       "      <td>1</td>\n",
       "      <td>0</td>\n",
       "      <td>1</td>\n",
       "      <td>0</td>\n",
       "      <td>0</td>\n",
       "      <td>1</td>\n",
       "    </tr>\n",
       "  </tbody>\n",
       "</table>\n",
       "<p>5 rows × 23 columns</p>\n",
       "</div>"
      ],
      "text/plain": [
       "   ID_Patient_Care_Situation  Diagnosed_Condition  Patient_ID  Patient_Age  \\\n",
       "0                      24206                   35        4640           65   \n",
       "1                      32827                   30        3214            2   \n",
       "2                       3694                   46        3564            1   \n",
       "3                       7164                   44        5176           29   \n",
       "4                       1259                   30        1101           51   \n",
       "\n",
       "   Patient_Body_Mass_Index    A    B    C    D    E  ...  DX1  DX2  DX3  DX4  \\\n",
       "0                20.710365  1.0  0.0  0.0  0.0  1.0  ...    0    0    0    0   \n",
       "1                24.250219  1.0  0.0  0.0  0.0  1.0  ...    1    0    0    0   \n",
       "2                27.139276  1.0  0.0  0.0  0.0  0.0  ...    0    0    0    0   \n",
       "3                29.191759  0.0  0.0  1.0  0.0  1.0  ...    1    0    0    0   \n",
       "4                20.844146  0.0  0.0  0.0  0.0  1.0  ...    0    0    0    0   \n",
       "\n",
       "   DX5  DX6  Patient_Smoker_NO  Patient_Smoker_YES  Patient_Rural_Urban_RURAL  \\\n",
       "0    1    0                  1                   0                          1   \n",
       "1    0    0                  1                   0                          0   \n",
       "2    0    1                  1                   0                          0   \n",
       "3    0    0                  1                   0                          1   \n",
       "4    1    0                  1                   0                          0   \n",
       "\n",
       "   Patient_Rural_Urban_URBAN  \n",
       "0                          0  \n",
       "1                          1  \n",
       "2                          1  \n",
       "3                          0  \n",
       "4                          1  \n",
       "\n",
       "[5 rows x 23 columns]"
      ]
     },
     "execution_count": 75,
     "metadata": {},
     "output_type": "execute_result"
    }
   ],
   "source": [
    "test_new_data.head()"
   ]
  },
  {
   "cell_type": "code",
   "execution_count": 76,
   "metadata": {
    "execution": {
     "iopub.execute_input": "2020-10-03T08:50:03.042896Z",
     "iopub.status.busy": "2020-10-03T08:50:03.041619Z",
     "iopub.status.idle": "2020-10-03T08:50:03.057592Z",
     "shell.execute_reply": "2020-10-03T08:50:03.056771Z"
    },
    "id": "JaziRrQVA-jT",
    "outputId": "73e2b4b4-7862-4fcb-9183-76100f7d45f1",
    "papermill": {
     "duration": 0.283181,
     "end_time": "2020-10-03T08:50:03.057729",
     "exception": false,
     "start_time": "2020-10-03T08:50:02.774548",
     "status": "completed"
    },
    "tags": []
   },
   "outputs": [
    {
     "name": "stdout",
     "output_type": "stream",
     "text": [
      "<class 'pandas.core.frame.DataFrame'>\n",
      "RangeIndex: 9330 entries, 0 to 9329\n",
      "Data columns (total 23 columns):\n",
      " #   Column                     Non-Null Count  Dtype  \n",
      "---  ------                     --------------  -----  \n",
      " 0   ID_Patient_Care_Situation  9330 non-null   int64  \n",
      " 1   Diagnosed_Condition        9330 non-null   int64  \n",
      " 2   Patient_ID                 9330 non-null   int64  \n",
      " 3   Patient_Age                9330 non-null   int64  \n",
      " 4   Patient_Body_Mass_Index    9330 non-null   float64\n",
      " 5   A                          9330 non-null   float64\n",
      " 6   B                          9330 non-null   float64\n",
      " 7   C                          9330 non-null   float64\n",
      " 8   D                          9330 non-null   float64\n",
      " 9   E                          9330 non-null   float64\n",
      " 10  F                          9330 non-null   float64\n",
      " 11  Z                          9330 non-null   float64\n",
      " 12  Number_of_prev_cond        9330 non-null   float64\n",
      " 13  DX1                        9330 non-null   int64  \n",
      " 14  DX2                        9330 non-null   int64  \n",
      " 15  DX3                        9330 non-null   int64  \n",
      " 16  DX4                        9330 non-null   int64  \n",
      " 17  DX5                        9330 non-null   int64  \n",
      " 18  DX6                        9330 non-null   int64  \n",
      " 19  Patient_Smoker_NO          9330 non-null   uint8  \n",
      " 20  Patient_Smoker_YES         9330 non-null   uint8  \n",
      " 21  Patient_Rural_Urban_RURAL  9330 non-null   uint8  \n",
      " 22  Patient_Rural_Urban_URBAN  9330 non-null   uint8  \n",
      "dtypes: float64(9), int64(10), uint8(4)\n",
      "memory usage: 1.4 MB\n"
     ]
    }
   ],
   "source": [
    "test_new_data.info()"
   ]
  },
  {
   "cell_type": "markdown",
   "metadata": {
    "id": "6vq9tDkbBDdx",
    "papermill": {
     "duration": 0.191589,
     "end_time": "2020-10-03T08:50:03.454850",
     "exception": false,
     "start_time": "2020-10-03T08:50:03.263261",
     "status": "completed"
    },
    "tags": []
   },
   "source": [
    "As you can see there are no missing data now and all the data are of numerical type.\n",
    "\n",
    "The column - 'ID_Patient_Care_Situation' is an ID. Here we can remove this column too as we did in training dataset."
   ]
  },
  {
   "cell_type": "code",
   "execution_count": 77,
   "metadata": {
    "execution": {
     "iopub.execute_input": "2020-10-03T08:50:03.837350Z",
     "iopub.status.busy": "2020-10-03T08:50:03.836511Z",
     "iopub.status.idle": "2020-10-03T08:50:03.840431Z",
     "shell.execute_reply": "2020-10-03T08:50:03.839681Z"
    },
    "id": "WZyfjhDuBAvk",
    "papermill": {
     "duration": 0.199003,
     "end_time": "2020-10-03T08:50:03.840557",
     "exception": false,
     "start_time": "2020-10-03T08:50:03.641554",
     "status": "completed"
    },
    "tags": []
   },
   "outputs": [],
   "source": [
    "test_new_data.drop(['ID_Patient_Care_Situation'], axis =1, inplace=True)"
   ]
  },
  {
   "cell_type": "code",
   "execution_count": 78,
   "metadata": {
    "execution": {
     "iopub.execute_input": "2020-10-03T08:50:04.229207Z",
     "iopub.status.busy": "2020-10-03T08:50:04.228370Z",
     "iopub.status.idle": "2020-10-03T08:50:04.244748Z",
     "shell.execute_reply": "2020-10-03T08:50:04.243700Z"
    },
    "id": "EjC5UjtRFihV",
    "outputId": "9b654f78-145f-4750-e47e-fb8d0df9ebe5",
    "papermill": {
     "duration": 0.214898,
     "end_time": "2020-10-03T08:50:04.244998",
     "exception": false,
     "start_time": "2020-10-03T08:50:04.030100",
     "status": "completed"
    },
    "tags": []
   },
   "outputs": [
    {
     "name": "stdout",
     "output_type": "stream",
     "text": [
      "<class 'pandas.core.frame.DataFrame'>\n",
      "RangeIndex: 9330 entries, 0 to 9329\n",
      "Data columns (total 22 columns):\n",
      " #   Column                     Non-Null Count  Dtype  \n",
      "---  ------                     --------------  -----  \n",
      " 0   Diagnosed_Condition        9330 non-null   int64  \n",
      " 1   Patient_ID                 9330 non-null   int64  \n",
      " 2   Patient_Age                9330 non-null   int64  \n",
      " 3   Patient_Body_Mass_Index    9330 non-null   float64\n",
      " 4   A                          9330 non-null   float64\n",
      " 5   B                          9330 non-null   float64\n",
      " 6   C                          9330 non-null   float64\n",
      " 7   D                          9330 non-null   float64\n",
      " 8   E                          9330 non-null   float64\n",
      " 9   F                          9330 non-null   float64\n",
      " 10  Z                          9330 non-null   float64\n",
      " 11  Number_of_prev_cond        9330 non-null   float64\n",
      " 12  DX1                        9330 non-null   int64  \n",
      " 13  DX2                        9330 non-null   int64  \n",
      " 14  DX3                        9330 non-null   int64  \n",
      " 15  DX4                        9330 non-null   int64  \n",
      " 16  DX5                        9330 non-null   int64  \n",
      " 17  DX6                        9330 non-null   int64  \n",
      " 18  Patient_Smoker_NO          9330 non-null   uint8  \n",
      " 19  Patient_Smoker_YES         9330 non-null   uint8  \n",
      " 20  Patient_Rural_Urban_RURAL  9330 non-null   uint8  \n",
      " 21  Patient_Rural_Urban_URBAN  9330 non-null   uint8  \n",
      "dtypes: float64(9), int64(9), uint8(4)\n",
      "memory usage: 1.3 MB\n"
     ]
    }
   ],
   "source": [
    "test_new_data.info()"
   ]
  },
  {
   "cell_type": "markdown",
   "metadata": {
    "id": "lzkiM-AdBU12",
    "papermill": {
     "duration": 0.195446,
     "end_time": "2020-10-03T08:50:04.642792",
     "exception": false,
     "start_time": "2020-10-03T08:50:04.447346",
     "status": "completed"
    },
    "tags": []
   },
   "source": [
    "### Prediction"
   ]
  },
  {
   "cell_type": "code",
   "execution_count": 79,
   "metadata": {
    "execution": {
     "iopub.execute_input": "2020-10-03T08:50:05.023435Z",
     "iopub.status.busy": "2020-10-03T08:50:05.022638Z",
     "iopub.status.idle": "2020-10-03T08:50:05.028482Z",
     "shell.execute_reply": "2020-10-03T08:50:05.027832Z"
    },
    "id": "wjv4Y2YsCdyv",
    "papermill": {
     "duration": 0.197177,
     "end_time": "2020-10-03T08:50:05.028626",
     "exception": false,
     "start_time": "2020-10-03T08:50:04.831449",
     "status": "completed"
    },
    "tags": []
   },
   "outputs": [],
   "source": [
    "imp_test_features = boruta_selector.transform(np.array(test_new_data))"
   ]
  },
  {
   "cell_type": "code",
   "execution_count": 80,
   "metadata": {
    "execution": {
     "iopub.execute_input": "2020-10-03T08:50:05.424175Z",
     "iopub.status.busy": "2020-10-03T08:50:05.423081Z",
     "iopub.status.idle": "2020-10-03T08:50:06.423817Z",
     "shell.execute_reply": "2020-10-03T08:50:06.423090Z"
    },
    "id": "nLzLw7qmBWwZ",
    "papermill": {
     "duration": 1.201678,
     "end_time": "2020-10-03T08:50:06.423965",
     "exception": false,
     "start_time": "2020-10-03T08:50:05.222287",
     "status": "completed"
    },
    "tags": []
   },
   "outputs": [],
   "source": [
    "prediction = grid_search.predict(imp_test_features)"
   ]
  },
  {
   "cell_type": "markdown",
   "metadata": {
    "papermill": {
     "duration": 0.205652,
     "end_time": "2020-10-03T08:50:06.846910",
     "exception": false,
     "start_time": "2020-10-03T08:50:06.641258",
     "status": "completed"
    },
    "tags": []
   },
   "source": [
    "## Thanks for reading the Notebook! Upvote if you learned anything new 😄"
   ]
  }
 ],
 "metadata": {
  "kernelspec": {
   "display_name": "Python 3",
   "language": "python",
   "name": "python3"
  },
  "language_info": {
   "codemirror_mode": {
    "name": "ipython",
    "version": 3
   },
   "file_extension": ".py",
   "mimetype": "text/x-python",
   "name": "python",
   "nbconvert_exporter": "python",
   "pygments_lexer": "ipython3",
   "version": "3.7.6"
  },
  "papermill": {
   "duration": 436.47198,
   "end_time": "2020-10-03T08:50:07.155766",
   "environment_variables": {},
   "exception": null,
   "input_path": "__notebook__.ipynb",
   "output_path": "__notebook__.ipynb",
   "parameters": {},
   "start_time": "2020-10-03T08:42:50.683786",
   "version": "2.1.0"
  }
 },
 "nbformat": 4,
 "nbformat_minor": 4
}
